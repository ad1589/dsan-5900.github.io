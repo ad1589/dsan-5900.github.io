{
  "cells": [
    {
      "cell_type": "raw",
      "metadata": {},
      "source": [
        "---\n",
        "title: Student Admissions\n",
        "author: 'Amelia Baier, Andrea Dukic, Mia Mayerhofer'\n",
        "format:\n",
        "  html:\n",
        "    code-fold: true\n",
        "    code-tools: true\n",
        "    toc: true\n",
        "    embed-resources: true\n",
        "    style: styles.css\n",
        "execute:\n",
        "  echo: true\n",
        "  warning: false\n",
        "project:\n",
        "  type: website\n",
        "  output-dir: ../docs\n",
        "---"
      ]
    },
    {
      "cell_type": "markdown",
      "metadata": {},
      "source": [
        "# Introduction\n"
      ]
    },
    {
      "cell_type": "markdown",
      "metadata": {},
      "source": [
        "# Demographic Insights"
      ]
    },
    {
      "cell_type": "markdown",
      "metadata": {},
      "source": [
        "## Geographic "
      ]
    },
    {
      "cell_type": "code",
      "execution_count": 15,
      "metadata": {},
      "outputs": [],
      "source": [
        "import pandas as pd\n",
        "import altair as alt\n",
        "import seaborn as sns\n",
        "import plotly.express as px\n",
        "from vega_datasets import data\n",
        "import matplotlib.pyplot as plt"
      ]
    },
    {
      "cell_type": "code",
      "execution_count": 7,
      "metadata": {},
      "outputs": [],
      "source": [
        "df = pd.read_csv('../data/clean_data.csv')"
      ]
    },
    {
      "cell_type": "code",
      "execution_count": 9,
      "metadata": {},
      "outputs": [],
      "source": [
        "custom_palette = ['#00072D', '#0A2472', '#0E6BA8', '#A6E1FA', '#99ABC5', '#8B748F', '#6F0624']"
      ]
    },
    {
      "cell_type": "code",
      "execution_count": 8,
      "metadata": {},
      "outputs": [],
      "source": [
        "#calculate averages of all numeric columns\n",
        "num_cols = df[['State', 'GPA', 'WorkExp', 'TestScore', 'WritingScore', 'VolunteerLevel']]\n",
        "avg_df = num_cols.groupby('State').mean().reset_index()\n",
        "state_abbr = {\n",
        "    'Alabama': 'AL',\n",
        "    'California': 'CA',\n",
        "    'Colorado': 'CO',\n",
        "    'Florida': 'FL',\n",
        "    'Georgia': 'GA',\n",
        "    'Mississippi': 'MS',\n",
        "    'New York': 'NY',\n",
        "    'Oregon': 'OR',\n",
        "    'Utah': 'UT',\n",
        "    'Vermont': 'VT',\n",
        "    'Virginia': 'VA'\n",
        "\n",
        "}\n",
        "avg_df['State_Abbr'] = avg_df['State'].map(state_abbr)\n",
        "avg_df = avg_df.drop(columns=['State'])\n",
        "avg_df = avg_df.rename(columns={'State_Abbr': 'State'})"
      ]
    },
    {
      "cell_type": "code",
      "execution_count": 12,
      "metadata": {},
      "outputs": [
        {
          "data": {
            "application/vnd.plotly.v1+json": {
              "config": {
                "plotlyServerURL": "https://plotly.com"
              },
              "data": [
                {
                  "coloraxis": "coloraxis",
                  "customdata": [
                    [
                      "AL",
                      3.41
                    ],
                    [
                      "CA",
                      3.6008333333333336
                    ],
                    [
                      "CO",
                      3.467222222222222
                    ],
                    [
                      "FL",
                      3.559142857142857
                    ],
                    [
                      "MS",
                      2.91
                    ],
                    [
                      "NY",
                      3.55
                    ],
                    [
                      "OR",
                      2.9
                    ],
                    [
                      "UT",
                      3.4433333333333334
                    ],
                    [
                      "VT",
                      3.53
                    ],
                    [
                      "VA",
                      3.1425
                    ]
                  ],
                  "geo": "geo",
                  "hovertemplate": "State=%{customdata[0]}<br>Selected Variable=%{z}<extra></extra>",
                  "locationmode": "USA-states",
                  "locations": [
                    "AL",
                    "CA",
                    "CO",
                    "FL",
                    "MS",
                    "NY",
                    "OR",
                    "UT",
                    "VT",
                    "VA"
                  ],
                  "name": "",
                  "type": "choropleth",
                  "z": [
                    3.41,
                    3.6008333333333336,
                    3.467222222222222,
                    3.559142857142857,
                    2.91,
                    3.55,
                    2.9,
                    3.4433333333333334,
                    3.53,
                    3.1425
                  ]
                }
              ],
              "layout": {
                "coloraxis": {
                  "colorbar": {
                    "title": {
                      "text": "Selected Variable"
                    }
                  },
                  "colorscale": [
                    [
                      0,
                      "#00072D"
                    ],
                    [
                      0.16666666666666666,
                      "#0A2472"
                    ],
                    [
                      0.3333333333333333,
                      "#0E6BA8"
                    ],
                    [
                      0.5,
                      "#A6E1FA"
                    ],
                    [
                      0.6666666666666666,
                      "#99ABC5"
                    ],
                    [
                      0.8333333333333334,
                      "#8B748F"
                    ],
                    [
                      1,
                      "#6F0624"
                    ]
                  ]
                },
                "geo": {
                  "center": {},
                  "domain": {
                    "x": [
                      0,
                      1
                    ],
                    "y": [
                      0,
                      1
                    ]
                  },
                  "scope": "usa"
                },
                "legend": {
                  "tracegroupgap": 0
                },
                "margin": {
                  "t": 60
                },
                "template": {
                  "data": {
                    "bar": [
                      {
                        "error_x": {
                          "color": "#2a3f5f"
                        },
                        "error_y": {
                          "color": "#2a3f5f"
                        },
                        "marker": {
                          "line": {
                            "color": "#E5ECF6",
                            "width": 0.5
                          },
                          "pattern": {
                            "fillmode": "overlay",
                            "size": 10,
                            "solidity": 0.2
                          }
                        },
                        "type": "bar"
                      }
                    ],
                    "barpolar": [
                      {
                        "marker": {
                          "line": {
                            "color": "#E5ECF6",
                            "width": 0.5
                          },
                          "pattern": {
                            "fillmode": "overlay",
                            "size": 10,
                            "solidity": 0.2
                          }
                        },
                        "type": "barpolar"
                      }
                    ],
                    "carpet": [
                      {
                        "aaxis": {
                          "endlinecolor": "#2a3f5f",
                          "gridcolor": "white",
                          "linecolor": "white",
                          "minorgridcolor": "white",
                          "startlinecolor": "#2a3f5f"
                        },
                        "baxis": {
                          "endlinecolor": "#2a3f5f",
                          "gridcolor": "white",
                          "linecolor": "white",
                          "minorgridcolor": "white",
                          "startlinecolor": "#2a3f5f"
                        },
                        "type": "carpet"
                      }
                    ],
                    "choropleth": [
                      {
                        "colorbar": {
                          "outlinewidth": 0,
                          "ticks": ""
                        },
                        "type": "choropleth"
                      }
                    ],
                    "contour": [
                      {
                        "colorbar": {
                          "outlinewidth": 0,
                          "ticks": ""
                        },
                        "colorscale": [
                          [
                            0,
                            "#0d0887"
                          ],
                          [
                            0.1111111111111111,
                            "#46039f"
                          ],
                          [
                            0.2222222222222222,
                            "#7201a8"
                          ],
                          [
                            0.3333333333333333,
                            "#9c179e"
                          ],
                          [
                            0.4444444444444444,
                            "#bd3786"
                          ],
                          [
                            0.5555555555555556,
                            "#d8576b"
                          ],
                          [
                            0.6666666666666666,
                            "#ed7953"
                          ],
                          [
                            0.7777777777777778,
                            "#fb9f3a"
                          ],
                          [
                            0.8888888888888888,
                            "#fdca26"
                          ],
                          [
                            1,
                            "#f0f921"
                          ]
                        ],
                        "type": "contour"
                      }
                    ],
                    "contourcarpet": [
                      {
                        "colorbar": {
                          "outlinewidth": 0,
                          "ticks": ""
                        },
                        "type": "contourcarpet"
                      }
                    ],
                    "heatmap": [
                      {
                        "colorbar": {
                          "outlinewidth": 0,
                          "ticks": ""
                        },
                        "colorscale": [
                          [
                            0,
                            "#0d0887"
                          ],
                          [
                            0.1111111111111111,
                            "#46039f"
                          ],
                          [
                            0.2222222222222222,
                            "#7201a8"
                          ],
                          [
                            0.3333333333333333,
                            "#9c179e"
                          ],
                          [
                            0.4444444444444444,
                            "#bd3786"
                          ],
                          [
                            0.5555555555555556,
                            "#d8576b"
                          ],
                          [
                            0.6666666666666666,
                            "#ed7953"
                          ],
                          [
                            0.7777777777777778,
                            "#fb9f3a"
                          ],
                          [
                            0.8888888888888888,
                            "#fdca26"
                          ],
                          [
                            1,
                            "#f0f921"
                          ]
                        ],
                        "type": "heatmap"
                      }
                    ],
                    "heatmapgl": [
                      {
                        "colorbar": {
                          "outlinewidth": 0,
                          "ticks": ""
                        },
                        "colorscale": [
                          [
                            0,
                            "#0d0887"
                          ],
                          [
                            0.1111111111111111,
                            "#46039f"
                          ],
                          [
                            0.2222222222222222,
                            "#7201a8"
                          ],
                          [
                            0.3333333333333333,
                            "#9c179e"
                          ],
                          [
                            0.4444444444444444,
                            "#bd3786"
                          ],
                          [
                            0.5555555555555556,
                            "#d8576b"
                          ],
                          [
                            0.6666666666666666,
                            "#ed7953"
                          ],
                          [
                            0.7777777777777778,
                            "#fb9f3a"
                          ],
                          [
                            0.8888888888888888,
                            "#fdca26"
                          ],
                          [
                            1,
                            "#f0f921"
                          ]
                        ],
                        "type": "heatmapgl"
                      }
                    ],
                    "histogram": [
                      {
                        "marker": {
                          "pattern": {
                            "fillmode": "overlay",
                            "size": 10,
                            "solidity": 0.2
                          }
                        },
                        "type": "histogram"
                      }
                    ],
                    "histogram2d": [
                      {
                        "colorbar": {
                          "outlinewidth": 0,
                          "ticks": ""
                        },
                        "colorscale": [
                          [
                            0,
                            "#0d0887"
                          ],
                          [
                            0.1111111111111111,
                            "#46039f"
                          ],
                          [
                            0.2222222222222222,
                            "#7201a8"
                          ],
                          [
                            0.3333333333333333,
                            "#9c179e"
                          ],
                          [
                            0.4444444444444444,
                            "#bd3786"
                          ],
                          [
                            0.5555555555555556,
                            "#d8576b"
                          ],
                          [
                            0.6666666666666666,
                            "#ed7953"
                          ],
                          [
                            0.7777777777777778,
                            "#fb9f3a"
                          ],
                          [
                            0.8888888888888888,
                            "#fdca26"
                          ],
                          [
                            1,
                            "#f0f921"
                          ]
                        ],
                        "type": "histogram2d"
                      }
                    ],
                    "histogram2dcontour": [
                      {
                        "colorbar": {
                          "outlinewidth": 0,
                          "ticks": ""
                        },
                        "colorscale": [
                          [
                            0,
                            "#0d0887"
                          ],
                          [
                            0.1111111111111111,
                            "#46039f"
                          ],
                          [
                            0.2222222222222222,
                            "#7201a8"
                          ],
                          [
                            0.3333333333333333,
                            "#9c179e"
                          ],
                          [
                            0.4444444444444444,
                            "#bd3786"
                          ],
                          [
                            0.5555555555555556,
                            "#d8576b"
                          ],
                          [
                            0.6666666666666666,
                            "#ed7953"
                          ],
                          [
                            0.7777777777777778,
                            "#fb9f3a"
                          ],
                          [
                            0.8888888888888888,
                            "#fdca26"
                          ],
                          [
                            1,
                            "#f0f921"
                          ]
                        ],
                        "type": "histogram2dcontour"
                      }
                    ],
                    "mesh3d": [
                      {
                        "colorbar": {
                          "outlinewidth": 0,
                          "ticks": ""
                        },
                        "type": "mesh3d"
                      }
                    ],
                    "parcoords": [
                      {
                        "line": {
                          "colorbar": {
                            "outlinewidth": 0,
                            "ticks": ""
                          }
                        },
                        "type": "parcoords"
                      }
                    ],
                    "pie": [
                      {
                        "automargin": true,
                        "type": "pie"
                      }
                    ],
                    "scatter": [
                      {
                        "fillpattern": {
                          "fillmode": "overlay",
                          "size": 10,
                          "solidity": 0.2
                        },
                        "type": "scatter"
                      }
                    ],
                    "scatter3d": [
                      {
                        "line": {
                          "colorbar": {
                            "outlinewidth": 0,
                            "ticks": ""
                          }
                        },
                        "marker": {
                          "colorbar": {
                            "outlinewidth": 0,
                            "ticks": ""
                          }
                        },
                        "type": "scatter3d"
                      }
                    ],
                    "scattercarpet": [
                      {
                        "marker": {
                          "colorbar": {
                            "outlinewidth": 0,
                            "ticks": ""
                          }
                        },
                        "type": "scattercarpet"
                      }
                    ],
                    "scattergeo": [
                      {
                        "marker": {
                          "colorbar": {
                            "outlinewidth": 0,
                            "ticks": ""
                          }
                        },
                        "type": "scattergeo"
                      }
                    ],
                    "scattergl": [
                      {
                        "marker": {
                          "colorbar": {
                            "outlinewidth": 0,
                            "ticks": ""
                          }
                        },
                        "type": "scattergl"
                      }
                    ],
                    "scattermapbox": [
                      {
                        "marker": {
                          "colorbar": {
                            "outlinewidth": 0,
                            "ticks": ""
                          }
                        },
                        "type": "scattermapbox"
                      }
                    ],
                    "scatterpolar": [
                      {
                        "marker": {
                          "colorbar": {
                            "outlinewidth": 0,
                            "ticks": ""
                          }
                        },
                        "type": "scatterpolar"
                      }
                    ],
                    "scatterpolargl": [
                      {
                        "marker": {
                          "colorbar": {
                            "outlinewidth": 0,
                            "ticks": ""
                          }
                        },
                        "type": "scatterpolargl"
                      }
                    ],
                    "scatterternary": [
                      {
                        "marker": {
                          "colorbar": {
                            "outlinewidth": 0,
                            "ticks": ""
                          }
                        },
                        "type": "scatterternary"
                      }
                    ],
                    "surface": [
                      {
                        "colorbar": {
                          "outlinewidth": 0,
                          "ticks": ""
                        },
                        "colorscale": [
                          [
                            0,
                            "#0d0887"
                          ],
                          [
                            0.1111111111111111,
                            "#46039f"
                          ],
                          [
                            0.2222222222222222,
                            "#7201a8"
                          ],
                          [
                            0.3333333333333333,
                            "#9c179e"
                          ],
                          [
                            0.4444444444444444,
                            "#bd3786"
                          ],
                          [
                            0.5555555555555556,
                            "#d8576b"
                          ],
                          [
                            0.6666666666666666,
                            "#ed7953"
                          ],
                          [
                            0.7777777777777778,
                            "#fb9f3a"
                          ],
                          [
                            0.8888888888888888,
                            "#fdca26"
                          ],
                          [
                            1,
                            "#f0f921"
                          ]
                        ],
                        "type": "surface"
                      }
                    ],
                    "table": [
                      {
                        "cells": {
                          "fill": {
                            "color": "#EBF0F8"
                          },
                          "line": {
                            "color": "white"
                          }
                        },
                        "header": {
                          "fill": {
                            "color": "#C8D4E3"
                          },
                          "line": {
                            "color": "white"
                          }
                        },
                        "type": "table"
                      }
                    ]
                  },
                  "layout": {
                    "annotationdefaults": {
                      "arrowcolor": "#2a3f5f",
                      "arrowhead": 0,
                      "arrowwidth": 1
                    },
                    "autotypenumbers": "strict",
                    "coloraxis": {
                      "colorbar": {
                        "outlinewidth": 0,
                        "ticks": ""
                      }
                    },
                    "colorscale": {
                      "diverging": [
                        [
                          0,
                          "#8e0152"
                        ],
                        [
                          0.1,
                          "#c51b7d"
                        ],
                        [
                          0.2,
                          "#de77ae"
                        ],
                        [
                          0.3,
                          "#f1b6da"
                        ],
                        [
                          0.4,
                          "#fde0ef"
                        ],
                        [
                          0.5,
                          "#f7f7f7"
                        ],
                        [
                          0.6,
                          "#e6f5d0"
                        ],
                        [
                          0.7,
                          "#b8e186"
                        ],
                        [
                          0.8,
                          "#7fbc41"
                        ],
                        [
                          0.9,
                          "#4d9221"
                        ],
                        [
                          1,
                          "#276419"
                        ]
                      ],
                      "sequential": [
                        [
                          0,
                          "#0d0887"
                        ],
                        [
                          0.1111111111111111,
                          "#46039f"
                        ],
                        [
                          0.2222222222222222,
                          "#7201a8"
                        ],
                        [
                          0.3333333333333333,
                          "#9c179e"
                        ],
                        [
                          0.4444444444444444,
                          "#bd3786"
                        ],
                        [
                          0.5555555555555556,
                          "#d8576b"
                        ],
                        [
                          0.6666666666666666,
                          "#ed7953"
                        ],
                        [
                          0.7777777777777778,
                          "#fb9f3a"
                        ],
                        [
                          0.8888888888888888,
                          "#fdca26"
                        ],
                        [
                          1,
                          "#f0f921"
                        ]
                      ],
                      "sequentialminus": [
                        [
                          0,
                          "#0d0887"
                        ],
                        [
                          0.1111111111111111,
                          "#46039f"
                        ],
                        [
                          0.2222222222222222,
                          "#7201a8"
                        ],
                        [
                          0.3333333333333333,
                          "#9c179e"
                        ],
                        [
                          0.4444444444444444,
                          "#bd3786"
                        ],
                        [
                          0.5555555555555556,
                          "#d8576b"
                        ],
                        [
                          0.6666666666666666,
                          "#ed7953"
                        ],
                        [
                          0.7777777777777778,
                          "#fb9f3a"
                        ],
                        [
                          0.8888888888888888,
                          "#fdca26"
                        ],
                        [
                          1,
                          "#f0f921"
                        ]
                      ]
                    },
                    "colorway": [
                      "#636efa",
                      "#EF553B",
                      "#00cc96",
                      "#ab63fa",
                      "#FFA15A",
                      "#19d3f3",
                      "#FF6692",
                      "#B6E880",
                      "#FF97FF",
                      "#FECB52"
                    ],
                    "font": {
                      "color": "#2a3f5f"
                    },
                    "geo": {
                      "bgcolor": "white",
                      "lakecolor": "white",
                      "landcolor": "#E5ECF6",
                      "showlakes": true,
                      "showland": true,
                      "subunitcolor": "white"
                    },
                    "hoverlabel": {
                      "align": "left"
                    },
                    "hovermode": "closest",
                    "mapbox": {
                      "style": "light"
                    },
                    "paper_bgcolor": "white",
                    "plot_bgcolor": "#E5ECF6",
                    "polar": {
                      "angularaxis": {
                        "gridcolor": "white",
                        "linecolor": "white",
                        "ticks": ""
                      },
                      "bgcolor": "#E5ECF6",
                      "radialaxis": {
                        "gridcolor": "white",
                        "linecolor": "white",
                        "ticks": ""
                      }
                    },
                    "scene": {
                      "xaxis": {
                        "backgroundcolor": "#E5ECF6",
                        "gridcolor": "white",
                        "gridwidth": 2,
                        "linecolor": "white",
                        "showbackground": true,
                        "ticks": "",
                        "zerolinecolor": "white"
                      },
                      "yaxis": {
                        "backgroundcolor": "#E5ECF6",
                        "gridcolor": "white",
                        "gridwidth": 2,
                        "linecolor": "white",
                        "showbackground": true,
                        "ticks": "",
                        "zerolinecolor": "white"
                      },
                      "zaxis": {
                        "backgroundcolor": "#E5ECF6",
                        "gridcolor": "white",
                        "gridwidth": 2,
                        "linecolor": "white",
                        "showbackground": true,
                        "ticks": "",
                        "zerolinecolor": "white"
                      }
                    },
                    "shapedefaults": {
                      "line": {
                        "color": "#2a3f5f"
                      }
                    },
                    "ternary": {
                      "aaxis": {
                        "gridcolor": "white",
                        "linecolor": "white",
                        "ticks": ""
                      },
                      "baxis": {
                        "gridcolor": "white",
                        "linecolor": "white",
                        "ticks": ""
                      },
                      "bgcolor": "#E5ECF6",
                      "caxis": {
                        "gridcolor": "white",
                        "linecolor": "white",
                        "ticks": ""
                      }
                    },
                    "title": {
                      "x": 0.05
                    },
                    "xaxis": {
                      "automargin": true,
                      "gridcolor": "white",
                      "linecolor": "white",
                      "ticks": "",
                      "title": {
                        "standoff": 15
                      },
                      "zerolinecolor": "white",
                      "zerolinewidth": 2
                    },
                    "yaxis": {
                      "automargin": true,
                      "gridcolor": "white",
                      "linecolor": "white",
                      "ticks": "",
                      "title": {
                        "standoff": 15
                      },
                      "zerolinecolor": "white",
                      "zerolinewidth": 2
                    }
                  }
                },
                "title": {
                  "text": "Choropleth Map of Average Selected Variable"
                },
                "updatemenus": [
                  {
                    "buttons": [
                      {
                        "args": [
                          {
                            "z": [
                              [
                                3.41,
                                3.6008333333333336,
                                3.467222222222222,
                                3.559142857142857,
                                2.91,
                                3.55,
                                2.9,
                                3.4433333333333334,
                                3.53,
                                3.1425
                              ]
                            ]
                          }
                        ],
                        "label": "GPA",
                        "method": "update"
                      },
                      {
                        "args": [
                          {
                            "z": [
                              [
                                1.2,
                                2.8083333333333336,
                                1.8444444444444446,
                                2.117142857142857,
                                6.2,
                                2.2,
                                0.9,
                                1.25,
                                3.3,
                                2.375
                              ]
                            ]
                          }
                        ],
                        "label": "WorkExp",
                        "method": "update"
                      },
                      {
                        "args": [
                          {
                            "z": [
                              [
                                868,
                                916.1666666666666,
                                877.0555555555555,
                                872.5714285714286,
                                753,
                                866,
                                769,
                                850.6666666666666,
                                862,
                                766
                              ]
                            ]
                          }
                        ],
                        "label": "TestScore",
                        "method": "update"
                      },
                      {
                        "args": [
                          {
                            "z": [
                              [
                                85,
                                90.83333333333333,
                                80,
                                80.42857142857143,
                                77,
                                74,
                                87,
                                78.33333333333333,
                                85,
                                76.5
                              ]
                            ]
                          }
                        ],
                        "label": "WritingScore",
                        "method": "update"
                      },
                      {
                        "args": [
                          {
                            "z": [
                              [
                                0,
                                2.6666666666666665,
                                2.4444444444444446,
                                2.4571428571428573,
                                1,
                                1,
                                4,
                                2.5,
                                1,
                                3.25
                              ]
                            ]
                          }
                        ],
                        "label": "VolunteerLevel",
                        "method": "update"
                      }
                    ],
                    "direction": "down",
                    "showactive": true
                  }
                ]
              }
            }
          },
          "metadata": {},
          "output_type": "display_data"
        }
      ],
      "source": [
        "fig = px.choropleth(avg_df, locationmode=\"USA-states\", \n",
        "                    locations=avg_df['State'], \n",
        "                    scope=\"usa\",\n",
        "                    color=avg_df['GPA'],\n",
        "                    hover_data={\"State\": True, \"GPA\": True},  \n",
        "                    labels={\"GPA\": \"Selected Variable\"},\n",
        "                    color_continuous_scale=custom_palette\n",
        "                )\n",
        "\n",
        "dropdown = []\n",
        "for col in avg_df.columns[:-1]:\n",
        "    dropdown.append({'label': col, 'method': 'update', 'args': [{'z': [avg_df[col]]}]})\n",
        "\n",
        "fig.update_layout(updatemenus=[{'buttons': dropdown, 'direction': 'down', 'showactive': True}],\n",
        "                  title='Choropleth Map of Average Selected Variable')\n",
        "fig.update_coloraxes(colorbar_title=dict(text='Selected Variable'))\n",
        "\n",
        "fig.show()"
      ]
    },
    {
      "cell_type": "code",
      "execution_count": 17,
      "metadata": {},
      "outputs": [],
      "source": [
        "#create dataframe of rates for each state by decision\n",
        "decision_state = df.groupby(['Decision', 'State'])[[\"GPA\"]].count().reset_index()\n",
        "decision_state = decision_state.rename(columns={'GPA':'StateCount'})\n",
        "decision_state['DecisionCount'] = decision_state.groupby('Decision')['StateCount'].transform('sum')\n",
        "decision_state['Rate'] = decision_state['StateCount'] / decision_state['DecisionCount'] * 100\n",
        "\n",
        "state_id_dict = dict(zip(data.population_engineers_hurricanes()[\"state\"], data.population_engineers_hurricanes()[\"id\"]))\n",
        "decision_state[\"StateID\"] = decision_state[\"State\"].map(state_id_dict)\n",
        "\n",
        "admit_states = decision_state[decision_state['Decision'] == \"Admit\"]\n",
        "decline_states = decision_state[decision_state['Decision'] == \"Decline\"]"
      ]
    },
    {
      "cell_type": "code",
      "execution_count": 26,
      "metadata": {},
      "outputs": [
        {
          "data": {
            "text/html": [
              "\n",
              "<style>\n",
              "  #altair-viz-e924360488d44fcaaa82155228bd8a3b.vega-embed {\n",
              "    width: 100%;\n",
              "    display: flex;\n",
              "  }\n",
              "\n",
              "  #altair-viz-e924360488d44fcaaa82155228bd8a3b.vega-embed details,\n",
              "  #altair-viz-e924360488d44fcaaa82155228bd8a3b.vega-embed details summary {\n",
              "    position: relative;\n",
              "  }\n",
              "</style>\n",
              "<div id=\"altair-viz-e924360488d44fcaaa82155228bd8a3b\"></div>\n",
              "<script type=\"text/javascript\">\n",
              "  var VEGA_DEBUG = (typeof VEGA_DEBUG == \"undefined\") ? {} : VEGA_DEBUG;\n",
              "  (function(spec, embedOpt){\n",
              "    let outputDiv = document.currentScript.previousElementSibling;\n",
              "    if (outputDiv.id !== \"altair-viz-e924360488d44fcaaa82155228bd8a3b\") {\n",
              "      outputDiv = document.getElementById(\"altair-viz-e924360488d44fcaaa82155228bd8a3b\");\n",
              "    }\n",
              "    const paths = {\n",
              "      \"vega\": \"https://cdn.jsdelivr.net/npm/vega@5?noext\",\n",
              "      \"vega-lib\": \"https://cdn.jsdelivr.net/npm/vega-lib?noext\",\n",
              "      \"vega-lite\": \"https://cdn.jsdelivr.net/npm/vega-lite@5.8.0?noext\",\n",
              "      \"vega-embed\": \"https://cdn.jsdelivr.net/npm/vega-embed@6?noext\",\n",
              "    };\n",
              "\n",
              "    function maybeLoadScript(lib, version) {\n",
              "      var key = `${lib.replace(\"-\", \"\")}_version`;\n",
              "      return (VEGA_DEBUG[key] == version) ?\n",
              "        Promise.resolve(paths[lib]) :\n",
              "        new Promise(function(resolve, reject) {\n",
              "          var s = document.createElement('script');\n",
              "          document.getElementsByTagName(\"head\")[0].appendChild(s);\n",
              "          s.async = true;\n",
              "          s.onload = () => {\n",
              "            VEGA_DEBUG[key] = version;\n",
              "            return resolve(paths[lib]);\n",
              "          };\n",
              "          s.onerror = () => reject(`Error loading script: ${paths[lib]}`);\n",
              "          s.src = paths[lib];\n",
              "        });\n",
              "    }\n",
              "\n",
              "    function showError(err) {\n",
              "      outputDiv.innerHTML = `<div class=\"error\" style=\"color:red;\">${err}</div>`;\n",
              "      throw err;\n",
              "    }\n",
              "\n",
              "    function displayChart(vegaEmbed) {\n",
              "      vegaEmbed(outputDiv, spec, embedOpt)\n",
              "        .catch(err => showError(`Javascript Error: ${err.message}<br>This usually means there's a typo in your chart specification. See the javascript console for the full traceback.`));\n",
              "    }\n",
              "\n",
              "    if(typeof define === \"function\" && define.amd) {\n",
              "      requirejs.config({paths});\n",
              "      require([\"vega-embed\"], displayChart, err => showError(`Error loading script: ${err.message}`));\n",
              "    } else {\n",
              "      maybeLoadScript(\"vega\", \"5\")\n",
              "        .then(() => maybeLoadScript(\"vega-lite\", \"5.8.0\"))\n",
              "        .then(() => maybeLoadScript(\"vega-embed\", \"6\"))\n",
              "        .catch(showError)\n",
              "        .then(() => displayChart(vegaEmbed));\n",
              "    }\n",
              "  })({\"config\": {\"view\": {\"continuousWidth\": 300, \"continuousHeight\": 300}}, \"hconcat\": [{\"layer\": [{\"mark\": {\"type\": \"geoshape\", \"stroke\": \"black\"}, \"encoding\": {\"color\": {\"field\": \"Rate\", \"scale\": {\"range\": [\"#00072D\", \"#0A2472\", \"#0E6BA8\", \"#A6E1FA\", \"#99ABC5\", \"#8B748F\", \"#6F0624\"]}, \"type\": \"quantitative\"}, \"opacity\": {\"condition\": {\"test\": \"isValid(datum.Rate)\", \"value\": 1}, \"value\": 0.2}, \"tooltip\": [{\"field\": \"State\", \"type\": \"nominal\"}, {\"field\": \"Rate\", \"type\": \"quantitative\"}]}, \"name\": \"view_15\", \"projection\": {\"type\": \"albersUsa\"}, \"title\": \"Admission Rates by State\", \"transform\": [{\"lookup\": \"id\", \"from\": {\"data\": {\"name\": \"data-503a74368ebe062f15f70c03eb2f77e7\"}, \"key\": \"StateID\", \"fields\": [\"Decision\", \"State\", \"StateCount\", \"DecisionCount\", \"Rate\", \"StateID\"]}}]}, {\"mark\": {\"type\": \"geoshape\", \"fill\": \"grey\", \"stroke\": \"white\"}, \"encoding\": {\"opacity\": {\"condition\": {\"test\": \"isValid(datum.Rate)\", \"value\": 0}, \"value\": 0.2}}, \"projection\": {\"type\": \"albersUsa\"}}], \"encoding\": {\"tooltip\": [{\"field\": \"State\", \"type\": \"nominal\"}, {\"field\": \"Rate\", \"type\": \"quantitative\"}]}, \"height\": 200, \"transform\": [{\"lookup\": \"id\", \"from\": {\"data\": {\"name\": \"data-503a74368ebe062f15f70c03eb2f77e7\"}, \"key\": \"StateID\", \"fields\": [\"Decision\", \"State\", \"StateCount\", \"DecisionCount\", \"Rate\", \"StateID\"]}}], \"width\": 333}, {\"layer\": [{\"mark\": {\"type\": \"geoshape\", \"stroke\": \"black\"}, \"encoding\": {\"color\": {\"field\": \"Rate\", \"scale\": {\"range\": [\"#00072D\", \"#0A2472\", \"#0E6BA8\", \"#A6E1FA\", \"#99ABC5\", \"#8B748F\", \"#6F0624\"]}, \"type\": \"quantitative\"}, \"opacity\": {\"condition\": {\"test\": \"isValid(datum.Rate)\", \"value\": 1}, \"value\": 0.2}, \"tooltip\": [{\"field\": \"State\", \"type\": \"nominal\"}, {\"field\": \"Rate\", \"type\": \"quantitative\"}]}, \"name\": \"view_16\", \"projection\": {\"type\": \"albersUsa\"}, \"title\": \"Rejection Rates by State\", \"transform\": [{\"lookup\": \"id\", \"from\": {\"data\": {\"name\": \"data-b46b07f67a277f5f7e632f817929b01f\"}, \"key\": \"StateID\", \"fields\": [\"Decision\", \"State\", \"StateCount\", \"DecisionCount\", \"Rate\", \"StateID\"]}}]}, {\"mark\": {\"type\": \"geoshape\", \"fill\": \"grey\", \"stroke\": \"white\"}, \"encoding\": {\"opacity\": {\"condition\": {\"test\": \"isValid(datum.Rate)\", \"value\": 0}, \"value\": 0.2}}, \"projection\": {\"type\": \"albersUsa\"}}], \"encoding\": {\"tooltip\": [{\"field\": \"State\", \"type\": \"nominal\"}, {\"field\": \"Rate\", \"type\": \"quantitative\"}]}, \"height\": 200, \"transform\": [{\"lookup\": \"id\", \"from\": {\"data\": {\"name\": \"data-b46b07f67a277f5f7e632f817929b01f\"}, \"key\": \"StateID\", \"fields\": [\"Decision\", \"State\", \"StateCount\", \"DecisionCount\", \"Rate\", \"StateID\"]}}], \"width\": 333}], \"data\": {\"url\": \"https://raw.githubusercontent.com/vega/vega-datasets/master/data/us-10m.json\", \"format\": {\"feature\": \"states\", \"type\": \"topojson\"}}, \"params\": [{\"name\": \"param_23\", \"select\": {\"type\": \"point\", \"fields\": [\"State\"]}, \"views\": [\"view_15\", \"view_16\"]}, {\"name\": \"param_24\", \"select\": {\"type\": \"interval\", \"encodings\": [\"x\", \"y\"]}, \"bind\": \"scales\", \"views\": [\"view_15\"]}, {\"name\": \"param_25\", \"select\": {\"type\": \"interval\", \"encodings\": [\"x\", \"y\"]}, \"bind\": \"scales\", \"views\": [\"view_15\"]}, {\"name\": \"param_26\", \"select\": {\"type\": \"interval\", \"encodings\": [\"x\", \"y\"]}, \"bind\": \"scales\", \"views\": [\"view_16\"]}, {\"name\": \"param_27\", \"select\": {\"type\": \"interval\", \"encodings\": [\"x\", \"y\"]}, \"bind\": \"scales\", \"views\": [\"view_16\"]}], \"$schema\": \"https://vega.github.io/schema/vega-lite/v5.8.0.json\", \"datasets\": {\"data-503a74368ebe062f15f70c03eb2f77e7\": [{\"Decision\": \"Admit\", \"State\": \"California\", \"StateCount\": 9, \"DecisionCount\": 29, \"Rate\": 31.03448275862069, \"StateID\": 6}, {\"Decision\": \"Admit\", \"State\": \"Colorado\", \"StateCount\": 8, \"DecisionCount\": 29, \"Rate\": 27.586206896551722, \"StateID\": 8}, {\"Decision\": \"Admit\", \"State\": \"Florida\", \"StateCount\": 11, \"DecisionCount\": 29, \"Rate\": 37.93103448275862, \"StateID\": 12}, {\"Decision\": \"Admit\", \"State\": \"Utah\", \"StateCount\": 1, \"DecisionCount\": 29, \"Rate\": 3.4482758620689653, \"StateID\": 49}], \"data-b46b07f67a277f5f7e632f817929b01f\": [{\"Decision\": \"Decline\", \"State\": \"California\", \"StateCount\": 1, \"DecisionCount\": 28, \"Rate\": 3.571428571428571, \"StateID\": 6}, {\"Decision\": \"Decline\", \"State\": \"Colorado\", \"StateCount\": 6, \"DecisionCount\": 28, \"Rate\": 21.428571428571427, \"StateID\": 8}, {\"Decision\": \"Decline\", \"State\": \"Florida\", \"StateCount\": 13, \"DecisionCount\": 28, \"Rate\": 46.42857142857143, \"StateID\": 12}, {\"Decision\": \"Decline\", \"State\": \"Mississippi\", \"StateCount\": 1, \"DecisionCount\": 28, \"Rate\": 3.571428571428571, \"StateID\": 28}, {\"Decision\": \"Decline\", \"State\": \"Oregon\", \"StateCount\": 1, \"DecisionCount\": 28, \"Rate\": 3.571428571428571, \"StateID\": 41}, {\"Decision\": \"Decline\", \"State\": \"Utah\", \"StateCount\": 2, \"DecisionCount\": 28, \"Rate\": 7.142857142857142, \"StateID\": 49}, {\"Decision\": \"Decline\", \"State\": \"Virginia\", \"StateCount\": 4, \"DecisionCount\": 28, \"Rate\": 14.285714285714285, \"StateID\": 51}]}}, {\"mode\": \"vega-lite\"});\n",
              "</script>"
            ],
            "text/plain": [
              "alt.HConcatChart(...)"
            ]
          },
          "execution_count": 26,
          "metadata": {},
          "output_type": "execute_result"
        }
      ],
      "source": [
        "states = alt.topo_feature('https://raw.githubusercontent.com/vega/vega-datasets/master/data/us-10m.json', 'states')\n",
        "click = alt.selection_multi(fields = [\"State\"])\n",
        "\n",
        "existing_states = alt.Chart(states).mark_geoshape(stroke='black').encode(\n",
        "    color = alt.Color(\"Rate:Q\", scale=alt.Scale(range=custom_palette)),\n",
        "    tooltip = [\"State:N\", \"Rate:Q\"],\n",
        "    opacity = alt.condition('isValid(datum.Rate)', alt.value(1), alt.value(0.2)),\n",
        ").transform_lookup(\n",
        "    lookup = \"id\",\n",
        "    from_ = alt.LookupData(admit_states, \"StateID\", list(admit_states.columns))\n",
        ").properties(width = 333, height = 200, title=\"Admission Rates by State\").add_selection(click).project(type = \"albersUsa\").interactive()\n",
        "\n",
        "missing_states = (\n",
        "    alt.Chart(states)\n",
        "    .mark_geoshape(fill = \"grey\", stroke = \"white\")\n",
        "    .encode(opacity=alt.condition(\"isValid(datum.Rate)\", alt.value(0), alt.value(0.2))).add_selection(click).project(type = \"albersUsa\")\n",
        "    )\n",
        "\n",
        "admit_map = existing_states + missing_states\n",
        "admit_map = admit_map.encode(\n",
        "    tooltip= [\"State:N\", \"Rate:Q\"]\n",
        "    ).transform_lookup(\n",
        "        lookup=\"id\",\n",
        "        from_=alt.LookupData(admit_states, \"StateID\", list(admit_states.columns))\n",
        "    ).interactive()\n",
        "\n",
        "existing_states = alt.Chart(states).mark_geoshape(stroke='black').encode(\n",
        "    color = alt.Color(\"Rate:Q\", scale=alt.Scale(range=custom_palette)),\n",
        "    tooltip = [\"State:N\", \"Rate:Q\"],\n",
        "    opacity = alt.condition('isValid(datum.Rate)', alt.value(1), alt.value(0.2)),\n",
        ").transform_lookup(\n",
        "    lookup = \"id\",\n",
        "    from_ = alt.LookupData(decline_states, \"StateID\", list(decline_states.columns))\n",
        ").properties(width = 333, height = 200, title=\"Rejection Rates by State\").add_selection(click).project(type = \"albersUsa\").interactive()\n",
        "\n",
        "missing_states = (\n",
        "    alt.Chart(states)\n",
        "    .mark_geoshape(fill = \"grey\", stroke = \"white\")\n",
        "    .encode(opacity=alt.condition(\"isValid(datum.Rate)\", alt.value(0), alt.value(0.2))).add_selection(click).project(type = \"albersUsa\")\n",
        "    )\n",
        "\n",
        "decline_map = existing_states + missing_states\n",
        "decline_map = decline_map.encode(\n",
        "    tooltip= [\"State:N\", \"Rate:Q\"]\n",
        "    ).transform_lookup(\n",
        "        lookup=\"id\",\n",
        "        from_=alt.LookupData(decline_states, \"StateID\", list(decline_states.columns))\n",
        "    ).interactive()\n",
        "\n",
        "admit_map | decline_map"
      ]
    },
    {
      "cell_type": "markdown",
      "metadata": {},
      "source": [
        "## Gender"
      ]
    },
    {
      "cell_type": "markdown",
      "metadata": {},
      "source": [
        "# Machine Learning"
      ]
    },
    {
      "cell_type": "code",
      "execution_count": 19,
      "metadata": {
        "vscode": {
          "languageId": "html"
        }
      },
      "outputs": [
        {
          "data": {
            "text/html": [
              "<img src=\"../website/images/decision_pairplot.png\">\n"
            ],
            "text/plain": [
              "<IPython.core.display.HTML object>"
            ]
          },
          "metadata": {},
          "output_type": "display_data"
        }
      ],
      "source": [
        "%%html\n",
        "<img src=\"../website/images/decision_pairplot.png\">"
      ]
    },
    {
      "cell_type": "markdown",
      "metadata": {},
      "source": [
        "# Conclusions"
      ]
    }
  ],
  "metadata": {
    "kernelspec": {
      "display_name": "Python 3",
      "language": "python",
      "name": "python3"
    },
    "language_info": {
      "codemirror_mode": {
        "name": "ipython",
        "version": 3
      },
      "file_extension": ".py",
      "mimetype": "text/x-python",
      "name": "python",
      "nbconvert_exporter": "python",
      "pygments_lexer": "ipython3",
      "version": "3.11.4"
    }
  },
  "nbformat": 4,
  "nbformat_minor": 4
}
