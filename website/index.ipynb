{
 "cells": [
  {
   "cell_type": "raw",
   "metadata": {},
   "source": [
    "---\n",
    "title: \"Student Admissions\"\n",
    "author: \"Amelia Baier, Andrea Dukic, Mia Mayerhofer\"\n",
    "format:\n",
    "  html:\n",
    "    code-fold: true\n",
    "    code-tools: true\n",
    "    toc: true\n",
    "    embed-resources: true\n",
    "    style: styles.css\n",
    "execute:\n",
    "  echo: true\n",
    "  warning: false\n",
    "project:\n",
    "  type: website\n",
    "  output-dir: ../docs\n",
    "---"
   ]
  },
  {
   "cell_type": "markdown",
   "metadata": {},
   "source": [
    "# Hello world"
   ]
  }
 ],
 "metadata": {
  "language_info": {
   "name": "python"
  }
 },
 "nbformat": 4,
 "nbformat_minor": 2
}
