{
 "cells": [
  {
   "cell_type": "markdown",
   "metadata": {},
   "source": [
    "## Data Cleaning"
   ]
  },
  {
   "cell_type": "code",
   "execution_count": 59,
   "metadata": {},
   "outputs": [],
   "source": [
    "import numpy as np\n",
    "import pandas as pd\n",
    "import seaborn as sns \n",
    "import matplotlib.pyplot as plt"
   ]
  },
  {
   "cell_type": "code",
   "execution_count": 107,
   "metadata": {},
   "outputs": [
    {
     "data": {
      "text/plain": [
       "(80, 8)"
      ]
     },
     "execution_count": 107,
     "metadata": {},
     "output_type": "execute_result"
    }
   ],
   "source": [
    "df = pd.read_csv('../data/clean_data.csv')\n",
    "df.shape"
   ]
  },
  {
   "cell_type": "code",
   "execution_count": 61,
   "metadata": {},
   "outputs": [
    {
     "data": {
      "text/plain": [
       "Decision          1\n",
       "State             0\n",
       "GPA               1\n",
       "WorkExp           0\n",
       "TestScore         1\n",
       "WritingScore      0\n",
       "Gender            2\n",
       "VolunteerLevel    0\n",
       "dtype: int64"
      ]
     },
     "execution_count": 61,
     "metadata": {},
     "output_type": "execute_result"
    }
   ],
   "source": [
    "df.isna().sum()"
   ]
  },
  {
   "cell_type": "code",
   "execution_count": 62,
   "metadata": {},
   "outputs": [
    {
     "data": {
      "text/html": [
       "<div>\n",
       "<style scoped>\n",
       "    .dataframe tbody tr th:only-of-type {\n",
       "        vertical-align: middle;\n",
       "    }\n",
       "\n",
       "    .dataframe tbody tr th {\n",
       "        vertical-align: top;\n",
       "    }\n",
       "\n",
       "    .dataframe thead th {\n",
       "        text-align: right;\n",
       "    }\n",
       "</style>\n",
       "<table border=\"1\" class=\"dataframe\">\n",
       "  <thead>\n",
       "    <tr style=\"text-align: right;\">\n",
       "      <th></th>\n",
       "      <th>Decision</th>\n",
       "      <th>State</th>\n",
       "      <th>GPA</th>\n",
       "      <th>WorkExp</th>\n",
       "      <th>TestScore</th>\n",
       "      <th>WritingScore</th>\n",
       "      <th>Gender</th>\n",
       "      <th>VolunteerLevel</th>\n",
       "    </tr>\n",
       "  </thead>\n",
       "  <tbody>\n",
       "    <tr>\n",
       "      <th>0</th>\n",
       "      <td>Admit</td>\n",
       "      <td>California</td>\n",
       "      <td>3.90</td>\n",
       "      <td>6.7</td>\n",
       "      <td>962.0</td>\n",
       "      <td>100</td>\n",
       "      <td>1.0</td>\n",
       "      <td>0</td>\n",
       "    </tr>\n",
       "    <tr>\n",
       "      <th>1</th>\n",
       "      <td>Admit</td>\n",
       "      <td>Florida</td>\n",
       "      <td>3.80</td>\n",
       "      <td>1.4</td>\n",
       "      <td>969.0</td>\n",
       "      <td>97</td>\n",
       "      <td>1.0</td>\n",
       "      <td>4</td>\n",
       "    </tr>\n",
       "    <tr>\n",
       "      <th>2</th>\n",
       "      <td>Banana</td>\n",
       "      <td>California</td>\n",
       "      <td>3.80</td>\n",
       "      <td>2.3</td>\n",
       "      <td>970.0</td>\n",
       "      <td>98</td>\n",
       "      <td>0.0</td>\n",
       "      <td>5</td>\n",
       "    </tr>\n",
       "    <tr>\n",
       "      <th>3</th>\n",
       "      <td>Admit</td>\n",
       "      <td>Colorado</td>\n",
       "      <td>3.60</td>\n",
       "      <td>0.9</td>\n",
       "      <td>969.0</td>\n",
       "      <td>97</td>\n",
       "      <td>0.0</td>\n",
       "      <td>2</td>\n",
       "    </tr>\n",
       "    <tr>\n",
       "      <th>4</th>\n",
       "      <td>Admit</td>\n",
       "      <td>Colorado</td>\n",
       "      <td>3.92</td>\n",
       "      <td>1.2</td>\n",
       "      <td>969.0</td>\n",
       "      <td>95</td>\n",
       "      <td>-1.0</td>\n",
       "      <td>3</td>\n",
       "    </tr>\n",
       "    <tr>\n",
       "      <th>6</th>\n",
       "      <td>Admit</td>\n",
       "      <td>California</td>\n",
       "      <td>3.88</td>\n",
       "      <td>1.5</td>\n",
       "      <td>967.0</td>\n",
       "      <td>95</td>\n",
       "      <td>1.0</td>\n",
       "      <td>5</td>\n",
       "    </tr>\n",
       "    <tr>\n",
       "      <th>7</th>\n",
       "      <td>Admit</td>\n",
       "      <td>California</td>\n",
       "      <td>3.70</td>\n",
       "      <td>1.2</td>\n",
       "      <td>969.0</td>\n",
       "      <td>94</td>\n",
       "      <td>1.0</td>\n",
       "      <td>2</td>\n",
       "    </tr>\n",
       "    <tr>\n",
       "      <th>8</th>\n",
       "      <td>Admit</td>\n",
       "      <td>Florida</td>\n",
       "      <td>3.90</td>\n",
       "      <td>4.7</td>\n",
       "      <td>961.0</td>\n",
       "      <td>93</td>\n",
       "      <td>1.0</td>\n",
       "      <td>1</td>\n",
       "    </tr>\n",
       "    <tr>\n",
       "      <th>9</th>\n",
       "      <td>Admit</td>\n",
       "      <td>California</td>\n",
       "      <td>3.70</td>\n",
       "      <td>1.4</td>\n",
       "      <td>966.0</td>\n",
       "      <td>94</td>\n",
       "      <td>1.0</td>\n",
       "      <td>0</td>\n",
       "    </tr>\n",
       "    <tr>\n",
       "      <th>10</th>\n",
       "      <td>Admit</td>\n",
       "      <td>Florida</td>\n",
       "      <td>3.80</td>\n",
       "      <td>1.7</td>\n",
       "      <td>968.0</td>\n",
       "      <td>91</td>\n",
       "      <td>NaN</td>\n",
       "      <td>3</td>\n",
       "    </tr>\n",
       "  </tbody>\n",
       "</table>\n",
       "</div>"
      ],
      "text/plain": [
       "   Decision       State   GPA  WorkExp  TestScore  WritingScore  Gender  \\\n",
       "0     Admit  California  3.90      6.7      962.0           100     1.0   \n",
       "1     Admit     Florida  3.80      1.4      969.0            97     1.0   \n",
       "2    Banana  California  3.80      2.3      970.0            98     0.0   \n",
       "3     Admit    Colorado  3.60      0.9      969.0            97     0.0   \n",
       "4     Admit    Colorado  3.92      1.2      969.0            95    -1.0   \n",
       "6     Admit  California  3.88      1.5      967.0            95     1.0   \n",
       "7     Admit  California  3.70      1.2      969.0            94     1.0   \n",
       "8     Admit     Florida  3.90      4.7      961.0            93     1.0   \n",
       "9     Admit  California  3.70      1.4      966.0            94     1.0   \n",
       "10    Admit     Florida  3.80      1.7      968.0            91     NaN   \n",
       "\n",
       "    VolunteerLevel  \n",
       "0                0  \n",
       "1                4  \n",
       "2                5  \n",
       "3                2  \n",
       "4                3  \n",
       "6                5  \n",
       "7                2  \n",
       "8                1  \n",
       "9                0  \n",
       "10               3  "
      ]
     },
     "execution_count": 62,
     "metadata": {},
     "output_type": "execute_result"
    }
   ],
   "source": [
    "df = df[df['Decision'].notna()]\n",
    "df.head(10)"
   ]
  },
  {
   "cell_type": "code",
   "execution_count": 63,
   "metadata": {},
   "outputs": [
    {
     "data": {
      "text/plain": [
       "Decision          0\n",
       "State             0\n",
       "GPA               1\n",
       "WorkExp           0\n",
       "TestScore         0\n",
       "WritingScore      0\n",
       "Gender            2\n",
       "VolunteerLevel    0\n",
       "dtype: int64"
      ]
     },
     "execution_count": 63,
     "metadata": {},
     "output_type": "execute_result"
    }
   ],
   "source": [
    "df.isna().sum()"
   ]
  },
  {
   "cell_type": "code",
   "execution_count": 64,
   "metadata": {},
   "outputs": [],
   "source": [
    "df = df.dropna()"
   ]
  },
  {
   "cell_type": "code",
   "execution_count": 66,
   "metadata": {},
   "outputs": [
    {
     "name": "stdout",
     "output_type": "stream",
     "text": [
      "(83, 8)\n"
     ]
    },
    {
     "data": {
      "text/html": [
       "<div>\n",
       "<style scoped>\n",
       "    .dataframe tbody tr th:only-of-type {\n",
       "        vertical-align: middle;\n",
       "    }\n",
       "\n",
       "    .dataframe tbody tr th {\n",
       "        vertical-align: top;\n",
       "    }\n",
       "\n",
       "    .dataframe thead th {\n",
       "        text-align: right;\n",
       "    }\n",
       "</style>\n",
       "<table border=\"1\" class=\"dataframe\">\n",
       "  <thead>\n",
       "    <tr style=\"text-align: right;\">\n",
       "      <th></th>\n",
       "      <th>Decision</th>\n",
       "      <th>State</th>\n",
       "      <th>GPA</th>\n",
       "      <th>WorkExp</th>\n",
       "      <th>TestScore</th>\n",
       "      <th>WritingScore</th>\n",
       "      <th>Gender</th>\n",
       "      <th>VolunteerLevel</th>\n",
       "    </tr>\n",
       "  </thead>\n",
       "  <tbody>\n",
       "    <tr>\n",
       "      <th>0</th>\n",
       "      <td>Admit</td>\n",
       "      <td>California</td>\n",
       "      <td>3.90</td>\n",
       "      <td>6.7</td>\n",
       "      <td>962.0</td>\n",
       "      <td>100</td>\n",
       "      <td>1.0</td>\n",
       "      <td>0</td>\n",
       "    </tr>\n",
       "    <tr>\n",
       "      <th>1</th>\n",
       "      <td>Admit</td>\n",
       "      <td>Florida</td>\n",
       "      <td>3.80</td>\n",
       "      <td>1.4</td>\n",
       "      <td>969.0</td>\n",
       "      <td>97</td>\n",
       "      <td>1.0</td>\n",
       "      <td>4</td>\n",
       "    </tr>\n",
       "    <tr>\n",
       "      <th>3</th>\n",
       "      <td>Admit</td>\n",
       "      <td>Colorado</td>\n",
       "      <td>3.60</td>\n",
       "      <td>0.9</td>\n",
       "      <td>969.0</td>\n",
       "      <td>97</td>\n",
       "      <td>0.0</td>\n",
       "      <td>2</td>\n",
       "    </tr>\n",
       "    <tr>\n",
       "      <th>6</th>\n",
       "      <td>Admit</td>\n",
       "      <td>California</td>\n",
       "      <td>3.88</td>\n",
       "      <td>1.5</td>\n",
       "      <td>967.0</td>\n",
       "      <td>95</td>\n",
       "      <td>1.0</td>\n",
       "      <td>5</td>\n",
       "    </tr>\n",
       "    <tr>\n",
       "      <th>7</th>\n",
       "      <td>Admit</td>\n",
       "      <td>California</td>\n",
       "      <td>3.70</td>\n",
       "      <td>1.2</td>\n",
       "      <td>969.0</td>\n",
       "      <td>94</td>\n",
       "      <td>1.0</td>\n",
       "      <td>2</td>\n",
       "    </tr>\n",
       "  </tbody>\n",
       "</table>\n",
       "</div>"
      ],
      "text/plain": [
       "  Decision       State   GPA  WorkExp  TestScore  WritingScore  Gender  \\\n",
       "0    Admit  California  3.90      6.7      962.0           100     1.0   \n",
       "1    Admit     Florida  3.80      1.4      969.0            97     1.0   \n",
       "3    Admit    Colorado  3.60      0.9      969.0            97     0.0   \n",
       "6    Admit  California  3.88      1.5      967.0            95     1.0   \n",
       "7    Admit  California  3.70      1.2      969.0            94     1.0   \n",
       "\n",
       "   VolunteerLevel  \n",
       "0               0  \n",
       "1               4  \n",
       "3               2  \n",
       "6               5  \n",
       "7               2  "
      ]
     },
     "execution_count": 66,
     "metadata": {},
     "output_type": "execute_result"
    }
   ],
   "source": [
    "# remove nonsensical answers in Decision and Gender columns\n",
    "df['Decision'].unique()\n",
    "df = df[df['Decision'] != 'Banana']\n",
    "print(df.shape)\n",
    "df = df.drop(df[df[\"Gender\"] < 0].index)\n",
    "df = df.drop(df[df[\"WorkExp\"] > 50].index)\n",
    "df = df.drop(df[df[\"GPA\"] > 5].index)\n",
    "df.head()"
   ]
  },
  {
   "cell_type": "code",
   "execution_count": 67,
   "metadata": {},
   "outputs": [],
   "source": [
    "# capitalize all states\n",
    "df.State = df.State.str.title()\n",
    "df['State'] = df['State'].replace('New york', 'New York')"
   ]
  },
  {
   "cell_type": "code",
   "execution_count": 68,
   "metadata": {},
   "outputs": [],
   "source": [
    "# Save to csv\n",
    "df.to_csv(\"../data/clean_data.csv\", index=False)"
   ]
  },
  {
   "cell_type": "code",
   "execution_count": null,
   "metadata": {},
   "outputs": [],
   "source": []
  },
  {
   "cell_type": "markdown",
   "metadata": {},
   "source": [
    "## Visualizations"
   ]
  },
  {
   "cell_type": "code",
   "execution_count": 30,
   "metadata": {},
   "outputs": [],
   "source": [
    "# Hide output with -q\n",
    "!pip install -q altair"
   ]
  },
  {
   "cell_type": "code",
   "execution_count": 61,
   "metadata": {},
   "outputs": [
    {
     "data": {
      "text/html": [
       "<div>\n",
       "<style scoped>\n",
       "    .dataframe tbody tr th:only-of-type {\n",
       "        vertical-align: middle;\n",
       "    }\n",
       "\n",
       "    .dataframe tbody tr th {\n",
       "        vertical-align: top;\n",
       "    }\n",
       "\n",
       "    .dataframe thead th {\n",
       "        text-align: right;\n",
       "    }\n",
       "</style>\n",
       "<table border=\"1\" class=\"dataframe\">\n",
       "  <thead>\n",
       "    <tr style=\"text-align: right;\">\n",
       "      <th></th>\n",
       "      <th>Decision</th>\n",
       "      <th>State</th>\n",
       "      <th>Count</th>\n",
       "    </tr>\n",
       "  </thead>\n",
       "  <tbody>\n",
       "    <tr>\n",
       "      <th>0</th>\n",
       "      <td>Admit</td>\n",
       "      <td>California</td>\n",
       "      <td>9</td>\n",
       "    </tr>\n",
       "    <tr>\n",
       "      <th>1</th>\n",
       "      <td>Admit</td>\n",
       "      <td>Colorado</td>\n",
       "      <td>8</td>\n",
       "    </tr>\n",
       "    <tr>\n",
       "      <th>2</th>\n",
       "      <td>Admit</td>\n",
       "      <td>Florida</td>\n",
       "      <td>11</td>\n",
       "    </tr>\n",
       "    <tr>\n",
       "      <th>3</th>\n",
       "      <td>Admit</td>\n",
       "      <td>Utah</td>\n",
       "      <td>1</td>\n",
       "    </tr>\n",
       "    <tr>\n",
       "      <th>4</th>\n",
       "      <td>Decline</td>\n",
       "      <td>California</td>\n",
       "      <td>1</td>\n",
       "    </tr>\n",
       "    <tr>\n",
       "      <th>5</th>\n",
       "      <td>Decline</td>\n",
       "      <td>Colorado</td>\n",
       "      <td>6</td>\n",
       "    </tr>\n",
       "    <tr>\n",
       "      <th>6</th>\n",
       "      <td>Decline</td>\n",
       "      <td>Florida</td>\n",
       "      <td>13</td>\n",
       "    </tr>\n",
       "    <tr>\n",
       "      <th>7</th>\n",
       "      <td>Decline</td>\n",
       "      <td>Mississippi</td>\n",
       "      <td>1</td>\n",
       "    </tr>\n",
       "    <tr>\n",
       "      <th>8</th>\n",
       "      <td>Decline</td>\n",
       "      <td>Oregon</td>\n",
       "      <td>1</td>\n",
       "    </tr>\n",
       "    <tr>\n",
       "      <th>9</th>\n",
       "      <td>Decline</td>\n",
       "      <td>Utah</td>\n",
       "      <td>2</td>\n",
       "    </tr>\n",
       "    <tr>\n",
       "      <th>10</th>\n",
       "      <td>Decline</td>\n",
       "      <td>Virginia</td>\n",
       "      <td>4</td>\n",
       "    </tr>\n",
       "    <tr>\n",
       "      <th>11</th>\n",
       "      <td>Waitlist</td>\n",
       "      <td>Alabama</td>\n",
       "      <td>1</td>\n",
       "    </tr>\n",
       "    <tr>\n",
       "      <th>12</th>\n",
       "      <td>Waitlist</td>\n",
       "      <td>California</td>\n",
       "      <td>2</td>\n",
       "    </tr>\n",
       "    <tr>\n",
       "      <th>13</th>\n",
       "      <td>Waitlist</td>\n",
       "      <td>Colorado</td>\n",
       "      <td>4</td>\n",
       "    </tr>\n",
       "    <tr>\n",
       "      <th>14</th>\n",
       "      <td>Waitlist</td>\n",
       "      <td>Florida</td>\n",
       "      <td>11</td>\n",
       "    </tr>\n",
       "    <tr>\n",
       "      <th>15</th>\n",
       "      <td>Waitlist</td>\n",
       "      <td>New York</td>\n",
       "      <td>1</td>\n",
       "    </tr>\n",
       "    <tr>\n",
       "      <th>16</th>\n",
       "      <td>Waitlist</td>\n",
       "      <td>Utah</td>\n",
       "      <td>3</td>\n",
       "    </tr>\n",
       "    <tr>\n",
       "      <th>17</th>\n",
       "      <td>Waitlist</td>\n",
       "      <td>Vermont</td>\n",
       "      <td>1</td>\n",
       "    </tr>\n",
       "  </tbody>\n",
       "</table>\n",
       "</div>"
      ],
      "text/plain": [
       "    Decision        State  Count\n",
       "0      Admit   California      9\n",
       "1      Admit     Colorado      8\n",
       "2      Admit      Florida     11\n",
       "3      Admit         Utah      1\n",
       "4    Decline   California      1\n",
       "5    Decline     Colorado      6\n",
       "6    Decline      Florida     13\n",
       "7    Decline  Mississippi      1\n",
       "8    Decline       Oregon      1\n",
       "9    Decline         Utah      2\n",
       "10   Decline     Virginia      4\n",
       "11  Waitlist      Alabama      1\n",
       "12  Waitlist   California      2\n",
       "13  Waitlist     Colorado      4\n",
       "14  Waitlist      Florida     11\n",
       "15  Waitlist     New York      1\n",
       "16  Waitlist         Utah      3\n",
       "17  Waitlist      Vermont      1"
      ]
     },
     "execution_count": 61,
     "metadata": {},
     "output_type": "execute_result"
    }
   ],
   "source": [
    "decision_count = df.groupby(['Decision', 'State']).size().reset_index()\n",
    "decision_count = decision_count.rename(columns={0: 'Count'})\n",
    "decision_count"
   ]
  },
  {
   "cell_type": "code",
   "execution_count": 62,
   "metadata": {},
   "outputs": [
    {
     "name": "stderr",
     "output_type": "stream",
     "text": [
      "c:\\Users\\theda\\anaconda3\\Lib\\site-packages\\altair\\utils\\deprecation.py:65: AltairDeprecationWarning:\n",
      "\n",
      "'selection_single' is deprecated.  Use 'selection_point'\n",
      "\n",
      "c:\\Users\\theda\\anaconda3\\Lib\\site-packages\\altair\\utils\\deprecation.py:65: AltairDeprecationWarning:\n",
      "\n",
      "'add_selection' is deprecated. Use 'add_params' instead.\n",
      "\n"
     ]
    },
    {
     "data": {
      "text/html": [
       "\n",
       "<style>\n",
       "  #altair-viz-7f8ad6715beb4bb5a86e0f6ce932b36d.vega-embed {\n",
       "    width: 100%;\n",
       "    display: flex;\n",
       "  }\n",
       "\n",
       "  #altair-viz-7f8ad6715beb4bb5a86e0f6ce932b36d.vega-embed details,\n",
       "  #altair-viz-7f8ad6715beb4bb5a86e0f6ce932b36d.vega-embed details summary {\n",
       "    position: relative;\n",
       "  }\n",
       "</style>\n",
       "<div id=\"altair-viz-7f8ad6715beb4bb5a86e0f6ce932b36d\"></div>\n",
       "<script type=\"text/javascript\">\n",
       "  var VEGA_DEBUG = (typeof VEGA_DEBUG == \"undefined\") ? {} : VEGA_DEBUG;\n",
       "  (function(spec, embedOpt){\n",
       "    let outputDiv = document.currentScript.previousElementSibling;\n",
       "    if (outputDiv.id !== \"altair-viz-7f8ad6715beb4bb5a86e0f6ce932b36d\") {\n",
       "      outputDiv = document.getElementById(\"altair-viz-7f8ad6715beb4bb5a86e0f6ce932b36d\");\n",
       "    }\n",
       "    const paths = {\n",
       "      \"vega\": \"https://cdn.jsdelivr.net/npm/vega@5?noext\",\n",
       "      \"vega-lib\": \"https://cdn.jsdelivr.net/npm/vega-lib?noext\",\n",
       "      \"vega-lite\": \"https://cdn.jsdelivr.net/npm/vega-lite@5.8.0?noext\",\n",
       "      \"vega-embed\": \"https://cdn.jsdelivr.net/npm/vega-embed@6?noext\",\n",
       "    };\n",
       "\n",
       "    function maybeLoadScript(lib, version) {\n",
       "      var key = `${lib.replace(\"-\", \"\")}_version`;\n",
       "      return (VEGA_DEBUG[key] == version) ?\n",
       "        Promise.resolve(paths[lib]) :\n",
       "        new Promise(function(resolve, reject) {\n",
       "          var s = document.createElement('script');\n",
       "          document.getElementsByTagName(\"head\")[0].appendChild(s);\n",
       "          s.async = true;\n",
       "          s.onload = () => {\n",
       "            VEGA_DEBUG[key] = version;\n",
       "            return resolve(paths[lib]);\n",
       "          };\n",
       "          s.onerror = () => reject(`Error loading script: ${paths[lib]}`);\n",
       "          s.src = paths[lib];\n",
       "        });\n",
       "    }\n",
       "\n",
       "    function showError(err) {\n",
       "      outputDiv.innerHTML = `<div class=\"error\" style=\"color:red;\">${err}</div>`;\n",
       "      throw err;\n",
       "    }\n",
       "\n",
       "    function displayChart(vegaEmbed) {\n",
       "      vegaEmbed(outputDiv, spec, embedOpt)\n",
       "        .catch(err => showError(`Javascript Error: ${err.message}<br>This usually means there's a typo in your chart specification. See the javascript console for the full traceback.`));\n",
       "    }\n",
       "\n",
       "    if(typeof define === \"function\" && define.amd) {\n",
       "      requirejs.config({paths});\n",
       "      require([\"vega-embed\"], displayChart, err => showError(`Error loading script: ${err.message}`));\n",
       "    } else {\n",
       "      maybeLoadScript(\"vega\", \"5\")\n",
       "        .then(() => maybeLoadScript(\"vega-lite\", \"5.8.0\"))\n",
       "        .then(() => maybeLoadScript(\"vega-embed\", \"6\"))\n",
       "        .catch(showError)\n",
       "        .then(() => displayChart(vegaEmbed));\n",
       "    }\n",
       "  })({\"config\": {\"view\": {\"continuousWidth\": 300, \"continuousHeight\": 300}}, \"data\": {\"name\": \"data-c5deeb307545589756637cd1b5598547\"}, \"mark\": {\"type\": \"bar\"}, \"encoding\": {\"x\": {\"field\": \"Decision\", \"title\": \"Decision\", \"type\": \"ordinal\"}, \"y\": {\"field\": \"Count\", \"title\": \"Count\", \"type\": \"quantitative\"}}, \"params\": [{\"name\": \"param_9\", \"select\": {\"type\": \"point\", \"fields\": [\"State\"]}, \"bind\": {\"input\": \"select\", \"options\": [null, \"California\", \"Colorado\", \"Florida\", \"Utah\", \"Mississippi\", \"Oregon\", \"Virginia\", \"Alabama\", \"New York\", \"Vermont\"], \"labels\": [\"All\", \"California\", \"Colorado\", \"Florida\", \"Utah\", \"Mississippi\", \"Oregon\", \"Virginia\", \"Alabama\", \"New York\", \"Vermont\"], \"name\": \"State\"}}, {\"name\": \"param_10\", \"select\": {\"type\": \"interval\", \"encodings\": [\"x\", \"y\"]}, \"bind\": \"scales\"}], \"title\": \"Bar Chart of Decision Results Counts for States\", \"transform\": [{\"filter\": {\"param\": \"param_9\"}}], \"$schema\": \"https://vega.github.io/schema/vega-lite/v5.8.0.json\", \"datasets\": {\"data-c5deeb307545589756637cd1b5598547\": [{\"Decision\": \"Admit\", \"State\": \"California\", \"Count\": 9}, {\"Decision\": \"Admit\", \"State\": \"Colorado\", \"Count\": 8}, {\"Decision\": \"Admit\", \"State\": \"Florida\", \"Count\": 11}, {\"Decision\": \"Admit\", \"State\": \"Utah\", \"Count\": 1}, {\"Decision\": \"Decline\", \"State\": \"California\", \"Count\": 1}, {\"Decision\": \"Decline\", \"State\": \"Colorado\", \"Count\": 6}, {\"Decision\": \"Decline\", \"State\": \"Florida\", \"Count\": 13}, {\"Decision\": \"Decline\", \"State\": \"Mississippi\", \"Count\": 1}, {\"Decision\": \"Decline\", \"State\": \"Oregon\", \"Count\": 1}, {\"Decision\": \"Decline\", \"State\": \"Utah\", \"Count\": 2}, {\"Decision\": \"Decline\", \"State\": \"Virginia\", \"Count\": 4}, {\"Decision\": \"Waitlist\", \"State\": \"Alabama\", \"Count\": 1}, {\"Decision\": \"Waitlist\", \"State\": \"California\", \"Count\": 2}, {\"Decision\": \"Waitlist\", \"State\": \"Colorado\", \"Count\": 4}, {\"Decision\": \"Waitlist\", \"State\": \"Florida\", \"Count\": 11}, {\"Decision\": \"Waitlist\", \"State\": \"New York\", \"Count\": 1}, {\"Decision\": \"Waitlist\", \"State\": \"Utah\", \"Count\": 3}, {\"Decision\": \"Waitlist\", \"State\": \"Vermont\", \"Count\": 1}]}}, {\"mode\": \"vega-lite\"});\n",
       "</script>"
      ],
      "text/plain": [
       "alt.Chart(...)"
      ]
     },
     "execution_count": 62,
     "metadata": {},
     "output_type": "execute_result"
    }
   ],
   "source": [
    "import altair as alt\n",
    "\n",
    "unique_states = decision_count['State'].unique().tolist()\n",
    "\n",
    "# Dropdown selection\n",
    "input_dropdown = alt.binding_select(options=[None] + unique_states, labels = ['All'] + unique_states, name='State')\n",
    "selection = alt.selection_single(fields=['State'], bind=input_dropdown)\n",
    "\n",
    "decision_bar = alt.Chart(decision_count).transform_filter(\n",
    "    selection\n",
    ").mark_bar().encode(\n",
    "    alt.X('Decision:O', title='Decision'),\n",
    "    alt.Y('Count:Q', title='Count'),\n",
    ").add_selection(selection).interactive()\n",
    "chart_title = \"Bar Chart of Decision Results Counts for States\"\n",
    "decision_bar = decision_bar.properties(title=chart_title)\n",
    "\n",
    "decision_bar"
   ]
  },
  {
   "cell_type": "code",
   "execution_count": 63,
   "metadata": {},
   "outputs": [
    {
     "data": {
      "text/html": [
       "\n",
       "<style>\n",
       "  #altair-viz-6bf8c68e21454eefbfd52a68ceda33d3.vega-embed {\n",
       "    width: 100%;\n",
       "    display: flex;\n",
       "  }\n",
       "\n",
       "  #altair-viz-6bf8c68e21454eefbfd52a68ceda33d3.vega-embed details,\n",
       "  #altair-viz-6bf8c68e21454eefbfd52a68ceda33d3.vega-embed details summary {\n",
       "    position: relative;\n",
       "  }\n",
       "</style>\n",
       "<div id=\"altair-viz-6bf8c68e21454eefbfd52a68ceda33d3\"></div>\n",
       "<script type=\"text/javascript\">\n",
       "  var VEGA_DEBUG = (typeof VEGA_DEBUG == \"undefined\") ? {} : VEGA_DEBUG;\n",
       "  (function(spec, embedOpt){\n",
       "    let outputDiv = document.currentScript.previousElementSibling;\n",
       "    if (outputDiv.id !== \"altair-viz-6bf8c68e21454eefbfd52a68ceda33d3\") {\n",
       "      outputDiv = document.getElementById(\"altair-viz-6bf8c68e21454eefbfd52a68ceda33d3\");\n",
       "    }\n",
       "    const paths = {\n",
       "      \"vega\": \"https://cdn.jsdelivr.net/npm/vega@5?noext\",\n",
       "      \"vega-lib\": \"https://cdn.jsdelivr.net/npm/vega-lib?noext\",\n",
       "      \"vega-lite\": \"https://cdn.jsdelivr.net/npm/vega-lite@5.8.0?noext\",\n",
       "      \"vega-embed\": \"https://cdn.jsdelivr.net/npm/vega-embed@6?noext\",\n",
       "    };\n",
       "\n",
       "    function maybeLoadScript(lib, version) {\n",
       "      var key = `${lib.replace(\"-\", \"\")}_version`;\n",
       "      return (VEGA_DEBUG[key] == version) ?\n",
       "        Promise.resolve(paths[lib]) :\n",
       "        new Promise(function(resolve, reject) {\n",
       "          var s = document.createElement('script');\n",
       "          document.getElementsByTagName(\"head\")[0].appendChild(s);\n",
       "          s.async = true;\n",
       "          s.onload = () => {\n",
       "            VEGA_DEBUG[key] = version;\n",
       "            return resolve(paths[lib]);\n",
       "          };\n",
       "          s.onerror = () => reject(`Error loading script: ${paths[lib]}`);\n",
       "          s.src = paths[lib];\n",
       "        });\n",
       "    }\n",
       "\n",
       "    function showError(err) {\n",
       "      outputDiv.innerHTML = `<div class=\"error\" style=\"color:red;\">${err}</div>`;\n",
       "      throw err;\n",
       "    }\n",
       "\n",
       "    function displayChart(vegaEmbed) {\n",
       "      vegaEmbed(outputDiv, spec, embedOpt)\n",
       "        .catch(err => showError(`Javascript Error: ${err.message}<br>This usually means there's a typo in your chart specification. See the javascript console for the full traceback.`));\n",
       "    }\n",
       "\n",
       "    if(typeof define === \"function\" && define.amd) {\n",
       "      requirejs.config({paths});\n",
       "      require([\"vega-embed\"], displayChart, err => showError(`Error loading script: ${err.message}`));\n",
       "    } else {\n",
       "      maybeLoadScript(\"vega\", \"5\")\n",
       "        .then(() => maybeLoadScript(\"vega-lite\", \"5.8.0\"))\n",
       "        .then(() => maybeLoadScript(\"vega-embed\", \"6\"))\n",
       "        .catch(showError)\n",
       "        .then(() => displayChart(vegaEmbed));\n",
       "    }\n",
       "  })({\"config\": {\"view\": {\"continuousWidth\": 300, \"continuousHeight\": 300}}, \"data\": {\"name\": \"data-c5deeb307545589756637cd1b5598547\"}, \"mark\": {\"type\": \"bar\"}, \"encoding\": {\"color\": {\"field\": \"State\", \"sort\": {\"field\": \"Count\", \"op\": \"sum\", \"order\": \"descending\"}, \"type\": \"nominal\"}, \"x\": {\"axis\": {\"labelAngle\": 0}, \"field\": \"Decision\", \"sort\": \"-y\", \"title\": \"Decision\", \"type\": \"ordinal\"}, \"xOffset\": {\"field\": \"State\", \"type\": \"nominal\"}, \"y\": {\"field\": \"Count\", \"title\": \"Count\", \"type\": \"quantitative\"}}, \"title\": \"Bar Chart of Decision Results Counts for States\", \"$schema\": \"https://vega.github.io/schema/vega-lite/v5.8.0.json\", \"datasets\": {\"data-c5deeb307545589756637cd1b5598547\": [{\"Decision\": \"Admit\", \"State\": \"California\", \"Count\": 9}, {\"Decision\": \"Admit\", \"State\": \"Colorado\", \"Count\": 8}, {\"Decision\": \"Admit\", \"State\": \"Florida\", \"Count\": 11}, {\"Decision\": \"Admit\", \"State\": \"Utah\", \"Count\": 1}, {\"Decision\": \"Decline\", \"State\": \"California\", \"Count\": 1}, {\"Decision\": \"Decline\", \"State\": \"Colorado\", \"Count\": 6}, {\"Decision\": \"Decline\", \"State\": \"Florida\", \"Count\": 13}, {\"Decision\": \"Decline\", \"State\": \"Mississippi\", \"Count\": 1}, {\"Decision\": \"Decline\", \"State\": \"Oregon\", \"Count\": 1}, {\"Decision\": \"Decline\", \"State\": \"Utah\", \"Count\": 2}, {\"Decision\": \"Decline\", \"State\": \"Virginia\", \"Count\": 4}, {\"Decision\": \"Waitlist\", \"State\": \"Alabama\", \"Count\": 1}, {\"Decision\": \"Waitlist\", \"State\": \"California\", \"Count\": 2}, {\"Decision\": \"Waitlist\", \"State\": \"Colorado\", \"Count\": 4}, {\"Decision\": \"Waitlist\", \"State\": \"Florida\", \"Count\": 11}, {\"Decision\": \"Waitlist\", \"State\": \"New York\", \"Count\": 1}, {\"Decision\": \"Waitlist\", \"State\": \"Utah\", \"Count\": 3}, {\"Decision\": \"Waitlist\", \"State\": \"Vermont\", \"Count\": 1}]}}, {\"mode\": \"vega-lite\"});\n",
       "</script>"
      ],
      "text/plain": [
       "alt.Chart(...)"
      ]
     },
     "execution_count": 63,
     "metadata": {},
     "output_type": "execute_result"
    }
   ],
   "source": [
    "import altair as alt\n",
    "\n",
    "unique_states = decision_count['State'].unique().tolist()\n",
    "\n",
    "# # Dropdown selection\n",
    "# input_dropdown = alt.binding_select(options=[None] + unique_states, labels = ['All'] + unique_states, name='State')\n",
    "# selection = alt.selection_single(fields=['State'], bind=input_dropdown)\n",
    "\n",
    "decision_bar = alt.Chart(decision_count).mark_bar().encode(\n",
    "    x=alt.X('Decision:O', title='Decision', axis=alt.Axis(labelAngle=0), sort='-y'),\n",
    "    y=alt.Y('Count:Q', title='Count'),\n",
    "    xOffset='State',\n",
    "    color=alt.Color('State:N', sort=alt.EncodingSortField(field='Count', op='sum', order='descending'))#, scale=alt.Scale(scheme='inferno'))\n",
    ")\n",
    "chart_title = \"Bar Chart of Decision Results Counts for States\"\n",
    "decision_bar = decision_bar.properties(title=chart_title)\n",
    "\n",
    "decision_bar"
   ]
  },
  {
   "cell_type": "code",
   "execution_count": 64,
   "metadata": {},
   "outputs": [
    {
     "data": {
      "text/plain": [
       "array([[<Axes: title={'center': 'Admit'}>,\n",
       "        <Axes: title={'center': 'Decline'}>],\n",
       "       [<Axes: title={'center': 'Waitlist'}>, <Axes: >]], dtype=object)"
      ]
     },
     "execution_count": 64,
     "metadata": {},
     "output_type": "execute_result"
    },
    {
     "data": {
      "image/png": "[encoded data removed]",
      "text/plain": [
       "<Figure size 640x480 with 4 Axes>"
      ]
     },
     "metadata": {},
     "output_type": "display_data"
    }
   ],
   "source": [
    "df.hist('TestScore', by='Decision')"
   ]
  },
  {
   "cell_type": "code",
   "execution_count": 65,
   "metadata": {},
   "outputs": [
    {
     "data": {
      "text/plain": [
       "[Text(0.5, 1.0, 'Histogram of Test Scores by Decision')]"
      ]
     },
     "execution_count": 65,
     "metadata": {},
     "output_type": "execute_result"
    },
    {
     "data": {
      "image/png": "[encoded data removed]",
      "text/plain": [
       "<Figure size 640x480 with 1 Axes>"
      ]
     },
     "metadata": {},
     "output_type": "display_data"
    }
   ],
   "source": [
    "sns.histplot(x=\"TestScore\", hue=\"Decision\", data=df, bins=20).set(title='Histogram of Test Scores by Decision')"
   ]
  },
  {
   "cell_type": "code",
   "execution_count": 66,
   "metadata": {},
   "outputs": [
    {
     "name": "stderr",
     "output_type": "stream",
     "text": [
      "c:\\Users\\theda\\anaconda3\\Lib\\site-packages\\altair\\utils\\deprecation.py:65: AltairDeprecationWarning:\n",
      "\n",
      "'selection_single' is deprecated.  Use 'selection_point'\n",
      "\n",
      "c:\\Users\\theda\\anaconda3\\Lib\\site-packages\\altair\\utils\\deprecation.py:65: AltairDeprecationWarning:\n",
      "\n",
      "'add_selection' is deprecated. Use 'add_params' instead.\n",
      "\n"
     ]
    },
    {
     "data": {
      "text/html": [
       "\n",
       "<style>\n",
       "  #altair-viz-518b215694a64a959ff7ec69df197d08.vega-embed {\n",
       "    width: 100%;\n",
       "    display: flex;\n",
       "  }\n",
       "\n",
       "  #altair-viz-518b215694a64a959ff7ec69df197d08.vega-embed details,\n",
       "  #altair-viz-518b215694a64a959ff7ec69df197d08.vega-embed details summary {\n",
       "    position: relative;\n",
       "  }\n",
       "</style>\n",
       "<div id=\"altair-viz-518b215694a64a959ff7ec69df197d08\"></div>\n",
       "<script type=\"text/javascript\">\n",
       "  var VEGA_DEBUG = (typeof VEGA_DEBUG == \"undefined\") ? {} : VEGA_DEBUG;\n",
       "  (function(spec, embedOpt){\n",
       "    let outputDiv = document.currentScript.previousElementSibling;\n",
       "    if (outputDiv.id !== \"altair-viz-518b215694a64a959ff7ec69df197d08\") {\n",
       "      outputDiv = document.getElementById(\"altair-viz-518b215694a64a959ff7ec69df197d08\");\n",
       "    }\n",
       "    const paths = {\n",
       "      \"vega\": \"https://cdn.jsdelivr.net/npm/vega@5?noext\",\n",
       "      \"vega-lib\": \"https://cdn.jsdelivr.net/npm/vega-lib?noext\",\n",
       "      \"vega-lite\": \"https://cdn.jsdelivr.net/npm/vega-lite@5.8.0?noext\",\n",
       "      \"vega-embed\": \"https://cdn.jsdelivr.net/npm/vega-embed@6?noext\",\n",
       "    };\n",
       "\n",
       "    function maybeLoadScript(lib, version) {\n",
       "      var key = `${lib.replace(\"-\", \"\")}_version`;\n",
       "      return (VEGA_DEBUG[key] == version) ?\n",
       "        Promise.resolve(paths[lib]) :\n",
       "        new Promise(function(resolve, reject) {\n",
       "          var s = document.createElement('script');\n",
       "          document.getElementsByTagName(\"head\")[0].appendChild(s);\n",
       "          s.async = true;\n",
       "          s.onload = () => {\n",
       "            VEGA_DEBUG[key] = version;\n",
       "            return resolve(paths[lib]);\n",
       "          };\n",
       "          s.onerror = () => reject(`Error loading script: ${paths[lib]}`);\n",
       "          s.src = paths[lib];\n",
       "        });\n",
       "    }\n",
       "\n",
       "    function showError(err) {\n",
       "      outputDiv.innerHTML = `<div class=\"error\" style=\"color:red;\">${err}</div>`;\n",
       "      throw err;\n",
       "    }\n",
       "\n",
       "    function displayChart(vegaEmbed) {\n",
       "      vegaEmbed(outputDiv, spec, embedOpt)\n",
       "        .catch(err => showError(`Javascript Error: ${err.message}<br>This usually means there's a typo in your chart specification. See the javascript console for the full traceback.`));\n",
       "    }\n",
       "\n",
       "    if(typeof define === \"function\" && define.amd) {\n",
       "      requirejs.config({paths});\n",
       "      require([\"vega-embed\"], displayChart, err => showError(`Error loading script: ${err.message}`));\n",
       "    } else {\n",
       "      maybeLoadScript(\"vega\", \"5\")\n",
       "        .then(() => maybeLoadScript(\"vega-lite\", \"5.8.0\"))\n",
       "        .then(() => maybeLoadScript(\"vega-embed\", \"6\"))\n",
       "        .catch(showError)\n",
       "        .then(() => displayChart(vegaEmbed));\n",
       "    }\n",
       "  })({\"config\": {\"view\": {\"continuousWidth\": 300, \"continuousHeight\": 300}}, \"data\": {\"name\": \"data-92a7c7e9ee40db10d3ddcd8747bca94b\"}, \"mark\": {\"type\": \"bar\", \"binSpacing\": 0, \"opacity\": 0.5}, \"encoding\": {\"color\": {\"field\": \"Decision\", \"type\": \"nominal\"}, \"x\": {\"field\": \"GPA\", \"type\": \"quantitative\"}, \"y\": {\"aggregate\": \"count\", \"title\": \"Count of Occurrences\", \"type\": \"quantitative\"}}, \"params\": [{\"name\": \"param_11\", \"select\": {\"type\": \"point\", \"fields\": [\"State\"]}, \"bind\": {\"input\": \"select\", \"options\": [null, \"California\", \"Colorado\", \"Florida\", \"Utah\", \"Mississippi\", \"Oregon\", \"Virginia\", \"Alabama\", \"New York\", \"Vermont\"], \"labels\": [\"All\", \"California\", \"Colorado\", \"Florida\", \"Utah\", \"Mississippi\", \"Oregon\", \"Virginia\", \"Alabama\", \"New York\", \"Vermont\"], \"name\": \"State\"}}, {\"name\": \"param_12\", \"select\": {\"type\": \"interval\", \"encodings\": [\"x\", \"y\"]}, \"bind\": \"scales\"}], \"title\": \"Histogram of GPA by Decision Result for States\", \"transform\": [{\"filter\": {\"param\": \"param_11\"}}], \"$schema\": \"https://vega.github.io/schema/vega-lite/v5.8.0.json\", \"datasets\": {\"data-92a7c7e9ee40db10d3ddcd8747bca94b\": [{\"Decision\": \"Admit\", \"State\": \"California\", \"GPA\": 3.9, \"WorkExp\": 6.7, \"TestScore\": 962.0, \"WritingScore\": 100, \"Gender\": 1.0, \"VolunteerLevel\": 0}, {\"Decision\": \"Admit\", \"State\": \"Florida\", \"GPA\": 3.8, \"WorkExp\": 1.4, \"TestScore\": 969.0, \"WritingScore\": 97, \"Gender\": 1.0, \"VolunteerLevel\": 4}, {\"Decision\": \"Admit\", \"State\": \"Colorado\", \"GPA\": 3.6, \"WorkExp\": 0.9, \"TestScore\": 969.0, \"WritingScore\": 97, \"Gender\": 0.0, \"VolunteerLevel\": 2}, {\"Decision\": \"Admit\", \"State\": \"California\", \"GPA\": 3.88, \"WorkExp\": 1.5, \"TestScore\": 967.0, \"WritingScore\": 95, \"Gender\": 1.0, \"VolunteerLevel\": 5}, {\"Decision\": \"Admit\", \"State\": \"California\", \"GPA\": 3.7, \"WorkExp\": 1.2, \"TestScore\": 969.0, \"WritingScore\": 94, \"Gender\": 1.0, \"VolunteerLevel\": 2}, {\"Decision\": \"Admit\", \"State\": \"Florida\", \"GPA\": 3.9, \"WorkExp\": 4.7, \"TestScore\": 961.0, \"WritingScore\": 93, \"Gender\": 1.0, \"VolunteerLevel\": 1}, {\"Decision\": \"Admit\", \"State\": \"California\", \"GPA\": 3.7, \"WorkExp\": 1.4, \"TestScore\": 966.0, \"WritingScore\": 94, \"Gender\": 1.0, \"VolunteerLevel\": 0}, {\"Decision\": \"Admit\", \"State\": \"Florida\", \"GPA\": 3.93, \"WorkExp\": 0.8, \"TestScore\": 969.0, \"WritingScore\": 99, \"Gender\": 1.0, \"VolunteerLevel\": 4}, {\"Decision\": \"Admit\", \"State\": \"Colorado\", \"GPA\": 3.6, \"WorkExp\": 1.2, \"TestScore\": 967.0, \"WritingScore\": 94, \"Gender\": 1.0, \"VolunteerLevel\": 2}, {\"Decision\": \"Admit\", \"State\": \"California\", \"GPA\": 3.69, \"WorkExp\": 3.2, \"TestScore\": 967.0, \"WritingScore\": 93, \"Gender\": 0.0, \"VolunteerLevel\": 3}, {\"Decision\": \"Admit\", \"State\": \"Florida\", \"GPA\": 3.7, \"WorkExp\": 3.7, \"TestScore\": 969.0, \"WritingScore\": 99, \"Gender\": 0.0, \"VolunteerLevel\": 2}, {\"Decision\": \"Admit\", \"State\": \"Colorado\", \"GPA\": 3.9, \"WorkExp\": 3.8, \"TestScore\": 967.0, \"WritingScore\": 98, \"Gender\": 1.0, \"VolunteerLevel\": 3}, {\"Decision\": \"Admit\", \"State\": \"Colorado\", \"GPA\": 3.78, \"WorkExp\": 1.2, \"TestScore\": 966.0, \"WritingScore\": 1, \"Gender\": 0.0, \"VolunteerLevel\": 4}, {\"Decision\": \"Admit\", \"State\": \"California\", \"GPA\": 3.7, \"WorkExp\": 2.7, \"TestScore\": 799.0, \"WritingScore\": 97, \"Gender\": 0.0, \"VolunteerLevel\": 5}, {\"Decision\": \"Admit\", \"State\": \"Florida\", \"GPA\": 3.5, \"WorkExp\": 0.7, \"TestScore\": 965.0, \"WritingScore\": 91, \"Gender\": 0.0, \"VolunteerLevel\": 1}, {\"Decision\": \"Admit\", \"State\": \"Colorado\", \"GPA\": 3.65, \"WorkExp\": 1.7, \"TestScore\": 963.0, \"WritingScore\": 90, \"Gender\": 0.0, \"VolunteerLevel\": 1}, {\"Decision\": \"Admit\", \"State\": \"Colorado\", \"GPA\": 3.75, \"WorkExp\": 1.1, \"TestScore\": 969.0, \"WritingScore\": 93, \"Gender\": 1.0, \"VolunteerLevel\": 0}, {\"Decision\": \"Admit\", \"State\": \"California\", \"GPA\": 3.78, \"WorkExp\": 8.7, \"TestScore\": 966.0, \"WritingScore\": 91, \"Gender\": 0.0, \"VolunteerLevel\": 2}, {\"Decision\": \"Admit\", \"State\": \"Florida\", \"GPA\": 3.54, \"WorkExp\": 0.7, \"TestScore\": 965.0, \"WritingScore\": 11, \"Gender\": 1.0, \"VolunteerLevel\": 1}, {\"Decision\": \"Admit\", \"State\": \"Florida\", \"GPA\": 3.66, \"WorkExp\": 2.2, \"TestScore\": 967.0, \"WritingScore\": 91, \"Gender\": 0.0, \"VolunteerLevel\": 2}, {\"Decision\": \"Admit\", \"State\": \"Florida\", \"GPA\": 3.9, \"WorkExp\": 0.0, \"TestScore\": 967.0, \"WritingScore\": 88, \"Gender\": 1.0, \"VolunteerLevel\": 0}, {\"Decision\": \"Admit\", \"State\": \"Florida\", \"GPA\": 3.55, \"WorkExp\": 0.0, \"TestScore\": 962.0, \"WritingScore\": 97, \"Gender\": 0.0, \"VolunteerLevel\": 0}, {\"Decision\": \"Admit\", \"State\": \"Colorado\", \"GPA\": 3.59, \"WorkExp\": 1.7, \"TestScore\": 969.0, \"WritingScore\": 93, \"Gender\": 1.0, \"VolunteerLevel\": 0}, {\"Decision\": \"Admit\", \"State\": \"California\", \"GPA\": 3.66, \"WorkExp\": 0.9, \"TestScore\": 956.0, \"WritingScore\": 89, \"Gender\": 0.0, \"VolunteerLevel\": 1}, {\"Decision\": \"Admit\", \"State\": \"Utah\", \"GPA\": 3.78, \"WorkExp\": 1.2, \"TestScore\": 968.0, \"WritingScore\": 87, \"Gender\": 1.0, \"VolunteerLevel\": 2}, {\"Decision\": \"Admit\", \"State\": \"Colorado\", \"GPA\": 3.88, \"WorkExp\": 1.0, \"TestScore\": 969.0, \"WritingScore\": 93, \"Gender\": 0.0, \"VolunteerLevel\": 4}, {\"Decision\": \"Admit\", \"State\": \"Florida\", \"GPA\": 3.8, \"WorkExp\": 1.9, \"TestScore\": 965.0, \"WritingScore\": 94, \"Gender\": 1.0, \"VolunteerLevel\": 5}, {\"Decision\": \"Admit\", \"State\": \"Florida\", \"GPA\": 3.77, \"WorkExp\": 1.4, \"TestScore\": 969.0, \"WritingScore\": 99, \"Gender\": 0.0, \"VolunteerLevel\": 4}, {\"Decision\": \"Admit\", \"State\": \"California\", \"GPA\": 3.87, \"WorkExp\": 1.7, \"TestScore\": 966.0, \"WritingScore\": 97, \"Gender\": 1.0, \"VolunteerLevel\": 5}, {\"Decision\": \"Decline\", \"State\": \"Florida\", \"GPA\": 3.56, \"WorkExp\": 3.7, \"TestScore\": 899.0, \"WritingScore\": 78, \"Gender\": 0.0, \"VolunteerLevel\": 3}, {\"Decision\": \"Decline\", \"State\": \"Florida\", \"GPA\": 3.79, \"WorkExp\": 1.4, \"TestScore\": 867.0, \"WritingScore\": 77, \"Gender\": 1.0, \"VolunteerLevel\": 2}, {\"Decision\": \"Decline\", \"State\": \"Florida\", \"GPA\": 3.71, \"WorkExp\": 0.7, \"TestScore\": 789.0, \"WritingScore\": 82, \"Gender\": 0.0, \"VolunteerLevel\": 4}, {\"Decision\": \"Decline\", \"State\": \"Florida\", \"GPA\": 3.74, \"WorkExp\": 1.3, \"TestScore\": 800.0, \"WritingScore\": 56, \"Gender\": 1.0, \"VolunteerLevel\": 4}, {\"Decision\": \"Decline\", \"State\": \"Florida\", \"GPA\": 3.61, \"WorkExp\": 1.3, \"TestScore\": 789.0, \"WritingScore\": 56, \"Gender\": 1.0, \"VolunteerLevel\": 5}, {\"Decision\": \"Decline\", \"State\": \"Florida\", \"GPA\": 3.54, \"WorkExp\": 0.9, \"TestScore\": 765.0, \"WritingScore\": 78, \"Gender\": 1.0, \"VolunteerLevel\": 0}, {\"Decision\": \"Decline\", \"State\": \"Florida\", \"GPA\": 3.84, \"WorkExp\": 2.7, \"TestScore\": 896.0, \"WritingScore\": 89, \"Gender\": 1.0, \"VolunteerLevel\": 1}, {\"Decision\": \"Decline\", \"State\": \"Florida\", \"GPA\": 2.81, \"WorkExp\": 9.2, \"TestScore\": 764.0, \"WritingScore\": 56, \"Gender\": 0.0, \"VolunteerLevel\": 2}, {\"Decision\": \"Decline\", \"State\": \"California\", \"GPA\": 2.34, \"WorkExp\": 0.8, \"TestScore\": 754.0, \"WritingScore\": 76, \"Gender\": 1.0, \"VolunteerLevel\": 1}, {\"Decision\": \"Decline\", \"State\": \"Oregon\", \"GPA\": 2.9, \"WorkExp\": 0.9, \"TestScore\": 769.0, \"WritingScore\": 87, \"Gender\": 1.0, \"VolunteerLevel\": 4}, {\"Decision\": \"Decline\", \"State\": \"Florida\", \"GPA\": 3.33, \"WorkExp\": 1.6, \"TestScore\": 766.0, \"WritingScore\": 81, \"Gender\": 1.0, \"VolunteerLevel\": 5}, {\"Decision\": \"Decline\", \"State\": \"Virginia\", \"GPA\": 3.37, \"WorkExp\": 0.9, \"TestScore\": 766.0, \"WritingScore\": 79, \"Gender\": 0.0, \"VolunteerLevel\": 2}, {\"Decision\": \"Decline\", \"State\": \"Colorado\", \"GPA\": 3.0, \"WorkExp\": 1.2, \"TestScore\": 768.0, \"WritingScore\": 77, \"Gender\": 1.0, \"VolunteerLevel\": 1}, {\"Decision\": \"Decline\", \"State\": \"Florida\", \"GPA\": 3.1, \"WorkExp\": 1.9, \"TestScore\": 751.0, \"WritingScore\": 76, \"Gender\": 0.0, \"VolunteerLevel\": 0}, {\"Decision\": \"Decline\", \"State\": \"Virginia\", \"GPA\": 3.22, \"WorkExp\": 3.2, \"TestScore\": 769.0, \"WritingScore\": 75, \"Gender\": 0.0, \"VolunteerLevel\": 1}, {\"Decision\": \"Decline\", \"State\": \"Florida\", \"GPA\": 3.54, \"WorkExp\": 1.1, \"TestScore\": 767.0, \"WritingScore\": 65, \"Gender\": 0.0, \"VolunteerLevel\": 4}, {\"Decision\": \"Decline\", \"State\": \"Colorado\", \"GPA\": 3.44, \"WorkExp\": 3.2, \"TestScore\": 757.0, \"WritingScore\": 74, \"Gender\": 1.0, \"VolunteerLevel\": 3}, {\"Decision\": \"Decline\", \"State\": \"Colorado\", \"GPA\": 2.98, \"WorkExp\": 0.7, \"TestScore\": 763.0, \"WritingScore\": 71, \"Gender\": 0.0, \"VolunteerLevel\": 1}, {\"Decision\": \"Decline\", \"State\": \"Virginia\", \"GPA\": 2.77, \"WorkExp\": 3.7, \"TestScore\": 763.0, \"WritingScore\": 73, \"Gender\": 1.0, \"VolunteerLevel\": 5}, {\"Decision\": \"Decline\", \"State\": \"Florida\", \"GPA\": 3.18, \"WorkExp\": 1.4, \"TestScore\": 768.0, \"WritingScore\": 72, \"Gender\": 0.0, \"VolunteerLevel\": 0}, {\"Decision\": \"Decline\", \"State\": \"Colorado\", \"GPA\": 3.11, \"WorkExp\": 1.7, \"TestScore\": 758.0, \"WritingScore\": 69, \"Gender\": 1.0, \"VolunteerLevel\": 3}, {\"Decision\": \"Decline\", \"State\": \"Colorado\", \"GPA\": 3.32, \"WorkExp\": 1.7, \"TestScore\": 768.0, \"WritingScore\": 78, \"Gender\": 0.0, \"VolunteerLevel\": 4}, {\"Decision\": \"Decline\", \"State\": \"Utah\", \"GPA\": 3.01, \"WorkExp\": 1.4, \"TestScore\": 769.0, \"WritingScore\": 69, \"Gender\": 0.0, \"VolunteerLevel\": 2}, {\"Decision\": \"Decline\", \"State\": \"Utah\", \"GPA\": 3.33, \"WorkExp\": 0.8, \"TestScore\": 768.0, \"WritingScore\": 70, \"Gender\": 0.0, \"VolunteerLevel\": 1}, {\"Decision\": \"Decline\", \"State\": \"Mississippi\", \"GPA\": 2.91, \"WorkExp\": 6.2, \"TestScore\": 753.0, \"WritingScore\": 77, \"Gender\": 1.0, \"VolunteerLevel\": 1}, {\"Decision\": \"Decline\", \"State\": \"Florida\", \"GPA\": 3.56, \"WorkExp\": 1.7, \"TestScore\": 769.0, \"WritingScore\": 81, \"Gender\": 1.0, \"VolunteerLevel\": 4}, {\"Decision\": \"Decline\", \"State\": \"Colorado\", \"GPA\": 2.85, \"WorkExp\": 4.6, \"TestScore\": 762.0, \"WritingScore\": 75, \"Gender\": 1.0, \"VolunteerLevel\": 4}, {\"Decision\": \"Decline\", \"State\": \"Virginia\", \"GPA\": 3.21, \"WorkExp\": 1.7, \"TestScore\": 766.0, \"WritingScore\": 79, \"Gender\": 1.0, \"VolunteerLevel\": 5}, {\"Decision\": \"Waitlist\", \"State\": \"Florida\", \"GPA\": 3.4, \"WorkExp\": 1.9, \"TestScore\": 859.0, \"WritingScore\": 88, \"Gender\": 0.0, \"VolunteerLevel\": 4}, {\"Decision\": \"Waitlist\", \"State\": \"Florida\", \"GPA\": 3.45, \"WorkExp\": 4.7, \"TestScore\": 867.0, \"WritingScore\": 71, \"Gender\": 0.0, \"VolunteerLevel\": 3}, {\"Decision\": \"Waitlist\", \"State\": \"Florida\", \"GPA\": 3.5, \"WorkExp\": 1.7, \"TestScore\": 869.0, \"WritingScore\": 73, \"Gender\": 0.0, \"VolunteerLevel\": 2}, {\"Decision\": \"Waitlist\", \"State\": \"New York\", \"GPA\": 3.55, \"WorkExp\": 2.2, \"TestScore\": 866.0, \"WritingScore\": 74, \"Gender\": 1.0, \"VolunteerLevel\": 1}, {\"Decision\": \"Waitlist\", \"State\": \"Alabama\", \"GPA\": 3.41, \"WorkExp\": 1.2, \"TestScore\": 868.0, \"WritingScore\": 85, \"Gender\": 0.0, \"VolunteerLevel\": 0}, {\"Decision\": \"Waitlist\", \"State\": \"Florida\", \"GPA\": 3.53, \"WorkExp\": 1.7, \"TestScore\": 869.0, \"WritingScore\": 87, \"Gender\": 1.0, \"VolunteerLevel\": 2}, {\"Decision\": \"Waitlist\", \"State\": \"Colorado\", \"GPA\": 3.5, \"WorkExp\": 3.5, \"TestScore\": 869.0, \"WritingScore\": 83, \"Gender\": 0.0, \"VolunteerLevel\": 4}, {\"Decision\": \"Waitlist\", \"State\": \"Utah\", \"GPA\": 3.39, \"WorkExp\": 1.8, \"TestScore\": 866.0, \"WritingScore\": 82, \"Gender\": 1.0, \"VolunteerLevel\": 5}, {\"Decision\": \"Waitlist\", \"State\": \"California\", \"GPA\": 3.52, \"WorkExp\": 2.7, \"TestScore\": 855.0, \"WritingScore\": 87, \"Gender\": 1.0, \"VolunteerLevel\": 3}, {\"Decision\": \"Waitlist\", \"State\": \"Colorado\", \"GPA\": 3.49, \"WorkExp\": 1.3, \"TestScore\": 866.0, \"WritingScore\": 86, \"Gender\": 0.0, \"VolunteerLevel\": 5}, {\"Decision\": \"Waitlist\", \"State\": \"Colorado\", \"GPA\": 3.43, \"WorkExp\": 1.5, \"TestScore\": 869.0, \"WritingScore\": 85, \"Gender\": 1.0, \"VolunteerLevel\": 1}, {\"Decision\": \"Waitlist\", \"State\": \"Florida\", \"GPA\": 3.44, \"WorkExp\": 7.2, \"TestScore\": 865.0, \"WritingScore\": 84, \"Gender\": 0.0, \"VolunteerLevel\": 2}, {\"Decision\": \"Waitlist\", \"State\": \"Florida\", \"GPA\": 3.29, \"WorkExp\": 1.2, \"TestScore\": 869.0, \"WritingScore\": 83, \"Gender\": 1.0, \"VolunteerLevel\": 4}, {\"Decision\": \"Waitlist\", \"State\": \"Utah\", \"GPA\": 3.58, \"WorkExp\": 0.9, \"TestScore\": 864.0, \"WritingScore\": 82, \"Gender\": 1.0, \"VolunteerLevel\": 5}, {\"Decision\": \"Waitlist\", \"State\": \"Utah\", \"GPA\": 3.57, \"WorkExp\": 1.4, \"TestScore\": 869.0, \"WritingScore\": 80, \"Gender\": 1.0, \"VolunteerLevel\": 0}, {\"Decision\": \"Waitlist\", \"State\": \"Florida\", \"GPA\": 3.56, \"WorkExp\": 1.3, \"TestScore\": 869.0, \"WritingScore\": 84, \"Gender\": 1.0, \"VolunteerLevel\": 3}, {\"Decision\": \"Waitlist\", \"State\": \"Florida\", \"GPA\": 3.55, \"WorkExp\": 2.0, \"TestScore\": 853.0, \"WritingScore\": 81, \"Gender\": 0.0, \"VolunteerLevel\": 1}, {\"Decision\": \"Waitlist\", \"State\": \"Colorado\", \"GPA\": 3.54, \"WorkExp\": 1.2, \"TestScore\": 868.0, \"WritingScore\": 83, \"Gender\": 0.0, \"VolunteerLevel\": 2}, {\"Decision\": \"Waitlist\", \"State\": \"Vermont\", \"GPA\": 3.53, \"WorkExp\": 3.3, \"TestScore\": 862.0, \"WritingScore\": 85, \"Gender\": 1.0, \"VolunteerLevel\": 1}, {\"Decision\": \"Waitlist\", \"State\": \"Florida\", \"GPA\": 3.52, \"WorkExp\": 0.7, \"TestScore\": 868.0, \"WritingScore\": 81, \"Gender\": 0.0, \"VolunteerLevel\": 4}, {\"Decision\": \"Waitlist\", \"State\": \"Florida\", \"GPA\": 3.51, \"WorkExp\": 3.4, \"TestScore\": 865.0, \"WritingScore\": 88, \"Gender\": 1.0, \"VolunteerLevel\": 3}, {\"Decision\": \"Waitlist\", \"State\": \"California\", \"GPA\": 3.47, \"WorkExp\": 2.2, \"TestScore\": 867.0, \"WritingScore\": 77, \"Gender\": 1.0, \"VolunteerLevel\": 5}, {\"Decision\": \"Waitlist\", \"State\": \"Florida\", \"GPA\": 3.46, \"WorkExp\": 1.9, \"TestScore\": 869.0, \"WritingScore\": 89, \"Gender\": 1.0, \"VolunteerLevel\": 0}]}}, {\"mode\": \"vega-lite\"});\n",
       "</script>"
      ],
      "text/plain": [
       "alt.Chart(...)"
      ]
     },
     "execution_count": 66,
     "metadata": {},
     "output_type": "execute_result"
    }
   ],
   "source": [
    "# Dropdown selection\n",
    "input_dropdown = alt.binding_select(options=[None] + unique_states, labels = ['All'] + unique_states, name='State')\n",
    "selection = alt.selection_single(fields=['State'], bind=input_dropdown)\n",
    "\n",
    "gpa_bar = alt.Chart(df).transform_filter(\n",
    "    selection\n",
    ").mark_bar(\n",
    "    opacity=0.5,\n",
    "    binSpacing=0\n",
    ").encode(\n",
    "    alt.X('GPA:Q'),\n",
    "    alt.Y('count()', title='Count of Occurrences'),\n",
    "    alt.Color('Decision:N')\n",
    ").add_selection(selection).interactive()\n",
    "chart_title = \"Histogram of GPA by Decision Result for States\"\n",
    "gpa_bar = gpa_bar.properties(title=chart_title)\n",
    "\n",
    "gpa_bar"
   ]
  },
  {
   "cell_type": "code",
   "execution_count": 141,
   "metadata": {},
   "outputs": [],
   "source": [
    "custom_palette = ['#00072D', '#0A2472', '#0E6BA8', '#A6E1FA', '#99ABC5', '#8B748F', '#6F0624']"
   ]
  },
  {
   "cell_type": "code",
   "execution_count": 144,
   "metadata": {},
   "outputs": [
    {
     "data": {
      "text/plain": [
       "Text(0.5, 0.98, 'Pairplot of GPA, Work Experience, and Test Score by Decision')"
      ]
     },
     "execution_count": 144,
     "metadata": {},
     "output_type": "execute_result"
    },
    {
     "data": {
      "image/png": "[encoded data removed]",
      "text/plain": [
       "<Figure size 851.875x750 with 9 Axes>"
      ]
     },
     "metadata": {},
     "output_type": "display_data"
    }
   ],
   "source": [
    "scatter_cols = df[['State', 'Decision', 'GPA', 'WorkExp', 'TestScore']]\n",
    "tri_color = [custom_palette[0], custom_palette[2], custom_palette[6]]\n",
    "g = sns.pairplot(scatter_cols, hue='Decision', palette=tri_color, corner=True)\n",
    "g.fig.suptitle('Pairplot of GPA, Work Experience, and Test Score by Decision')\n",
    "#sns.color_palette('YlGnBu')"
   ]
  },
  {
   "cell_type": "markdown",
   "metadata": {},
   "source": [
    "## Maps"
   ]
  },
  {
   "cell_type": "code",
   "execution_count": 68,
   "metadata": {},
   "outputs": [
    {
     "data": {
      "text/html": [
       "<div>\n",
       "<style scoped>\n",
       "    .dataframe tbody tr th:only-of-type {\n",
       "        vertical-align: middle;\n",
       "    }\n",
       "\n",
       "    .dataframe tbody tr th {\n",
       "        vertical-align: top;\n",
       "    }\n",
       "\n",
       "    .dataframe thead th {\n",
       "        text-align: right;\n",
       "    }\n",
       "</style>\n",
       "<table border=\"1\" class=\"dataframe\">\n",
       "  <thead>\n",
       "    <tr style=\"text-align: right;\">\n",
       "      <th></th>\n",
       "      <th>GPA</th>\n",
       "      <th>WorkExp</th>\n",
       "      <th>TestScore</th>\n",
       "      <th>WritingScore</th>\n",
       "      <th>VolunteerLevel</th>\n",
       "      <th>State</th>\n",
       "    </tr>\n",
       "  </thead>\n",
       "  <tbody>\n",
       "    <tr>\n",
       "      <th>0</th>\n",
       "      <td>3.410000</td>\n",
       "      <td>1.200000</td>\n",
       "      <td>868.000000</td>\n",
       "      <td>85.000000</td>\n",
       "      <td>0.000000</td>\n",
       "      <td>AL</td>\n",
       "    </tr>\n",
       "    <tr>\n",
       "      <th>1</th>\n",
       "      <td>3.600833</td>\n",
       "      <td>2.808333</td>\n",
       "      <td>916.166667</td>\n",
       "      <td>90.833333</td>\n",
       "      <td>2.666667</td>\n",
       "      <td>CA</td>\n",
       "    </tr>\n",
       "    <tr>\n",
       "      <th>2</th>\n",
       "      <td>3.467222</td>\n",
       "      <td>1.844444</td>\n",
       "      <td>877.055556</td>\n",
       "      <td>80.000000</td>\n",
       "      <td>2.444444</td>\n",
       "      <td>CO</td>\n",
       "    </tr>\n",
       "    <tr>\n",
       "      <th>3</th>\n",
       "      <td>3.559143</td>\n",
       "      <td>2.117143</td>\n",
       "      <td>872.571429</td>\n",
       "      <td>80.428571</td>\n",
       "      <td>2.457143</td>\n",
       "      <td>FL</td>\n",
       "    </tr>\n",
       "    <tr>\n",
       "      <th>4</th>\n",
       "      <td>2.910000</td>\n",
       "      <td>6.200000</td>\n",
       "      <td>753.000000</td>\n",
       "      <td>77.000000</td>\n",
       "      <td>1.000000</td>\n",
       "      <td>MS</td>\n",
       "    </tr>\n",
       "    <tr>\n",
       "      <th>5</th>\n",
       "      <td>3.550000</td>\n",
       "      <td>2.200000</td>\n",
       "      <td>866.000000</td>\n",
       "      <td>74.000000</td>\n",
       "      <td>1.000000</td>\n",
       "      <td>NY</td>\n",
       "    </tr>\n",
       "    <tr>\n",
       "      <th>6</th>\n",
       "      <td>2.900000</td>\n",
       "      <td>0.900000</td>\n",
       "      <td>769.000000</td>\n",
       "      <td>87.000000</td>\n",
       "      <td>4.000000</td>\n",
       "      <td>OR</td>\n",
       "    </tr>\n",
       "    <tr>\n",
       "      <th>7</th>\n",
       "      <td>3.443333</td>\n",
       "      <td>1.250000</td>\n",
       "      <td>850.666667</td>\n",
       "      <td>78.333333</td>\n",
       "      <td>2.500000</td>\n",
       "      <td>UT</td>\n",
       "    </tr>\n",
       "    <tr>\n",
       "      <th>8</th>\n",
       "      <td>3.530000</td>\n",
       "      <td>3.300000</td>\n",
       "      <td>862.000000</td>\n",
       "      <td>85.000000</td>\n",
       "      <td>1.000000</td>\n",
       "      <td>VT</td>\n",
       "    </tr>\n",
       "    <tr>\n",
       "      <th>9</th>\n",
       "      <td>3.142500</td>\n",
       "      <td>2.375000</td>\n",
       "      <td>766.000000</td>\n",
       "      <td>76.500000</td>\n",
       "      <td>3.250000</td>\n",
       "      <td>VA</td>\n",
       "    </tr>\n",
       "  </tbody>\n",
       "</table>\n",
       "</div>"
      ],
      "text/plain": [
       "        GPA   WorkExp   TestScore  WritingScore  VolunteerLevel State\n",
       "0  3.410000  1.200000  868.000000     85.000000        0.000000    AL\n",
       "1  3.600833  2.808333  916.166667     90.833333        2.666667    CA\n",
       "2  3.467222  1.844444  877.055556     80.000000        2.444444    CO\n",
       "3  3.559143  2.117143  872.571429     80.428571        2.457143    FL\n",
       "4  2.910000  6.200000  753.000000     77.000000        1.000000    MS\n",
       "5  3.550000  2.200000  866.000000     74.000000        1.000000    NY\n",
       "6  2.900000  0.900000  769.000000     87.000000        4.000000    OR\n",
       "7  3.443333  1.250000  850.666667     78.333333        2.500000    UT\n",
       "8  3.530000  3.300000  862.000000     85.000000        1.000000    VT\n",
       "9  3.142500  2.375000  766.000000     76.500000        3.250000    VA"
      ]
     },
     "execution_count": 68,
     "metadata": {},
     "output_type": "execute_result"
    }
   ],
   "source": [
    "#calculate averages of all numeric columns\n",
    "num_cols = df[['State', 'GPA', 'WorkExp', 'TestScore', 'WritingScore', 'VolunteerLevel']]\n",
    "avg_df = num_cols.groupby('State').mean().reset_index()\n",
    "state_abbr = {\n",
    "    'Alabama': 'AL',\n",
    "    'California': 'CA',\n",
    "    'Colorado': 'CO',\n",
    "    'Florida': 'FL',\n",
    "    'Georgia': 'GA',\n",
    "    'Mississippi': 'MS',\n",
    "    'New York': 'NY',\n",
    "    'Oregon': 'OR',\n",
    "    'Utah': 'UT',\n",
    "    'Vermont': 'VT',\n",
    "    'Virginia': 'VA'\n",
    "\n",
    "}\n",
    "avg_df['State_Abbr'] = avg_df['State'].map(state_abbr)\n",
    "avg_df = avg_df.drop(columns=['State'])\n",
    "avg_df = avg_df.rename(columns={'State_Abbr': 'State'})\n",
    "avg_df"
   ]
  },
  {
   "cell_type": "code",
   "execution_count": 145,
   "metadata": {},
   "outputs": [
    {
     "data": {
      "application/vnd.plotly.v1+json": {
       "config": {
        "plotlyServerURL": "https://plotly.com"
       },
       "data": [
        {
         "coloraxis": "coloraxis",
         "customdata": [
          [
           "AL",
           3.41
          ],
          [
           "CA",
           3.6008333333333336
          ],
          [
           "CO",
           3.467222222222222
          ],
          [
           "FL",
           3.559142857142857
          ],
          [
           "MS",
           2.91
          ],
          [
           "NY",
           3.55
          ],
          [
           "OR",
           2.9
          ],
          [
           "UT",
           3.4433333333333334
          ],
          [
           "VT",
           3.53
          ],
          [
           "VA",
           3.1425
          ]
         ],
         "geo": "geo",
         "hovertemplate": "State=%{customdata[0]}<br>Selected Variable=%{z}<extra></extra>",
         "locationmode": "USA-states",
         "locations": [
          "AL",
          "CA",
          "CO",
          "FL",
          "MS",
          "NY",
          "OR",
          "UT",
          "VT",
          "VA"
         ],
         "name": "",
         "type": "choropleth",
         "z": [
          3.41,
          3.6008333333333336,
          3.467222222222222,
          3.559142857142857,
          2.91,
          3.55,
          2.9,
          3.4433333333333334,
          3.53,
          3.1425
         ]
        }
       ],
       "layout": {
        "coloraxis": {
         "colorbar": {
          "title": {
           "text": "Selected Variable"
          }
         },
         "colorscale": [
          [
           0,
           "#00072D"
          ],
          [
           0.16666666666666666,
           "#0A2472"
          ],
          [
           0.3333333333333333,
           "#0E6BA8"
          ],
          [
           0.5,
           "#A6E1FA"
          ],
          [
           0.6666666666666666,
           "#99ABC5"
          ],
          [
           0.8333333333333334,
           "#8B748F"
          ],
          [
           1,
           "#6F0624"
          ]
         ]
        },
        "geo": {
         "center": {},
         "domain": {
          "x": [
           0,
           1
          ],
          "y": [
           0,
           1
          ]
         },
         "scope": "usa"
        },
        "legend": {
         "tracegroupgap": 0
        },
        "margin": {
         "t": 60
        },
        "template": {
         "data": {
          "bar": [
           {
            "error_x": {
             "color": "#2a3f5f"
            },
            "error_y": {
             "color": "#2a3f5f"
            },
            "marker": {
             "line": {
              "color": "#E5ECF6",
              "width": 0.5
             },
             "pattern": {
              "fillmode": "overlay",
              "size": 10,
              "solidity": 0.2
             }
            },
            "type": "bar"
           }
          ],
          "barpolar": [
           {
            "marker": {
             "line": {
              "color": "#E5ECF6",
              "width": 0.5
             },
             "pattern": {
              "fillmode": "overlay",
              "size": 10,
              "solidity": 0.2
             }
            },
            "type": "barpolar"
           }
          ],
          "carpet": [
           {
            "aaxis": {
             "endlinecolor": "#2a3f5f",
             "gridcolor": "white",
             "linecolor": "white",
             "minorgridcolor": "white",
             "startlinecolor": "#2a3f5f"
            },
            "baxis": {
             "endlinecolor": "#2a3f5f",
             "gridcolor": "white",
             "linecolor": "white",
             "minorgridcolor": "white",
             "startlinecolor": "#2a3f5f"
            },
            "type": "carpet"
           }
          ],
          "choropleth": [
           {
            "colorbar": {
             "outlinewidth": 0,
             "ticks": ""
            },
            "type": "choropleth"
           }
          ],
          "contour": [
           {
            "colorbar": {
             "outlinewidth": 0,
             "ticks": ""
            },
            "colorscale": [
             [
              0,
              "#0d0887"
             ],
             [
              0.1111111111111111,
              "#46039f"
             ],
             [
              0.2222222222222222,
              "#7201a8"
             ],
             [
              0.3333333333333333,
              "#9c179e"
             ],
             [
              0.4444444444444444,
              "#bd3786"
             ],
             [
              0.5555555555555556,
              "#d8576b"
             ],
             [
              0.6666666666666666,
              "#ed7953"
             ],
             [
              0.7777777777777778,
              "#fb9f3a"
             ],
             [
              0.8888888888888888,
              "#fdca26"
             ],
             [
              1,
              "#f0f921"
             ]
            ],
            "type": "contour"
           }
          ],
          "contourcarpet": [
           {
            "colorbar": {
             "outlinewidth": 0,
             "ticks": ""
            },
            "type": "contourcarpet"
           }
          ],
          "heatmap": [
           {
            "colorbar": {
             "outlinewidth": 0,
             "ticks": ""
            },
            "colorscale": [
             [
              0,
              "#0d0887"
             ],
             [
              0.1111111111111111,
              "#46039f"
             ],
             [
              0.2222222222222222,
              "#7201a8"
             ],
             [
              0.3333333333333333,
              "#9c179e"
             ],
             [
              0.4444444444444444,
              "#bd3786"
             ],
             [
              0.5555555555555556,
              "#d8576b"
             ],
             [
              0.6666666666666666,
              "#ed7953"
             ],
             [
              0.7777777777777778,
              "#fb9f3a"
             ],
             [
              0.8888888888888888,
              "#fdca26"
             ],
             [
              1,
              "#f0f921"
             ]
            ],
            "type": "heatmap"
           }
          ],
          "heatmapgl": [
           {
            "colorbar": {
             "outlinewidth": 0,
             "ticks": ""
            },
            "colorscale": [
             [
              0,
              "#0d0887"
             ],
             [
              0.1111111111111111,
              "#46039f"
             ],
             [
              0.2222222222222222,
              "#7201a8"
             ],
             [
              0.3333333333333333,
              "#9c179e"
             ],
             [
              0.4444444444444444,
              "#bd3786"
             ],
             [
              0.5555555555555556,
              "#d8576b"
             ],
             [
              0.6666666666666666,
              "#ed7953"
             ],
             [
              0.7777777777777778,
              "#fb9f3a"
             ],
             [
              0.8888888888888888,
              "#fdca26"
             ],
             [
              1,
              "#f0f921"
             ]
            ],
            "type": "heatmapgl"
           }
          ],
          "histogram": [
           {
            "marker": {
             "pattern": {
              "fillmode": "overlay",
              "size": 10,
              "solidity": 0.2
             }
            },
            "type": "histogram"
           }
          ],
          "histogram2d": [
           {
            "colorbar": {
             "outlinewidth": 0,
             "ticks": ""
            },
            "colorscale": [
             [
              0,
              "#0d0887"
             ],
             [
              0.1111111111111111,
              "#46039f"
             ],
             [
              0.2222222222222222,
              "#7201a8"
             ],
             [
              0.3333333333333333,
              "#9c179e"
             ],
             [
              0.4444444444444444,
              "#bd3786"
             ],
             [
              0.5555555555555556,
              "#d8576b"
             ],
             [
              0.6666666666666666,
              "#ed7953"
             ],
             [
              0.7777777777777778,
              "#fb9f3a"
             ],
             [
              0.8888888888888888,
              "#fdca26"
             ],
             [
              1,
              "#f0f921"
             ]
            ],
            "type": "histogram2d"
           }
          ],
          "histogram2dcontour": [
           {
            "colorbar": {
             "outlinewidth": 0,
             "ticks": ""
            },
            "colorscale": [
             [
              0,
              "#0d0887"
             ],
             [
              0.1111111111111111,
              "#46039f"
             ],
             [
              0.2222222222222222,
              "#7201a8"
             ],
             [
              0.3333333333333333,
              "#9c179e"
             ],
             [
              0.4444444444444444,
              "#bd3786"
             ],
             [
              0.5555555555555556,
              "#d8576b"
             ],
             [
              0.6666666666666666,
              "#ed7953"
             ],
             [
              0.7777777777777778,
              "#fb9f3a"
             ],
             [
              0.8888888888888888,
              "#fdca26"
             ],
             [
              1,
              "#f0f921"
             ]
            ],
            "type": "histogram2dcontour"
           }
          ],
          "mesh3d": [
           {
            "colorbar": {
             "outlinewidth": 0,
             "ticks": ""
            },
            "type": "mesh3d"
           }
          ],
          "parcoords": [
           {
            "line": {
             "colorbar": {
              "outlinewidth": 0,
              "ticks": ""
             }
            },
            "type": "parcoords"
           }
          ],
          "pie": [
           {
            "automargin": true,
            "type": "pie"
           }
          ],
          "scatter": [
           {
            "fillpattern": {
             "fillmode": "overlay",
             "size": 10,
             "solidity": 0.2
            },
            "type": "scatter"
           }
          ],
          "scatter3d": [
           {
            "line": {
             "colorbar": {
              "outlinewidth": 0,
              "ticks": ""
             }
            },
            "marker": {
             "colorbar": {
              "outlinewidth": 0,
              "ticks": ""
             }
            },
            "type": "scatter3d"
           }
          ],
          "scattercarpet": [
           {
            "marker": {
             "colorbar": {
              "outlinewidth": 0,
              "ticks": ""
             }
            },
            "type": "scattercarpet"
           }
          ],
          "scattergeo": [
           {
            "marker": {
             "colorbar": {
              "outlinewidth": 0,
              "ticks": ""
             }
            },
            "type": "scattergeo"
           }
          ],
          "scattergl": [
           {
            "marker": {
             "colorbar": {
              "outlinewidth": 0,
              "ticks": ""
             }
            },
            "type": "scattergl"
           }
          ],
          "scattermapbox": [
           {
            "marker": {
             "colorbar": {
              "outlinewidth": 0,
              "ticks": ""
             }
            },
            "type": "scattermapbox"
           }
          ],
          "scatterpolar": [
           {
            "marker": {
             "colorbar": {
              "outlinewidth": 0,
              "ticks": ""
             }
            },
            "type": "scatterpolar"
           }
          ],
          "scatterpolargl": [
           {
            "marker": {
             "colorbar": {
              "outlinewidth": 0,
              "ticks": ""
             }
            },
            "type": "scatterpolargl"
           }
          ],
          "scatterternary": [
           {
            "marker": {
             "colorbar": {
              "outlinewidth": 0,
              "ticks": ""
             }
            },
            "type": "scatterternary"
           }
          ],
          "surface": [
           {
            "colorbar": {
             "outlinewidth": 0,
             "ticks": ""
            },
            "colorscale": [
             [
              0,
              "#0d0887"
             ],
             [
              0.1111111111111111,
              "#46039f"
             ],
             [
              0.2222222222222222,
              "#7201a8"
             ],
             [
              0.3333333333333333,
              "#9c179e"
             ],
             [
              0.4444444444444444,
              "#bd3786"
             ],
             [
              0.5555555555555556,
              "#d8576b"
             ],
             [
              0.6666666666666666,
              "#ed7953"
             ],
             [
              0.7777777777777778,
              "#fb9f3a"
             ],
             [
              0.8888888888888888,
              "#fdca26"
             ],
             [
              1,
              "#f0f921"
             ]
            ],
            "type": "surface"
           }
          ],
          "table": [
           {
            "cells": {
             "fill": {
              "color": "#EBF0F8"
             },
             "line": {
              "color": "white"
             }
            },
            "header": {
             "fill": {
              "color": "#C8D4E3"
             },
             "line": {
              "color": "white"
             }
            },
            "type": "table"
           }
          ]
         },
         "layout": {
          "annotationdefaults": {
           "arrowcolor": "#2a3f5f",
           "arrowhead": 0,
           "arrowwidth": 1
          },
          "autotypenumbers": "strict",
          "coloraxis": {
           "colorbar": {
            "outlinewidth": 0,
            "ticks": ""
           }
          },
          "colorscale": {
           "diverging": [
            [
             0,
             "#8e0152"
            ],
            [
             0.1,
             "#c51b7d"
            ],
            [
             0.2,
             "#de77ae"
            ],
            [
             0.3,
             "#f1b6da"
            ],
            [
             0.4,
             "#fde0ef"
            ],
            [
             0.5,
             "#f7f7f7"
            ],
            [
             0.6,
             "#e6f5d0"
            ],
            [
             0.7,
             "#b8e186"
            ],
            [
             0.8,
             "#7fbc41"
            ],
            [
             0.9,
             "#4d9221"
            ],
            [
             1,
             "#276419"
            ]
           ],
           "sequential": [
            [
             0,
             "#0d0887"
            ],
            [
             0.1111111111111111,
             "#46039f"
            ],
            [
             0.2222222222222222,
             "#7201a8"
            ],
            [
             0.3333333333333333,
             "#9c179e"
            ],
            [
             0.4444444444444444,
             "#bd3786"
            ],
            [
             0.5555555555555556,
             "#d8576b"
            ],
            [
             0.6666666666666666,
             "#ed7953"
            ],
            [
             0.7777777777777778,
             "#fb9f3a"
            ],
            [
             0.8888888888888888,
             "#fdca26"
            ],
            [
             1,
             "#f0f921"
            ]
           ],
           "sequentialminus": [
            [
             0,
             "#0d0887"
            ],
            [
             0.1111111111111111,
             "#46039f"
            ],
            [
             0.2222222222222222,
             "#7201a8"
            ],
            [
             0.3333333333333333,
             "#9c179e"
            ],
            [
             0.4444444444444444,
             "#bd3786"
            ],
            [
             0.5555555555555556,
             "#d8576b"
            ],
            [
             0.6666666666666666,
             "#ed7953"
            ],
            [
             0.7777777777777778,
             "#fb9f3a"
            ],
            [
             0.8888888888888888,
             "#fdca26"
            ],
            [
             1,
             "#f0f921"
            ]
           ]
          },
          "colorway": [
           "#636efa",
           "#EF553B",
           "#00cc96",
           "#ab63fa",
           "#FFA15A",
           "#19d3f3",
           "#FF6692",
           "#B6E880",
           "#FF97FF",
           "#FECB52"
          ],
          "font": {
           "color": "#2a3f5f"
          },
          "geo": {
           "bgcolor": "white",
           "lakecolor": "white",
           "landcolor": "#E5ECF6",
           "showlakes": true,
           "showland": true,
           "subunitcolor": "white"
          },
          "hoverlabel": {
           "align": "left"
          },
          "hovermode": "closest",
          "mapbox": {
           "style": "light"
          },
          "paper_bgcolor": "white",
          "plot_bgcolor": "#E5ECF6",
          "polar": {
           "angularaxis": {
            "gridcolor": "white",
            "linecolor": "white",
            "ticks": ""
           },
           "bgcolor": "#E5ECF6",
           "radialaxis": {
            "gridcolor": "white",
            "linecolor": "white",
            "ticks": ""
           }
          },
          "scene": {
           "xaxis": {
            "backgroundcolor": "#E5ECF6",
            "gridcolor": "white",
            "gridwidth": 2,
            "linecolor": "white",
            "showbackground": true,
            "ticks": "",
            "zerolinecolor": "white"
           },
           "yaxis": {
            "backgroundcolor": "#E5ECF6",
            "gridcolor": "white",
            "gridwidth": 2,
            "linecolor": "white",
            "showbackground": true,
            "ticks": "",
            "zerolinecolor": "white"
           },
           "zaxis": {
            "backgroundcolor": "#E5ECF6",
            "gridcolor": "white",
            "gridwidth": 2,
            "linecolor": "white",
            "showbackground": true,
            "ticks": "",
            "zerolinecolor": "white"
           }
          },
          "shapedefaults": {
           "line": {
            "color": "#2a3f5f"
           }
          },
          "ternary": {
           "aaxis": {
            "gridcolor": "white",
            "linecolor": "white",
            "ticks": ""
           },
           "baxis": {
            "gridcolor": "white",
            "linecolor": "white",
            "ticks": ""
           },
           "bgcolor": "#E5ECF6",
           "caxis": {
            "gridcolor": "white",
            "linecolor": "white",
            "ticks": ""
           }
          },
          "title": {
           "x": 0.05
          },
          "xaxis": {
           "automargin": true,
           "gridcolor": "white",
           "linecolor": "white",
           "ticks": "",
           "title": {
            "standoff": 15
           },
           "zerolinecolor": "white",
           "zerolinewidth": 2
          },
          "yaxis": {
           "automargin": true,
           "gridcolor": "white",
           "linecolor": "white",
           "ticks": "",
           "title": {
            "standoff": 15
           },
           "zerolinecolor": "white",
           "zerolinewidth": 2
          }
         }
        },
        "title": {
         "text": "Choropleth Map of Average Selected Variable"
        },
        "updatemenus": [
         {
          "buttons": [
           {
            "args": [
             {
              "z": [
               [
                3.41,
                3.6008333333333336,
                3.467222222222222,
                3.559142857142857,
                2.91,
                3.55,
                2.9,
                3.4433333333333334,
                3.53,
                3.1425
               ]
              ]
             }
            ],
            "label": "GPA",
            "method": "update"
           },
           {
            "args": [
             {
              "z": [
               [
                1.2,
                2.8083333333333336,
                1.8444444444444446,
                2.117142857142857,
                6.2,
                2.2,
                0.9,
                1.25,
                3.3,
                2.375
               ]
              ]
             }
            ],
            "label": "WorkExp",
            "method": "update"
           },
           {
            "args": [
             {
              "z": [
               [
                868,
                916.1666666666666,
                877.0555555555555,
                872.5714285714286,
                753,
                866,
                769,
                850.6666666666666,
                862,
                766
               ]
              ]
             }
            ],
            "label": "TestScore",
            "method": "update"
           },
           {
            "args": [
             {
              "z": [
               [
                85,
                90.83333333333333,
                80,
                80.42857142857143,
                77,
                74,
                87,
                78.33333333333333,
                85,
                76.5
               ]
              ]
             }
            ],
            "label": "WritingScore",
            "method": "update"
           },
           {
            "args": [
             {
              "z": [
               [
                0,
                2.6666666666666665,
                2.4444444444444446,
                2.4571428571428573,
                1,
                1,
                4,
                2.5,
                1,
                3.25
               ]
              ]
             }
            ],
            "label": "VolunteerLevel",
            "method": "update"
           }
          ],
          "direction": "down",
          "showactive": true
         }
        ]
       }
      }
     },
     "metadata": {},
     "output_type": "display_data"
    }
   ],
   "source": [
    "import plotly.express as px\n",
    "\n",
    "fig = px.choropleth(avg_df, locationmode=\"USA-states\", \n",
    "                    locations=avg_df['State'], \n",
    "                    scope=\"usa\",\n",
    "                    color=avg_df['GPA'],\n",
    "                    hover_data={\"State\": True, \"GPA\": True},  \n",
    "                    labels={\"GPA\": \"Selected Variable\"},\n",
    "                    color_continuous_scale=custom_palette\n",
    "                )\n",
    "\n",
    "dropdown = []\n",
    "for col in avg_df.columns[:-1]:\n",
    "    dropdown.append({'label': col, 'method': 'update', 'args': [{'z': [avg_df[col]]}]})\n",
    "\n",
    "fig.update_layout(updatemenus=[{'buttons': dropdown, 'direction': 'down', 'showactive': True}],\n",
    "                  title='Choropleth Map of Average Selected Variable')\n",
    "fig.update_coloraxes(colorbar_title=dict(text='Selected Variable'))\n",
    "\n",
    "fig.show()"
   ]
  },
  {
   "cell_type": "code",
   "execution_count": 71,
   "metadata": {},
   "outputs": [
    {
     "data": {
      "application/vnd.jupyter.widget-view+json": {
       "model_id": "4e4f176c326d4686a757869c45ede821",
       "version_major": 2,
       "version_minor": 0
      },
      "text/plain": [
       "interactive(children=(Dropdown(description='variable', options=(None, 'GPA', 'WorkExp', 'TestScore', 'WritingS…"
      ]
     },
     "metadata": {},
     "output_type": "display_data"
    },
    {
     "data": {
      "application/vnd.plotly.v1+json": {
       "config": {
        "plotlyServerURL": "https://plotly.com"
       },
       "data": [
        {
         "colorbar": {
          "title": {
           "text": "VolunteerLevel"
          }
         },
         "colorscale": [
          [
           0,
           "#440154"
          ],
          [
           0.1111111111111111,
           "#482878"
          ],
          [
           0.2222222222222222,
           "#3e4989"
          ],
          [
           0.3333333333333333,
           "#31688e"
          ],
          [
           0.4444444444444444,
           "#26828e"
          ],
          [
           0.5555555555555556,
           "#1f9e89"
          ],
          [
           0.6666666666666666,
           "#35b779"
          ],
          [
           0.7777777777777778,
           "#6ece58"
          ],
          [
           0.8888888888888888,
           "#b5de2b"
          ],
          [
           1,
           "#fde725"
          ]
         ],
         "locationmode": "USA-states",
         "locations": [
          "CA",
          "CO",
          "FL",
          "MS",
          "NY",
          "OR",
          "UT",
          "VT",
          "VA",
          "CA",
          "CO",
          "FL",
          "MS",
          "NY",
          "OR",
          "UT",
          "VT",
          "VA",
          "CA",
          "CO",
          "FL",
          "MS",
          "NY",
          "OR",
          "UT",
          "VT",
          "VA",
          "CA",
          "CO",
          "FL",
          "MS",
          "NY",
          "OR",
          "UT",
          "VT",
          "VA",
          "CA",
          "CO",
          "FL",
          "MS",
          "NY",
          "OR",
          "UT",
          "VT",
          "VA"
         ],
         "type": "choropleth",
         "z": [
          2.6666666666666665,
          2.4444444444444446,
          2.4571428571428573,
          1,
          1,
          4,
          2.5,
          1,
          3.25
         ]
        }
       ],
       "layout": {
        "geo": {
         "scope": "usa"
        },
        "template": {
         "data": {
          "bar": [
           {
            "error_x": {
             "color": "#2a3f5f"
            },
            "error_y": {
             "color": "#2a3f5f"
            },
            "marker": {
             "line": {
              "color": "#E5ECF6",
              "width": 0.5
             },
             "pattern": {
              "fillmode": "overlay",
              "size": 10,
              "solidity": 0.2
             }
            },
            "type": "bar"
           }
          ],
          "barpolar": [
           {
            "marker": {
             "line": {
              "color": "#E5ECF6",
              "width": 0.5
             },
             "pattern": {
              "fillmode": "overlay",
              "size": 10,
              "solidity": 0.2
             }
            },
            "type": "barpolar"
           }
          ],
          "carpet": [
           {
            "aaxis": {
             "endlinecolor": "#2a3f5f",
             "gridcolor": "white",
             "linecolor": "white",
             "minorgridcolor": "white",
             "startlinecolor": "#2a3f5f"
            },
            "baxis": {
             "endlinecolor": "#2a3f5f",
             "gridcolor": "white",
             "linecolor": "white",
             "minorgridcolor": "white",
             "startlinecolor": "#2a3f5f"
            },
            "type": "carpet"
           }
          ],
          "choropleth": [
           {
            "colorbar": {
             "outlinewidth": 0,
             "ticks": ""
            },
            "type": "choropleth"
           }
          ],
          "contour": [
           {
            "colorbar": {
             "outlinewidth": 0,
             "ticks": ""
            },
            "colorscale": [
             [
              0,
              "#0d0887"
             ],
             [
              0.1111111111111111,
              "#46039f"
             ],
             [
              0.2222222222222222,
              "#7201a8"
             ],
             [
              0.3333333333333333,
              "#9c179e"
             ],
             [
              0.4444444444444444,
              "#bd3786"
             ],
             [
              0.5555555555555556,
              "#d8576b"
             ],
             [
              0.6666666666666666,
              "#ed7953"
             ],
             [
              0.7777777777777778,
              "#fb9f3a"
             ],
             [
              0.8888888888888888,
              "#fdca26"
             ],
             [
              1,
              "#f0f921"
             ]
            ],
            "type": "contour"
           }
          ],
          "contourcarpet": [
           {
            "colorbar": {
             "outlinewidth": 0,
             "ticks": ""
            },
            "type": "contourcarpet"
           }
          ],
          "heatmap": [
           {
            "colorbar": {
             "outlinewidth": 0,
             "ticks": ""
            },
            "colorscale": [
             [
              0,
              "#0d0887"
             ],
             [
              0.1111111111111111,
              "#46039f"
             ],
             [
              0.2222222222222222,
              "#7201a8"
             ],
             [
              0.3333333333333333,
              "#9c179e"
             ],
             [
              0.4444444444444444,
              "#bd3786"
             ],
             [
              0.5555555555555556,
              "#d8576b"
             ],
             [
              0.6666666666666666,
              "#ed7953"
             ],
             [
              0.7777777777777778,
              "#fb9f3a"
             ],
             [
              0.8888888888888888,
              "#fdca26"
             ],
             [
              1,
              "#f0f921"
             ]
            ],
            "type": "heatmap"
           }
          ],
          "heatmapgl": [
           {
            "colorbar": {
             "outlinewidth": 0,
             "ticks": ""
            },
            "colorscale": [
             [
              0,
              "#0d0887"
             ],
             [
              0.1111111111111111,
              "#46039f"
             ],
             [
              0.2222222222222222,
              "#7201a8"
             ],
             [
              0.3333333333333333,
              "#9c179e"
             ],
             [
              0.4444444444444444,
              "#bd3786"
             ],
             [
              0.5555555555555556,
              "#d8576b"
             ],
             [
              0.6666666666666666,
              "#ed7953"
             ],
             [
              0.7777777777777778,
              "#fb9f3a"
             ],
             [
              0.8888888888888888,
              "#fdca26"
             ],
             [
              1,
              "#f0f921"
             ]
            ],
            "type": "heatmapgl"
           }
          ],
          "histogram": [
           {
            "marker": {
             "pattern": {
              "fillmode": "overlay",
              "size": 10,
              "solidity": 0.2
             }
            },
            "type": "histogram"
           }
          ],
          "histogram2d": [
           {
            "colorbar": {
             "outlinewidth": 0,
             "ticks": ""
            },
            "colorscale": [
             [
              0,
              "#0d0887"
             ],
             [
              0.1111111111111111,
              "#46039f"
             ],
             [
              0.2222222222222222,
              "#7201a8"
             ],
             [
              0.3333333333333333,
              "#9c179e"
             ],
             [
              0.4444444444444444,
              "#bd3786"
             ],
             [
              0.5555555555555556,
              "#d8576b"
             ],
             [
              0.6666666666666666,
              "#ed7953"
             ],
             [
              0.7777777777777778,
              "#fb9f3a"
             ],
             [
              0.8888888888888888,
              "#fdca26"
             ],
             [
              1,
              "#f0f921"
             ]
            ],
            "type": "histogram2d"
           }
          ],
          "histogram2dcontour": [
           {
            "colorbar": {
             "outlinewidth": 0,
             "ticks": ""
            },
            "colorscale": [
             [
              0,
              "#0d0887"
             ],
             [
              0.1111111111111111,
              "#46039f"
             ],
             [
              0.2222222222222222,
              "#7201a8"
             ],
             [
              0.3333333333333333,
              "#9c179e"
             ],
             [
              0.4444444444444444,
              "#bd3786"
             ],
             [
              0.5555555555555556,
              "#d8576b"
             ],
             [
              0.6666666666666666,
              "#ed7953"
             ],
             [
              0.7777777777777778,
              "#fb9f3a"
             ],
             [
              0.8888888888888888,
              "#fdca26"
             ],
             [
              1,
              "#f0f921"
             ]
            ],
            "type": "histogram2dcontour"
           }
          ],
          "mesh3d": [
           {
            "colorbar": {
             "outlinewidth": 0,
             "ticks": ""
            },
            "type": "mesh3d"
           }
          ],
          "parcoords": [
           {
            "line": {
             "colorbar": {
              "outlinewidth": 0,
              "ticks": ""
             }
            },
            "type": "parcoords"
           }
          ],
          "pie": [
           {
            "automargin": true,
            "type": "pie"
           }
          ],
          "scatter": [
           {
            "fillpattern": {
             "fillmode": "overlay",
             "size": 10,
             "solidity": 0.2
            },
            "type": "scatter"
           }
          ],
          "scatter3d": [
           {
            "line": {
             "colorbar": {
              "outlinewidth": 0,
              "ticks": ""
             }
            },
            "marker": {
             "colorbar": {
              "outlinewidth": 0,
              "ticks": ""
             }
            },
            "type": "scatter3d"
           }
          ],
          "scattercarpet": [
           {
            "marker": {
             "colorbar": {
              "outlinewidth": 0,
              "ticks": ""
             }
            },
            "type": "scattercarpet"
           }
          ],
          "scattergeo": [
           {
            "marker": {
             "colorbar": {
              "outlinewidth": 0,
              "ticks": ""
             }
            },
            "type": "scattergeo"
           }
          ],
          "scattergl": [
           {
            "marker": {
             "colorbar": {
              "outlinewidth": 0,
              "ticks": ""
             }
            },
            "type": "scattergl"
           }
          ],
          "scattermapbox": [
           {
            "marker": {
             "colorbar": {
              "outlinewidth": 0,
              "ticks": ""
             }
            },
            "type": "scattermapbox"
           }
          ],
          "scatterpolar": [
           {
            "marker": {
             "colorbar": {
              "outlinewidth": 0,
              "ticks": ""
             }
            },
            "type": "scatterpolar"
           }
          ],
          "scatterpolargl": [
           {
            "marker": {
             "colorbar": {
              "outlinewidth": 0,
              "ticks": ""
             }
            },
            "type": "scatterpolargl"
           }
          ],
          "scatterternary": [
           {
            "marker": {
             "colorbar": {
              "outlinewidth": 0,
              "ticks": ""
             }
            },
            "type": "scatterternary"
           }
          ],
          "surface": [
           {
            "colorbar": {
             "outlinewidth": 0,
             "ticks": ""
            },
            "colorscale": [
             [
              0,
              "#0d0887"
             ],
             [
              0.1111111111111111,
              "#46039f"
             ],
             [
              0.2222222222222222,
              "#7201a8"
             ],
             [
              0.3333333333333333,
              "#9c179e"
             ],
             [
              0.4444444444444444,
              "#bd3786"
             ],
             [
              0.5555555555555556,
              "#d8576b"
             ],
             [
              0.6666666666666666,
              "#ed7953"
             ],
             [
              0.7777777777777778,
              "#fb9f3a"
             ],
             [
              0.8888888888888888,
              "#fdca26"
             ],
             [
              1,
              "#f0f921"
             ]
            ],
            "type": "surface"
           }
          ],
          "table": [
           {
            "cells": {
             "fill": {
              "color": "#EBF0F8"
             },
             "line": {
              "color": "white"
             }
            },
            "header": {
             "fill": {
              "color": "#C8D4E3"
             },
             "line": {
              "color": "white"
             }
            },
            "type": "table"
           }
          ]
         },
         "layout": {
          "annotationdefaults": {
           "arrowcolor": "#2a3f5f",
           "arrowhead": 0,
           "arrowwidth": 1
          },
          "autotypenumbers": "strict",
          "coloraxis": {
           "colorbar": {
            "outlinewidth": 0,
            "ticks": ""
           }
          },
          "colorscale": {
           "diverging": [
            [
             0,
             "#8e0152"
            ],
            [
             0.1,
             "#c51b7d"
            ],
            [
             0.2,
             "#de77ae"
            ],
            [
             0.3,
             "#f1b6da"
            ],
            [
             0.4,
             "#fde0ef"
            ],
            [
             0.5,
             "#f7f7f7"
            ],
            [
             0.6,
             "#e6f5d0"
            ],
            [
             0.7,
             "#b8e186"
            ],
            [
             0.8,
             "#7fbc41"
            ],
            [
             0.9,
             "#4d9221"
            ],
            [
             1,
             "#276419"
            ]
           ],
           "sequential": [
            [
             0,
             "#0d0887"
            ],
            [
             0.1111111111111111,
             "#46039f"
            ],
            [
             0.2222222222222222,
             "#7201a8"
            ],
            [
             0.3333333333333333,
             "#9c179e"
            ],
            [
             0.4444444444444444,
             "#bd3786"
            ],
            [
             0.5555555555555556,
             "#d8576b"
            ],
            [
             0.6666666666666666,
             "#ed7953"
            ],
            [
             0.7777777777777778,
             "#fb9f3a"
            ],
            [
             0.8888888888888888,
             "#fdca26"
            ],
            [
             1,
             "#f0f921"
            ]
           ],
           "sequentialminus": [
            [
             0,
             "#0d0887"
            ],
            [
             0.1111111111111111,
             "#46039f"
            ],
            [
             0.2222222222222222,
             "#7201a8"
            ],
            [
             0.3333333333333333,
             "#9c179e"
            ],
            [
             0.4444444444444444,
             "#bd3786"
            ],
            [
             0.5555555555555556,
             "#d8576b"
            ],
            [
             0.6666666666666666,
             "#ed7953"
            ],
            [
             0.7777777777777778,
             "#fb9f3a"
            ],
            [
             0.8888888888888888,
             "#fdca26"
            ],
            [
             1,
             "#f0f921"
            ]
           ]
          },
          "colorway": [
           "#636efa",
           "#EF553B",
           "#00cc96",
           "#ab63fa",
           "#FFA15A",
           "#19d3f3",
           "#FF6692",
           "#B6E880",
           "#FF97FF",
           "#FECB52"
          ],
          "font": {
           "color": "#2a3f5f"
          },
          "geo": {
           "bgcolor": "white",
           "lakecolor": "white",
           "landcolor": "#E5ECF6",
           "showlakes": true,
           "showland": true,
           "subunitcolor": "white"
          },
          "hoverlabel": {
           "align": "left"
          },
          "hovermode": "closest",
          "mapbox": {
           "style": "light"
          },
          "paper_bgcolor": "white",
          "plot_bgcolor": "#E5ECF6",
          "polar": {
           "angularaxis": {
            "gridcolor": "white",
            "linecolor": "white",
            "ticks": ""
           },
           "bgcolor": "#E5ECF6",
           "radialaxis": {
            "gridcolor": "white",
            "linecolor": "white",
            "ticks": ""
           }
          },
          "scene": {
           "xaxis": {
            "backgroundcolor": "#E5ECF6",
            "gridcolor": "white",
            "gridwidth": 2,
            "linecolor": "white",
            "showbackground": true,
            "ticks": "",
            "zerolinecolor": "white"
           },
           "yaxis": {
            "backgroundcolor": "#E5ECF6",
            "gridcolor": "white",
            "gridwidth": 2,
            "linecolor": "white",
            "showbackground": true,
            "ticks": "",
            "zerolinecolor": "white"
           },
           "zaxis": {
            "backgroundcolor": "#E5ECF6",
            "gridcolor": "white",
            "gridwidth": 2,
            "linecolor": "white",
            "showbackground": true,
            "ticks": "",
            "zerolinecolor": "white"
           }
          },
          "shapedefaults": {
           "line": {
            "color": "#2a3f5f"
           }
          },
          "ternary": {
           "aaxis": {
            "gridcolor": "white",
            "linecolor": "white",
            "ticks": ""
           },
           "baxis": {
            "gridcolor": "white",
            "linecolor": "white",
            "ticks": ""
           },
           "bgcolor": "#E5ECF6",
           "caxis": {
            "gridcolor": "white",
            "linecolor": "white",
            "ticks": ""
           }
          },
          "title": {
           "x": 0.05
          },
          "xaxis": {
           "automargin": true,
           "gridcolor": "white",
           "linecolor": "white",
           "ticks": "",
           "title": {
            "standoff": 15
           },
           "zerolinecolor": "white",
           "zerolinewidth": 2
          },
          "yaxis": {
           "automargin": true,
           "gridcolor": "white",
           "linecolor": "white",
           "ticks": "",
           "title": {
            "standoff": 15
           },
           "zerolinecolor": "white",
           "zerolinewidth": 2
          }
         }
        }
       }
      }
     },
     "metadata": {},
     "output_type": "display_data"
    },
    {
     "data": {
      "text/plain": [
       "<function __main__.update_map(df, variable)>"
      ]
     },
     "execution_count": 71,
     "metadata": {},
     "output_type": "execute_result"
    }
   ],
   "source": [
    "import pandas as pd\n",
    "import plotly.graph_objects as go\n",
    "from ipywidgets import interact, fixed\n",
    "\n",
    "df_melted = pd.melt(avg_df[1:], id_vars=['State'], var_name='Variable', value_name='Value')\n",
    "\n",
    "def update_map(df, variable):\n",
    "    if variable is None:\n",
    "        return \n",
    "    filtered_df = df[df['Variable'] == variable]\n",
    "\n",
    "    fig = go.Figure(go.Choropleth(\n",
    "        locationmode=\"USA-states\",\n",
    "        locations=df['State'],\n",
    "        z = filtered_df['Value'],  \n",
    "        colorscale='Viridis',\n",
    "        colorbar=dict(title=variable)\n",
    "    ))\n",
    "\n",
    "    fig.update_geos(scope=\"usa\")\n",
    "\n",
    "    fig.show()\n",
    "\n",
    "variables = np.insert(df_melted['Variable'].unique(), 0, None)\n",
    "\n",
    "interact(update_map, df=fixed(df_melted), variable=variables)"
   ]
  },
  {
   "cell_type": "code",
   "execution_count": 173,
   "metadata": {},
   "outputs": [
    {
     "name": "stdout",
     "output_type": "stream",
     "text": [
      "   State        Variable       Value\n",
      "0     AL             GPA    3.410000\n",
      "1     CA             GPA    3.600833\n",
      "2     CO             GPA    3.616500\n",
      "3     FL             GPA    3.559143\n",
      "4     GA             GPA    3.560000\n",
      "5     MS             GPA    2.910000\n",
      "6     NY             GPA    3.550000\n",
      "7     OR             GPA    2.900000\n",
      "8     UT             GPA    3.443333\n",
      "9     VT             GPA    3.530000\n",
      "10    VA             GPA    3.142500\n",
      "11    AL         WorkExp    1.200000\n",
      "12    CA         WorkExp    2.808333\n",
      "13    CO         WorkExp    1.760000\n",
      "14    FL         WorkExp    2.117143\n",
      "15    GA         WorkExp  100.000000\n",
      "16    MS         WorkExp    6.200000\n",
      "17    NY         WorkExp    2.200000\n",
      "18    OR         WorkExp    0.900000\n",
      "19    UT         WorkExp    1.250000\n",
      "20    VT         WorkExp    3.300000\n",
      "21    VA         WorkExp    2.375000\n",
      "22    AL       TestScore  868.000000\n",
      "23    CA       TestScore  916.166667\n",
      "24    CO       TestScore  886.250000\n",
      "25    FL       TestScore  872.571429\n",
      "26    GA       TestScore  866.000000\n",
      "27    MS       TestScore  753.000000\n",
      "28    NY       TestScore  866.000000\n",
      "29    OR       TestScore  769.000000\n",
      "30    UT       TestScore  850.666667\n",
      "31    VT       TestScore  862.000000\n",
      "32    VA       TestScore  766.000000\n",
      "33    AL    WritingScore   85.000000\n",
      "34    CA    WritingScore   90.833333\n",
      "35    CO    WritingScore   81.400000\n",
      "36    FL    WritingScore   80.428571\n",
      "37    GA    WritingScore   89.000000\n",
      "38    MS    WritingScore   77.000000\n",
      "39    NY    WritingScore   74.000000\n",
      "40    OR    WritingScore   87.000000\n",
      "41    UT    WritingScore   78.333333\n",
      "42    VT    WritingScore   85.000000\n",
      "43    VA    WritingScore   76.500000\n",
      "44    AL  VolunteerLevel    0.000000\n",
      "45    CA  VolunteerLevel    2.666667\n",
      "46    CO  VolunteerLevel    2.400000\n",
      "47    FL  VolunteerLevel    2.457143\n",
      "48    GA  VolunteerLevel    1.000000\n",
      "49    MS  VolunteerLevel    1.000000\n",
      "50    NY  VolunteerLevel    1.000000\n",
      "51    OR  VolunteerLevel    4.000000\n",
      "52    UT  VolunteerLevel    2.500000\n",
      "53    VT  VolunteerLevel    1.000000\n",
      "54    VA  VolunteerLevel    3.250000\n"
     ]
    },
    {
     "name": "stderr",
     "output_type": "stream",
     "text": [
      "c:\\Users\\theda\\anaconda3\\Lib\\site-packages\\altair\\utils\\deprecation.py:65: AltairDeprecationWarning:\n",
      "\n",
      "'selection_single' is deprecated.  Use 'selection_point'\n",
      "\n",
      "c:\\Users\\theda\\anaconda3\\Lib\\site-packages\\altair\\utils\\deprecation.py:65: AltairDeprecationWarning:\n",
      "\n",
      "'add_selection' is deprecated. Use 'add_params' instead.\n",
      "\n"
     ]
    },
    {
     "data": {
      "text/html": [
       "\n",
       "<style>\n",
       "  #altair-viz-7012ea5870bd4ac1a71f3988c85867b0.vega-embed {\n",
       "    width: 100%;\n",
       "    display: flex;\n",
       "  }\n",
       "\n",
       "  #altair-viz-7012ea5870bd4ac1a71f3988c85867b0.vega-embed details,\n",
       "  #altair-viz-7012ea5870bd4ac1a71f3988c85867b0.vega-embed details summary {\n",
       "    position: relative;\n",
       "  }\n",
       "</style>\n",
       "<div id=\"altair-viz-7012ea5870bd4ac1a71f3988c85867b0\"></div>\n",
       "<script type=\"text/javascript\">\n",
       "  var VEGA_DEBUG = (typeof VEGA_DEBUG == \"undefined\") ? {} : VEGA_DEBUG;\n",
       "  (function(spec, embedOpt){\n",
       "    let outputDiv = document.currentScript.previousElementSibling;\n",
       "    if (outputDiv.id !== \"altair-viz-7012ea5870bd4ac1a71f3988c85867b0\") {\n",
       "      outputDiv = document.getElementById(\"altair-viz-7012ea5870bd4ac1a71f3988c85867b0\");\n",
       "    }\n",
       "    const paths = {\n",
       "      \"vega\": \"https://cdn.jsdelivr.net/npm/vega@5?noext\",\n",
       "      \"vega-lib\": \"https://cdn.jsdelivr.net/npm/vega-lib?noext\",\n",
       "      \"vega-lite\": \"https://cdn.jsdelivr.net/npm/vega-lite@5.8.0?noext\",\n",
       "      \"vega-embed\": \"https://cdn.jsdelivr.net/npm/vega-embed@6?noext\",\n",
       "    };\n",
       "\n",
       "    function maybeLoadScript(lib, version) {\n",
       "      var key = `${lib.replace(\"-\", \"\")}_version`;\n",
       "      return (VEGA_DEBUG[key] == version) ?\n",
       "        Promise.resolve(paths[lib]) :\n",
       "        new Promise(function(resolve, reject) {\n",
       "          var s = document.createElement('script');\n",
       "          document.getElementsByTagName(\"head\")[0].appendChild(s);\n",
       "          s.async = true;\n",
       "          s.onload = () => {\n",
       "            VEGA_DEBUG[key] = version;\n",
       "            return resolve(paths[lib]);\n",
       "          };\n",
       "          s.onerror = () => reject(`Error loading script: ${paths[lib]}`);\n",
       "          s.src = paths[lib];\n",
       "        });\n",
       "    }\n",
       "\n",
       "    function showError(err) {\n",
       "      outputDiv.innerHTML = `<div class=\"error\" style=\"color:red;\">${err}</div>`;\n",
       "      throw err;\n",
       "    }\n",
       "\n",
       "    function displayChart(vegaEmbed) {\n",
       "      vegaEmbed(outputDiv, spec, embedOpt)\n",
       "        .catch(err => showError(`Javascript Error: ${err.message}<br>This usually means there's a typo in your chart specification. See the javascript console for the full traceback.`));\n",
       "    }\n",
       "\n",
       "    if(typeof define === \"function\" && define.amd) {\n",
       "      requirejs.config({paths});\n",
       "      require([\"vega-embed\"], displayChart, err => showError(`Error loading script: ${err.message}`));\n",
       "    } else {\n",
       "      maybeLoadScript(\"vega\", \"5\")\n",
       "        .then(() => maybeLoadScript(\"vega-lite\", \"5.8.0\"))\n",
       "        .then(() => maybeLoadScript(\"vega-embed\", \"6\"))\n",
       "        .catch(showError)\n",
       "        .then(() => displayChart(vegaEmbed));\n",
       "    }\n",
       "  })({\"config\": {\"view\": {\"continuousWidth\": 300, \"continuousHeight\": 300}}, \"layer\": [{\"data\": {\"url\": \"https://cdn.jsdelivr.net/npm/vega-datasets@v1.29.0/data/us-10m.json\", \"format\": {\"feature\": \"states\", \"type\": \"topojson\"}}, \"mark\": {\"type\": \"geoshape\", \"fill\": \"lightgray\", \"stroke\": \"white\"}, \"projection\": {\"type\": \"albersUsa\"}}, {\"data\": {\"name\": \"data-ba701da8c203fd4d04dc4406a3c4b883\"}, \"mark\": {\"type\": \"geoshape\"}, \"encoding\": {\"color\": {\"condition\": {\"param\": \"Select\", \"field\": \"Value\", \"scale\": {\"scheme\": \"blueorange\"}, \"type\": \"quantitative\"}, \"value\": \"lightgray\"}, \"tooltip\": [{\"field\": \"State\", \"type\": \"nominal\"}, {\"field\": \"Value\", \"type\": \"quantitative\"}]}, \"name\": \"view_12\", \"projection\": {\"type\": \"albersUsa\"}}], \"height\": 300, \"params\": [{\"name\": \"Select\", \"select\": {\"type\": \"point\", \"fields\": [\"Variable\"]}, \"bind\": {\"input\": \"select\", \"options\": [\"GPA\", \"WorkExp\", \"TestScore\", \"WritingScore\", \"VolunteerLevel\"]}, \"views\": [\"view_12\"]}], \"width\": 500, \"$schema\": \"https://vega.github.io/schema/vega-lite/v5.8.0.json\", \"datasets\": {\"data-ba701da8c203fd4d04dc4406a3c4b883\": [{\"State\": \"AL\", \"Variable\": \"GPA\", \"Value\": 3.41}, {\"State\": \"CA\", \"Variable\": \"GPA\", \"Value\": 3.6008333333333336}, {\"State\": \"CO\", \"Variable\": \"GPA\", \"Value\": 3.6165}, {\"State\": \"FL\", \"Variable\": \"GPA\", \"Value\": 3.559142857142857}, {\"State\": \"GA\", \"Variable\": \"GPA\", \"Value\": 3.56}, {\"State\": \"MS\", \"Variable\": \"GPA\", \"Value\": 2.91}, {\"State\": \"NY\", \"Variable\": \"GPA\", \"Value\": 3.55}, {\"State\": \"OR\", \"Variable\": \"GPA\", \"Value\": 2.9}, {\"State\": \"UT\", \"Variable\": \"GPA\", \"Value\": 3.4433333333333334}, {\"State\": \"VT\", \"Variable\": \"GPA\", \"Value\": 3.53}, {\"State\": \"VA\", \"Variable\": \"GPA\", \"Value\": 3.1425}, {\"State\": \"AL\", \"Variable\": \"WorkExp\", \"Value\": 1.2}, {\"State\": \"CA\", \"Variable\": \"WorkExp\", \"Value\": 2.8083333333333336}, {\"State\": \"CO\", \"Variable\": \"WorkExp\", \"Value\": 1.7600000000000002}, {\"State\": \"FL\", \"Variable\": \"WorkExp\", \"Value\": 2.117142857142857}, {\"State\": \"GA\", \"Variable\": \"WorkExp\", \"Value\": 100.0}, {\"State\": \"MS\", \"Variable\": \"WorkExp\", \"Value\": 6.2}, {\"State\": \"NY\", \"Variable\": \"WorkExp\", \"Value\": 2.2}, {\"State\": \"OR\", \"Variable\": \"WorkExp\", \"Value\": 0.9}, {\"State\": \"UT\", \"Variable\": \"WorkExp\", \"Value\": 1.25}, {\"State\": \"VT\", \"Variable\": \"WorkExp\", \"Value\": 3.3}, {\"State\": \"VA\", \"Variable\": \"WorkExp\", \"Value\": 2.375}, {\"State\": \"AL\", \"Variable\": \"TestScore\", \"Value\": 868.0}, {\"State\": \"CA\", \"Variable\": \"TestScore\", \"Value\": 916.1666666666666}, {\"State\": \"CO\", \"Variable\": \"TestScore\", \"Value\": 886.25}, {\"State\": \"FL\", \"Variable\": \"TestScore\", \"Value\": 872.5714285714286}, {\"State\": \"GA\", \"Variable\": \"TestScore\", \"Value\": 866.0}, {\"State\": \"MS\", \"Variable\": \"TestScore\", \"Value\": 753.0}, {\"State\": \"NY\", \"Variable\": \"TestScore\", \"Value\": 866.0}, {\"State\": \"OR\", \"Variable\": \"TestScore\", \"Value\": 769.0}, {\"State\": \"UT\", \"Variable\": \"TestScore\", \"Value\": 850.6666666666666}, {\"State\": \"VT\", \"Variable\": \"TestScore\", \"Value\": 862.0}, {\"State\": \"VA\", \"Variable\": \"TestScore\", \"Value\": 766.0}, {\"State\": \"AL\", \"Variable\": \"WritingScore\", \"Value\": 85.0}, {\"State\": \"CA\", \"Variable\": \"WritingScore\", \"Value\": 90.83333333333333}, {\"State\": \"CO\", \"Variable\": \"WritingScore\", \"Value\": 81.4}, {\"State\": \"FL\", \"Variable\": \"WritingScore\", \"Value\": 80.42857142857143}, {\"State\": \"GA\", \"Variable\": \"WritingScore\", \"Value\": 89.0}, {\"State\": \"MS\", \"Variable\": \"WritingScore\", \"Value\": 77.0}, {\"State\": \"NY\", \"Variable\": \"WritingScore\", \"Value\": 74.0}, {\"State\": \"OR\", \"Variable\": \"WritingScore\", \"Value\": 87.0}, {\"State\": \"UT\", \"Variable\": \"WritingScore\", \"Value\": 78.33333333333333}, {\"State\": \"VT\", \"Variable\": \"WritingScore\", \"Value\": 85.0}, {\"State\": \"VA\", \"Variable\": \"WritingScore\", \"Value\": 76.5}, {\"State\": \"AL\", \"Variable\": \"VolunteerLevel\", \"Value\": 0.0}, {\"State\": \"CA\", \"Variable\": \"VolunteerLevel\", \"Value\": 2.6666666666666665}, {\"State\": \"CO\", \"Variable\": \"VolunteerLevel\", \"Value\": 2.4}, {\"State\": \"FL\", \"Variable\": \"VolunteerLevel\", \"Value\": 2.4571428571428573}, {\"State\": \"GA\", \"Variable\": \"VolunteerLevel\", \"Value\": 1.0}, {\"State\": \"MS\", \"Variable\": \"VolunteerLevel\", \"Value\": 1.0}, {\"State\": \"NY\", \"Variable\": \"VolunteerLevel\", \"Value\": 1.0}, {\"State\": \"OR\", \"Variable\": \"VolunteerLevel\", \"Value\": 4.0}, {\"State\": \"UT\", \"Variable\": \"VolunteerLevel\", \"Value\": 2.5}, {\"State\": \"VT\", \"Variable\": \"VolunteerLevel\", \"Value\": 1.0}, {\"State\": \"VA\", \"Variable\": \"VolunteerLevel\", \"Value\": 3.25}]}}, {\"mode\": \"vega-lite\"});\n",
       "</script>"
      ],
      "text/plain": [
       "alt.LayerChart(...)"
      ]
     },
     "execution_count": 173,
     "metadata": {},
     "output_type": "execute_result"
    }
   ],
   "source": [
    "from vega_datasets import data\n",
    "\n",
    "df_melted = pd.melt(avg_df, id_vars=['State'], var_name='Variable', value_name='Value')\n",
    "print(df_melted)\n",
    "\n",
    "states = alt.topo_feature(data.us_10m.url, feature='states')\n",
    "states = alt.Chart(states).mark_geoshape(\n",
    "    fill='lightgray',\n",
    "    stroke='white'\n",
    ").project('albersUsa').properties(\n",
    "    width=500,\n",
    "    height=300\n",
    ")\n",
    "\n",
    "dropdown = alt.binding_select(options=list(avg_df.columns[:-1]))\n",
    "selection = alt.selection_single(fields=['Variable'], bind=dropdown, name='Select')\n",
    "\n",
    "choropleth = alt.Chart(df_melted).mark_geoshape().encode(\n",
    "    color=alt.condition(\n",
    "        selection,\n",
    "        alt.Color('Value:Q', scale=alt.Scale(scheme='blueorange')),\n",
    "        alt.value('lightgray')\n",
    "    ),\n",
    "    tooltip=['State:N', 'Value:Q']\n",
    ").project('albersUsa').properties(\n",
    "    width=500,\n",
    "    height=300\n",
    ").add_selection(\n",
    "    selection\n",
    ")\n",
    "\n",
    "states + choropleth\n"
   ]
  },
  {
   "cell_type": "code",
   "execution_count": 180,
   "metadata": {},
   "outputs": [
    {
     "data": {
      "text/html": [
       "<div>\n",
       "<style scoped>\n",
       "    .dataframe tbody tr th:only-of-type {\n",
       "        vertical-align: middle;\n",
       "    }\n",
       "\n",
       "    .dataframe tbody tr th {\n",
       "        vertical-align: top;\n",
       "    }\n",
       "\n",
       "    .dataframe thead th {\n",
       "        text-align: right;\n",
       "    }\n",
       "</style>\n",
       "<table border=\"1\" class=\"dataframe\">\n",
       "  <thead>\n",
       "    <tr style=\"text-align: right;\">\n",
       "      <th></th>\n",
       "      <th>Decision</th>\n",
       "      <th>State</th>\n",
       "      <th>StateCount</th>\n",
       "      <th>DecisionCount</th>\n",
       "      <th>Rate</th>\n",
       "      <th>StateID</th>\n",
       "    </tr>\n",
       "  </thead>\n",
       "  <tbody>\n",
       "    <tr>\n",
       "      <th>0</th>\n",
       "      <td>Admit</td>\n",
       "      <td>California</td>\n",
       "      <td>9</td>\n",
       "      <td>29</td>\n",
       "      <td>31.034483</td>\n",
       "      <td>6</td>\n",
       "    </tr>\n",
       "    <tr>\n",
       "      <th>1</th>\n",
       "      <td>Admit</td>\n",
       "      <td>Colorado</td>\n",
       "      <td>8</td>\n",
       "      <td>29</td>\n",
       "      <td>27.586207</td>\n",
       "      <td>8</td>\n",
       "    </tr>\n",
       "    <tr>\n",
       "      <th>2</th>\n",
       "      <td>Admit</td>\n",
       "      <td>Florida</td>\n",
       "      <td>11</td>\n",
       "      <td>29</td>\n",
       "      <td>37.931034</td>\n",
       "      <td>12</td>\n",
       "    </tr>\n",
       "    <tr>\n",
       "      <th>3</th>\n",
       "      <td>Admit</td>\n",
       "      <td>Utah</td>\n",
       "      <td>1</td>\n",
       "      <td>29</td>\n",
       "      <td>3.448276</td>\n",
       "      <td>49</td>\n",
       "    </tr>\n",
       "    <tr>\n",
       "      <th>4</th>\n",
       "      <td>Decline</td>\n",
       "      <td>California</td>\n",
       "      <td>1</td>\n",
       "      <td>28</td>\n",
       "      <td>3.571429</td>\n",
       "      <td>6</td>\n",
       "    </tr>\n",
       "    <tr>\n",
       "      <th>5</th>\n",
       "      <td>Decline</td>\n",
       "      <td>Colorado</td>\n",
       "      <td>6</td>\n",
       "      <td>28</td>\n",
       "      <td>21.428571</td>\n",
       "      <td>8</td>\n",
       "    </tr>\n",
       "    <tr>\n",
       "      <th>6</th>\n",
       "      <td>Decline</td>\n",
       "      <td>Florida</td>\n",
       "      <td>13</td>\n",
       "      <td>28</td>\n",
       "      <td>46.428571</td>\n",
       "      <td>12</td>\n",
       "    </tr>\n",
       "    <tr>\n",
       "      <th>7</th>\n",
       "      <td>Decline</td>\n",
       "      <td>Mississippi</td>\n",
       "      <td>1</td>\n",
       "      <td>28</td>\n",
       "      <td>3.571429</td>\n",
       "      <td>28</td>\n",
       "    </tr>\n",
       "    <tr>\n",
       "      <th>8</th>\n",
       "      <td>Decline</td>\n",
       "      <td>Oregon</td>\n",
       "      <td>1</td>\n",
       "      <td>28</td>\n",
       "      <td>3.571429</td>\n",
       "      <td>41</td>\n",
       "    </tr>\n",
       "    <tr>\n",
       "      <th>9</th>\n",
       "      <td>Decline</td>\n",
       "      <td>Utah</td>\n",
       "      <td>2</td>\n",
       "      <td>28</td>\n",
       "      <td>7.142857</td>\n",
       "      <td>49</td>\n",
       "    </tr>\n",
       "    <tr>\n",
       "      <th>10</th>\n",
       "      <td>Decline</td>\n",
       "      <td>Virginia</td>\n",
       "      <td>4</td>\n",
       "      <td>28</td>\n",
       "      <td>14.285714</td>\n",
       "      <td>51</td>\n",
       "    </tr>\n",
       "    <tr>\n",
       "      <th>11</th>\n",
       "      <td>Waitlist</td>\n",
       "      <td>Alabama</td>\n",
       "      <td>1</td>\n",
       "      <td>23</td>\n",
       "      <td>4.347826</td>\n",
       "      <td>1</td>\n",
       "    </tr>\n",
       "    <tr>\n",
       "      <th>12</th>\n",
       "      <td>Waitlist</td>\n",
       "      <td>California</td>\n",
       "      <td>2</td>\n",
       "      <td>23</td>\n",
       "      <td>8.695652</td>\n",
       "      <td>6</td>\n",
       "    </tr>\n",
       "    <tr>\n",
       "      <th>13</th>\n",
       "      <td>Waitlist</td>\n",
       "      <td>Colorado</td>\n",
       "      <td>4</td>\n",
       "      <td>23</td>\n",
       "      <td>17.391304</td>\n",
       "      <td>8</td>\n",
       "    </tr>\n",
       "    <tr>\n",
       "      <th>14</th>\n",
       "      <td>Waitlist</td>\n",
       "      <td>Florida</td>\n",
       "      <td>11</td>\n",
       "      <td>23</td>\n",
       "      <td>47.826087</td>\n",
       "      <td>12</td>\n",
       "    </tr>\n",
       "    <tr>\n",
       "      <th>15</th>\n",
       "      <td>Waitlist</td>\n",
       "      <td>New York</td>\n",
       "      <td>1</td>\n",
       "      <td>23</td>\n",
       "      <td>4.347826</td>\n",
       "      <td>36</td>\n",
       "    </tr>\n",
       "    <tr>\n",
       "      <th>16</th>\n",
       "      <td>Waitlist</td>\n",
       "      <td>Utah</td>\n",
       "      <td>3</td>\n",
       "      <td>23</td>\n",
       "      <td>13.043478</td>\n",
       "      <td>49</td>\n",
       "    </tr>\n",
       "    <tr>\n",
       "      <th>17</th>\n",
       "      <td>Waitlist</td>\n",
       "      <td>Vermont</td>\n",
       "      <td>1</td>\n",
       "      <td>23</td>\n",
       "      <td>4.347826</td>\n",
       "      <td>50</td>\n",
       "    </tr>\n",
       "  </tbody>\n",
       "</table>\n",
       "</div>"
      ],
      "text/plain": [
       "    Decision        State  StateCount  DecisionCount       Rate  StateID\n",
       "0      Admit   California           9             29  31.034483        6\n",
       "1      Admit     Colorado           8             29  27.586207        8\n",
       "2      Admit      Florida          11             29  37.931034       12\n",
       "3      Admit         Utah           1             29   3.448276       49\n",
       "4    Decline   California           1             28   3.571429        6\n",
       "5    Decline     Colorado           6             28  21.428571        8\n",
       "6    Decline      Florida          13             28  46.428571       12\n",
       "7    Decline  Mississippi           1             28   3.571429       28\n",
       "8    Decline       Oregon           1             28   3.571429       41\n",
       "9    Decline         Utah           2             28   7.142857       49\n",
       "10   Decline     Virginia           4             28  14.285714       51\n",
       "11  Waitlist      Alabama           1             23   4.347826        1\n",
       "12  Waitlist   California           2             23   8.695652        6\n",
       "13  Waitlist     Colorado           4             23  17.391304        8\n",
       "14  Waitlist      Florida          11             23  47.826087       12\n",
       "15  Waitlist     New York           1             23   4.347826       36\n",
       "16  Waitlist         Utah           3             23  13.043478       49\n",
       "17  Waitlist      Vermont           1             23   4.347826       50"
      ]
     },
     "execution_count": 180,
     "metadata": {},
     "output_type": "execute_result"
    }
   ],
   "source": [
    "decision_state = df.groupby(['Decision', 'State'])[[\"GPA\"]].count().reset_index()\n",
    "decision_state = decision_state.rename(columns={'GPA':'StateCount'})\n",
    "decision_state['DecisionCount'] = decision_state.groupby('Decision')['StateCount'].transform('sum')\n",
    "decision_state['Rate'] = decision_state['StateCount'] / decision_state['DecisionCount'] * 100\n",
    "\n",
    "state_id_dict = dict(zip(data.population_engineers_hurricanes()[\"state\"], data.population_engineers_hurricanes()[\"id\"]))\n",
    "decision_state[\"StateID\"] = decision_state[\"State\"].map(state_id_dict)\n",
    "\n",
    "decision_state"
   ]
  },
  {
   "cell_type": "code",
   "execution_count": 184,
   "metadata": {},
   "outputs": [],
   "source": [
    "admit_states = decision_state[decision_state['Decision'] == \"Admit\"]\n",
    "decline_states = decision_state[decision_state['Decision'] == \"Decline\"]"
   ]
  },
  {
   "cell_type": "code",
   "execution_count": 198,
   "metadata": {},
   "outputs": [
    {
     "name": "stderr",
     "output_type": "stream",
     "text": [
      "c:\\Users\\theda\\anaconda3\\Lib\\site-packages\\altair\\utils\\deprecation.py:65: AltairDeprecationWarning:\n",
      "\n",
      "'selection_multi' is deprecated.  Use 'selection_point'\n",
      "\n",
      "c:\\Users\\theda\\anaconda3\\Lib\\site-packages\\altair\\utils\\deprecation.py:65: AltairDeprecationWarning:\n",
      "\n",
      "'add_selection' is deprecated. Use 'add_params' instead.\n",
      "\n"
     ]
    },
    {
     "data": {
      "text/html": [
       "\n",
       "<style>\n",
       "  #altair-viz-c8ab3ee974ad4155990b00c5cfef9fb6.vega-embed {\n",
       "    width: 100%;\n",
       "    display: flex;\n",
       "  }\n",
       "\n",
       "  #altair-viz-c8ab3ee974ad4155990b00c5cfef9fb6.vega-embed details,\n",
       "  #altair-viz-c8ab3ee974ad4155990b00c5cfef9fb6.vega-embed details summary {\n",
       "    position: relative;\n",
       "  }\n",
       "</style>\n",
       "<div id=\"altair-viz-c8ab3ee974ad4155990b00c5cfef9fb6\"></div>\n",
       "<script type=\"text/javascript\">\n",
       "  var VEGA_DEBUG = (typeof VEGA_DEBUG == \"undefined\") ? {} : VEGA_DEBUG;\n",
       "  (function(spec, embedOpt){\n",
       "    let outputDiv = document.currentScript.previousElementSibling;\n",
       "    if (outputDiv.id !== \"altair-viz-c8ab3ee974ad4155990b00c5cfef9fb6\") {\n",
       "      outputDiv = document.getElementById(\"altair-viz-c8ab3ee974ad4155990b00c5cfef9fb6\");\n",
       "    }\n",
       "    const paths = {\n",
       "      \"vega\": \"https://cdn.jsdelivr.net/npm/vega@5?noext\",\n",
       "      \"vega-lib\": \"https://cdn.jsdelivr.net/npm/vega-lib?noext\",\n",
       "      \"vega-lite\": \"https://cdn.jsdelivr.net/npm/vega-lite@5.8.0?noext\",\n",
       "      \"vega-embed\": \"https://cdn.jsdelivr.net/npm/vega-embed@6?noext\",\n",
       "    };\n",
       "\n",
       "    function maybeLoadScript(lib, version) {\n",
       "      var key = `${lib.replace(\"-\", \"\")}_version`;\n",
       "      return (VEGA_DEBUG[key] == version) ?\n",
       "        Promise.resolve(paths[lib]) :\n",
       "        new Promise(function(resolve, reject) {\n",
       "          var s = document.createElement('script');\n",
       "          document.getElementsByTagName(\"head\")[0].appendChild(s);\n",
       "          s.async = true;\n",
       "          s.onload = () => {\n",
       "            VEGA_DEBUG[key] = version;\n",
       "            return resolve(paths[lib]);\n",
       "          };\n",
       "          s.onerror = () => reject(`Error loading script: ${paths[lib]}`);\n",
       "          s.src = paths[lib];\n",
       "        });\n",
       "    }\n",
       "\n",
       "    function showError(err) {\n",
       "      outputDiv.innerHTML = `<div class=\"error\" style=\"color:red;\">${err}</div>`;\n",
       "      throw err;\n",
       "    }\n",
       "\n",
       "    function displayChart(vegaEmbed) {\n",
       "      vegaEmbed(outputDiv, spec, embedOpt)\n",
       "        .catch(err => showError(`Javascript Error: ${err.message}<br>This usually means there's a typo in your chart specification. See the javascript console for the full traceback.`));\n",
       "    }\n",
       "\n",
       "    if(typeof define === \"function\" && define.amd) {\n",
       "      requirejs.config({paths});\n",
       "      require([\"vega-embed\"], displayChart, err => showError(`Error loading script: ${err.message}`));\n",
       "    } else {\n",
       "      maybeLoadScript(\"vega\", \"5\")\n",
       "        .then(() => maybeLoadScript(\"vega-lite\", \"5.8.0\"))\n",
       "        .then(() => maybeLoadScript(\"vega-embed\", \"6\"))\n",
       "        .catch(showError)\n",
       "        .then(() => displayChart(vegaEmbed));\n",
       "    }\n",
       "  })({\"config\": {\"view\": {\"continuousWidth\": 300, \"continuousHeight\": 300}}, \"hconcat\": [{\"layer\": [{\"mark\": {\"type\": \"geoshape\"}, \"encoding\": {\"color\": {\"field\": \"Rate\", \"scale\": {\"range\": [\"#00072D\", \"#0A2472\", \"#0E6BA8\", \"#A6E1FA\", \"#99ABC5\", \"#8B748F\", \"#6F0624\"]}, \"type\": \"quantitative\"}, \"opacity\": {\"condition\": {\"test\": \"isValid(datum.Rate)\", \"value\": 1}, \"value\": 0.2}, \"tooltip\": [{\"field\": \"State\", \"type\": \"nominal\"}, {\"field\": \"Rate\", \"type\": \"quantitative\"}]}, \"name\": \"view_47\", \"projection\": {\"type\": \"albersUsa\"}, \"title\": \"Admission Rates by State\", \"transform\": [{\"lookup\": \"id\", \"from\": {\"data\": {\"name\": \"data-503a74368ebe062f15f70c03eb2f77e7\"}, \"key\": \"StateID\", \"fields\": [\"Decision\", \"State\", \"StateCount\", \"DecisionCount\", \"Rate\", \"StateID\"]}}]}, {\"mark\": {\"type\": \"geoshape\", \"fill\": \"grey\", \"stroke\": \"white\"}, \"encoding\": {\"opacity\": {\"condition\": {\"test\": \"isValid(datum.Rate)\", \"value\": 0}, \"value\": 0.2}}, \"projection\": {\"type\": \"albersUsa\"}}], \"height\": 300, \"width\": 500}, {\"layer\": [{\"mark\": {\"type\": \"geoshape\"}, \"encoding\": {\"color\": {\"field\": \"Rate\", \"scale\": {\"range\": [\"#00072D\", \"#0A2472\", \"#0E6BA8\", \"#A6E1FA\", \"#99ABC5\", \"#8B748F\", \"#6F0624\"]}, \"type\": \"quantitative\"}, \"opacity\": {\"condition\": {\"test\": \"isValid(datum.Rate)\", \"value\": 1}, \"value\": 0.2}, \"tooltip\": [{\"field\": \"State\", \"type\": \"nominal\"}, {\"field\": \"Rate\", \"type\": \"quantitative\"}]}, \"name\": \"view_48\", \"projection\": {\"type\": \"albersUsa\"}, \"title\": \"Rejection Rates by State\", \"transform\": [{\"lookup\": \"id\", \"from\": {\"data\": {\"name\": \"data-b46b07f67a277f5f7e632f817929b01f\"}, \"key\": \"StateID\", \"fields\": [\"Decision\", \"State\", \"StateCount\", \"DecisionCount\", \"Rate\", \"StateID\"]}}]}, {\"mark\": {\"type\": \"geoshape\", \"fill\": \"grey\", \"stroke\": \"white\"}, \"encoding\": {\"opacity\": {\"condition\": {\"test\": \"isValid(datum.Rate)\", \"value\": 0}, \"value\": 0.2}}, \"projection\": {\"type\": \"albersUsa\"}}], \"height\": 300, \"width\": 500}], \"data\": {\"url\": \"https://raw.githubusercontent.com/vega/vega-datasets/master/data/us-10m.json\", \"format\": {\"feature\": \"states\", \"type\": \"topojson\"}}, \"params\": [{\"name\": \"param_40\", \"select\": {\"type\": \"point\", \"fields\": [\"State\"]}, \"views\": [\"view_47\", \"view_48\"]}, {\"name\": \"param_41\", \"select\": {\"type\": \"interval\", \"encodings\": [\"x\", \"y\"]}, \"bind\": \"scales\", \"views\": [\"view_47\"]}, {\"name\": \"param_42\", \"select\": {\"type\": \"interval\", \"encodings\": [\"x\", \"y\"]}, \"bind\": \"scales\", \"views\": [\"view_48\"]}], \"$schema\": \"https://vega.github.io/schema/vega-lite/v5.8.0.json\", \"datasets\": {\"data-503a74368ebe062f15f70c03eb2f77e7\": [{\"Decision\": \"Admit\", \"State\": \"California\", \"StateCount\": 9, \"DecisionCount\": 29, \"Rate\": 31.03448275862069, \"StateID\": 6}, {\"Decision\": \"Admit\", \"State\": \"Colorado\", \"StateCount\": 8, \"DecisionCount\": 29, \"Rate\": 27.586206896551722, \"StateID\": 8}, {\"Decision\": \"Admit\", \"State\": \"Florida\", \"StateCount\": 11, \"DecisionCount\": 29, \"Rate\": 37.93103448275862, \"StateID\": 12}, {\"Decision\": \"Admit\", \"State\": \"Utah\", \"StateCount\": 1, \"DecisionCount\": 29, \"Rate\": 3.4482758620689653, \"StateID\": 49}], \"data-b46b07f67a277f5f7e632f817929b01f\": [{\"Decision\": \"Decline\", \"State\": \"California\", \"StateCount\": 1, \"DecisionCount\": 28, \"Rate\": 3.571428571428571, \"StateID\": 6}, {\"Decision\": \"Decline\", \"State\": \"Colorado\", \"StateCount\": 6, \"DecisionCount\": 28, \"Rate\": 21.428571428571427, \"StateID\": 8}, {\"Decision\": \"Decline\", \"State\": \"Florida\", \"StateCount\": 13, \"DecisionCount\": 28, \"Rate\": 46.42857142857143, \"StateID\": 12}, {\"Decision\": \"Decline\", \"State\": \"Mississippi\", \"StateCount\": 1, \"DecisionCount\": 28, \"Rate\": 3.571428571428571, \"StateID\": 28}, {\"Decision\": \"Decline\", \"State\": \"Oregon\", \"StateCount\": 1, \"DecisionCount\": 28, \"Rate\": 3.571428571428571, \"StateID\": 41}, {\"Decision\": \"Decline\", \"State\": \"Utah\", \"StateCount\": 2, \"DecisionCount\": 28, \"Rate\": 7.142857142857142, \"StateID\": 49}, {\"Decision\": \"Decline\", \"State\": \"Virginia\", \"StateCount\": 4, \"DecisionCount\": 28, \"Rate\": 14.285714285714285, \"StateID\": 51}]}}, {\"mode\": \"vega-lite\"});\n",
       "</script>"
      ],
      "text/plain": [
       "alt.HConcatChart(...)"
      ]
     },
     "execution_count": 198,
     "metadata": {},
     "output_type": "execute_result"
    }
   ],
   "source": [
    "states = alt.topo_feature('https://raw.githubusercontent.com/vega/vega-datasets/master/data/us-10m.json', 'states')\n",
    "click = alt.selection_multi(fields = [\"State\"])\n",
    "\n",
    "existing_states = alt.Chart(states).mark_geoshape().encode(\n",
    "    color = alt.Color(\"Rate:Q\", scale=alt.Scale(range=custom_palette)),\n",
    "    tooltip = [\"State:N\", \"Rate:Q\"],\n",
    "    opacity = alt.condition('isValid(datum.Rate)', alt.value(1), alt.value(0.2)),\n",
    ").transform_lookup(\n",
    "    lookup = \"id\",\n",
    "    from_ = alt.LookupData(admit_states, \"StateID\", list(admit_states.columns))\n",
    ").properties(width = 500, height = 300, title=\"Admission Rates by State\").add_selection(click).project(type = \"albersUsa\").interactive()\n",
    "\n",
    "missing_states = (\n",
    "    alt.Chart(states)\n",
    "    .mark_geoshape(fill = \"grey\", stroke = \"white\")\n",
    "    .encode(opacity=alt.condition(\"isValid(datum.Rate)\", alt.value(0), alt.value(0.2))).add_selection(click).project(type = \"albersUsa\")\n",
    "    )\n",
    "\n",
    "admit_map = existing_states + missing_states\n",
    "\n",
    "existing_states = alt.Chart(states).mark_geoshape().encode(\n",
    "    color = alt.Color(\"Rate:Q\", scale=alt.Scale(range=custom_palette)),\n",
    "    tooltip = [\"State:N\", \"Rate:Q\"],\n",
    "    opacity = alt.condition('isValid(datum.Rate)', alt.value(1), alt.value(0.2)),\n",
    ").transform_lookup(\n",
    "    lookup = \"id\",\n",
    "    from_ = alt.LookupData(decline_states, \"StateID\", list(decline_states.columns))\n",
    ").properties(width = 500, height = 300, title=\"Rejection Rates by State\").add_selection(click).project(type = \"albersUsa\").interactive()\n",
    "\n",
    "missing_states = (\n",
    "    alt.Chart(states)\n",
    "    .mark_geoshape(fill = \"grey\", stroke = \"white\")\n",
    "    .encode(opacity=alt.condition(\"isValid(datum.Rate)\", alt.value(0), alt.value(0.2))).add_selection(click).project(type = \"albersUsa\")\n",
    "    )\n",
    "\n",
    "decline_map = existing_states + missing_states\n",
    "\n",
    "admit_map | decline_map"
   ]
  }
 ],
 "metadata": {
  "kernelspec": {
   "display_name": "Python 3.11.4 ('dsan6600')",
   "language": "python",
   "name": "python3"
  },
  "language_info": {
   "codemirror_mode": {
    "name": "ipython",
    "version": 3
   },
   "file_extension": ".py",
   "mimetype": "text/x-python",
   "name": "python",
   "nbconvert_exporter": "python",
   "pygments_lexer": "ipython3",
   "version": "3.11.4"
  },
  "vscode": {
   "interpreter": {
    "hash": "10728f175b8993090ce876d3431bcd0dc9425a45ffbaa137cb3fc90a15ff786e"
   }
  }
 },
 "nbformat": 4,
 "nbformat_minor": 2
}
