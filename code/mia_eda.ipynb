{
 "cells": [
  {
   "cell_type": "markdown",
   "metadata": {},
   "source": [
    "### Reading in the data and loading packages"
   ]
  },
  {
   "cell_type": "code",
   "execution_count": 207,
   "metadata": {},
   "outputs": [],
   "source": [
    "# Import packages\n",
    "import pandas as pd\n",
    "import numpy as np\n",
    "import altair as alt\n",
    "import matplotlib.pyplot as plt\n",
    "import seaborn as sns\n",
    "import plotly.graph_objects as go\n",
    "import plotly.express as px\n",
    "from mpl_toolkits.mplot3d import Axes3D\n",
    "from vega_datasets import data"
   ]
  },
  {
   "cell_type": "code",
   "execution_count": 208,
   "metadata": {},
   "outputs": [
    {
     "data": {
      "text/html": [
       "<div>\n",
       "<style scoped>\n",
       "    .dataframe tbody tr th:only-of-type {\n",
       "        vertical-align: middle;\n",
       "    }\n",
       "\n",
       "    .dataframe tbody tr th {\n",
       "        vertical-align: top;\n",
       "    }\n",
       "\n",
       "    .dataframe thead th {\n",
       "        text-align: right;\n",
       "    }\n",
       "</style>\n",
       "<table border=\"1\" class=\"dataframe\">\n",
       "  <thead>\n",
       "    <tr style=\"text-align: right;\">\n",
       "      <th></th>\n",
       "      <th>Decision</th>\n",
       "      <th>State</th>\n",
       "      <th>GPA</th>\n",
       "      <th>WorkExp</th>\n",
       "      <th>TestScore</th>\n",
       "      <th>WritingScore</th>\n",
       "      <th>Gender</th>\n",
       "      <th>VolunteerLevel</th>\n",
       "    </tr>\n",
       "  </thead>\n",
       "  <tbody>\n",
       "    <tr>\n",
       "      <th>0</th>\n",
       "      <td>Waitlist</td>\n",
       "      <td>Alabama</td>\n",
       "      <td>3.41</td>\n",
       "      <td>1.2</td>\n",
       "      <td>868</td>\n",
       "      <td>85</td>\n",
       "      <td>0</td>\n",
       "      <td>0</td>\n",
       "    </tr>\n",
       "    <tr>\n",
       "      <th>1</th>\n",
       "      <td>Admit</td>\n",
       "      <td>California</td>\n",
       "      <td>3.90</td>\n",
       "      <td>6.7</td>\n",
       "      <td>962</td>\n",
       "      <td>100</td>\n",
       "      <td>1</td>\n",
       "      <td>0</td>\n",
       "    </tr>\n",
       "    <tr>\n",
       "      <th>2</th>\n",
       "      <td>Admit</td>\n",
       "      <td>California</td>\n",
       "      <td>3.88</td>\n",
       "      <td>1.5</td>\n",
       "      <td>967</td>\n",
       "      <td>95</td>\n",
       "      <td>1</td>\n",
       "      <td>5</td>\n",
       "    </tr>\n",
       "    <tr>\n",
       "      <th>3</th>\n",
       "      <td>Admit</td>\n",
       "      <td>California</td>\n",
       "      <td>3.70</td>\n",
       "      <td>1.2</td>\n",
       "      <td>969</td>\n",
       "      <td>94</td>\n",
       "      <td>1</td>\n",
       "      <td>2</td>\n",
       "    </tr>\n",
       "    <tr>\n",
       "      <th>4</th>\n",
       "      <td>Admit</td>\n",
       "      <td>California</td>\n",
       "      <td>3.70</td>\n",
       "      <td>1.4</td>\n",
       "      <td>966</td>\n",
       "      <td>94</td>\n",
       "      <td>1</td>\n",
       "      <td>0</td>\n",
       "    </tr>\n",
       "  </tbody>\n",
       "</table>\n",
       "</div>"
      ],
      "text/plain": [
       "   Decision       State   GPA  WorkExp  TestScore  WritingScore  Gender  \\\n",
       "0  Waitlist     Alabama  3.41      1.2        868            85       0   \n",
       "1     Admit  California  3.90      6.7        962           100       1   \n",
       "2     Admit  California  3.88      1.5        967            95       1   \n",
       "3     Admit  California  3.70      1.2        969            94       1   \n",
       "4     Admit  California  3.70      1.4        966            94       1   \n",
       "\n",
       "   VolunteerLevel  \n",
       "0               0  \n",
       "1               0  \n",
       "2               5  \n",
       "3               2  \n",
       "4               0  "
      ]
     },
     "execution_count": 208,
     "metadata": {},
     "output_type": "execute_result"
    }
   ],
   "source": [
    "# Read in clean data\n",
    "df = pd.read_csv(\"../data/clean_data.csv\")\n",
    "df.head()"
   ]
  },
  {
   "cell_type": "markdown",
   "metadata": {},
   "source": [
    "### EDA Visuals"
   ]
  },
  {
   "cell_type": "code",
   "execution_count": 209,
   "metadata": {},
   "outputs": [
    {
     "name": "stdout",
     "output_type": "stream",
     "text": [
      "GPA Middle 50%: (3.66, 3.87)\n",
      "WorkExp Middle 50%: (1.0, 2.2)\n",
      "TestScore Middle 50%: (965.0, 969.0)\n",
      "WritingScore Middle 50%: (91.0, 97.0)\n",
      "Volunteer Level Middle 50%: (1.0, 4.0)\n"
     ]
    }
   ],
   "source": [
    "admitted_df = df[df[\"Decision\"] == \"Admit\"]\n",
    "def middle50(data, colname):\n",
    "    lower_quantile = data[colname].quantile(0.25)\n",
    "    upper_quantile = data[colname].quantile(0.75)\n",
    "    return lower_quantile, upper_quantile\n",
    "print(\"GPA Middle 50%:\", middle50(admitted_df, \"GPA\"))\n",
    "print(\"WorkExp Middle 50%:\", middle50(admitted_df, \"WorkExp\"))\n",
    "print(\"TestScore Middle 50%:\", middle50(admitted_df, \"TestScore\"))\n",
    "print(\"WritingScore Middle 50%:\", middle50(admitted_df, \"WritingScore\"))\n",
    "print(\"Volunteer Level Middle 50%:\", middle50(admitted_df, \"VolunteerLevel\"))"
   ]
  },
  {
   "cell_type": "code",
   "execution_count": 210,
   "metadata": {},
   "outputs": [
    {
     "name": "stdout",
     "output_type": "stream",
     "text": [
      "44.827586206896555\n",
      "55.172413793103445\n"
     ]
    }
   ],
   "source": [
    "print(admitted_df[admitted_df[\"Gender\"] == 0].shape[0]/29*100)\n",
    "print(admitted_df[admitted_df[\"Gender\"] == 1].shape[0]/29*100)"
   ]
  },
  {
   "cell_type": "code",
   "execution_count": 211,
   "metadata": {},
   "outputs": [
    {
     "name": "stdout",
     "output_type": "stream",
     "text": [
      "3.4965\n",
      "2.1475\n",
      "870.0875\n",
      "81.6125\n",
      "2.4625\n",
      "------\n",
      "3.54\n",
      "1.55\n",
      "868.0\n",
      "83.5\n",
      "2.0\n",
      "------\n",
      "3.93\n",
      "9.2\n",
      "969\n",
      "100\n",
      "5\n",
      "------\n",
      "2.34\n",
      "0.0\n",
      "751\n",
      "1\n",
      "0\n"
     ]
    }
   ],
   "source": [
    "print(df[\"GPA\"].mean())\n",
    "print(df[\"WorkExp\"].mean())\n",
    "print(df[\"TestScore\"].mean())\n",
    "print(df[\"WritingScore\"].mean())\n",
    "print(df[\"VolunteerLevel\"].mean())\n",
    "print(\"------\")\n",
    "print(df[\"GPA\"].median())\n",
    "print(df[\"WorkExp\"].median())\n",
    "print(df[\"TestScore\"].median())\n",
    "print(df[\"WritingScore\"].median())\n",
    "print(df[\"VolunteerLevel\"].median())\n",
    "print(\"------\")\n",
    "print(df[\"GPA\"].max())\n",
    "print(df[\"WorkExp\"].max())\n",
    "print(df[\"TestScore\"].max())\n",
    "print(df[\"WritingScore\"].max())\n",
    "print(df[\"VolunteerLevel\"].max())\n",
    "print(\"------\")\n",
    "print(df[\"GPA\"].min())\n",
    "print(df[\"WorkExp\"].min())\n",
    "print(df[\"TestScore\"].min())\n",
    "print(df[\"WritingScore\"].min())\n",
    "print(df[\"VolunteerLevel\"].min())"
   ]
  },
  {
   "cell_type": "code",
   "execution_count": 212,
   "metadata": {},
   "outputs": [
    {
     "data": {
      "image/png": "[encoded data removed]",
      "text/plain": [
       "<Figure size 1400x1100 with 5 Axes>"
      ]
     },
     "metadata": {},
     "output_type": "display_data"
    }
   ],
   "source": [
    "# Histograms of columns to double check for outliers\n",
    "fig, axes = plt.subplots(3, 2, figsize = (14,11))\n",
    "sns.histplot(data = df, x = \"GPA\", bins = 10, kde = False, color = \"#635380\", edgecolor = \"black\", ax = axes[0, 0])\n",
    "axes[0, 0].set_title(\"Distribution of GPA\", fontsize = 16)\n",
    "axes[0, 0].tick_params(axis = \"both\", labelsize = 14)\n",
    "axes[0, 0].set_xlabel(\"GPA\", fontsize = 14)\n",
    "axes[0, 0].set_ylabel(\"Frequency\", fontsize = 14)\n",
    "\n",
    "sns.histplot(data = df, x = \"WorkExp\", bins = 10, kde = False, color = \"#635380\", edgecolor = \"black\", ax = axes[0, 1])\n",
    "axes[0, 1].set_title(\"Distribution of Work Experience (Years)\", fontsize = 16)\n",
    "axes[0, 1].tick_params(axis = \"both\", labelsize = 14)\n",
    "axes[0, 1].set_xlabel(\"Work Experience\", fontsize = 14)\n",
    "axes[0, 1].set_ylabel(\"Frequency\", fontsize = 14)\n",
    "\n",
    "sns.histplot(data = df, x = \"TestScore\", bins = 10, kde = False, color = \"#635380\", edgecolor = \"black\", ax = axes[1, 0])\n",
    "axes[1, 0].set_title(\"Distribution of Test Scores\", fontsize = 16)\n",
    "axes[1, 0].tick_params(axis = \"both\", labelsize = 14)\n",
    "axes[1, 0].set_xlabel(\"Test Score\", fontsize = 14)\n",
    "axes[1, 0].set_ylabel(\"Frequency\", fontsize = 14)\n",
    "\n",
    "sns.histplot(data = df, x = \"WritingScore\", bins = 10, kde = False, color = \"#635380\", edgecolor = \"black\", ax = axes[1, 1])\n",
    "axes[1, 1].set_title(\"Distribution of Writing Scores\", fontsize = 16)\n",
    "axes[1, 1].tick_params(axis = \"both\", labelsize = 14)\n",
    "axes[1, 1].set_xlabel(\"Writing Score\", fontsize = 14)\n",
    "axes[1, 1].set_ylabel(\"Frequency\", fontsize = 14)\n",
    "\n",
    "sns.histplot(data = df, x = \"VolunteerLevel\", bins = 10, kde = False, color = \"#635380\", edgecolor = \"black\", ax = axes[2, 0])\n",
    "axes[2, 0].set_title(\"Distribution of Volunteer Level\", fontsize = 16)\n",
    "axes[2, 0].tick_params(axis = \"both\", labelsize = 14)\n",
    "axes[2, 0].set_xlabel(\"Volunteer Level\", fontsize = 14)\n",
    "axes[2, 0].set_ylabel(\"Frequency\", fontsize = 14)\n",
    "\n",
    "fig.delaxes(axes[2, 1])\n",
    "plt.tight_layout()\n",
    "plt.show()\n",
    "fig.savefig(\"../website/images/variable_histograms.png\")"
   ]
  },
  {
   "cell_type": "markdown",
   "metadata": {},
   "source": [
    "### Investigating gender ratios"
   ]
  },
  {
   "cell_type": "code",
   "execution_count": 213,
   "metadata": {},
   "outputs": [
    {
     "name": "stderr",
     "output_type": "stream",
     "text": [
      "/var/folders/_p/d81k_b_93575z7h2220jh4cr0000gn/T/ipykernel_16441/1875275667.py:6: FutureWarning:\n",
      "\n",
      "\n",
      "\n",
      "Passing `palette` without assigning `hue` is deprecated and will be removed in v0.14.0. Assign the `x` variable to `hue` and set `legend=False` for the same effect.\n",
      "\n",
      "\n"
     ]
    },
    {
     "data": {
      "image/png": "[encoded data removed]",
      "text/plain": [
       "<Figure size 800x600 with 1 Axes>"
      ]
     },
     "metadata": {},
     "output_type": "display_data"
    }
   ],
   "source": [
    "# Bar Chart of Gender Distribution\n",
    "df[\"Gender\"] = df[\"Gender\"].replace({0: \"Female\"})\n",
    "df[\"Gender\"] = df[\"Gender\"].replace({1: \"Male\"})\n",
    "\n",
    "fig, ax = plt.subplots(figsize = (8, 6))\n",
    "ax = sns.countplot(x = \"Gender\", data = df, palette = [\"#5478AE\", \"#B16792\"])\n",
    "\n",
    "for p in ax.patches:\n",
    "    ax.annotate(f'{int(p.get_height())}', (p.get_x() + p.get_width() / 2., p.get_height()),\n",
    "                ha = \"center\", va = \"center\", xytext = (0, 10), textcoords = \"offset points\", fontsize = 12, color = \"black\")\n",
    "\n",
    "ax.set_ylim(0, ax.get_ylim()[1] + 5)\n",
    "\n",
    "plt.title(\"Distribution of Gender in Summer Internship Applications\")\n",
    "plt.xlabel(\"Gender\")\n",
    "plt.ylabel(\"Count\")\n",
    "plt.show()\n",
    "fig.savefig(\"../website/images/gender_applications_barplot.png\")"
   ]
  },
  {
   "cell_type": "code",
   "execution_count": 214,
   "metadata": {},
   "outputs": [
    {
     "data": {
      "image/png": "[encoded data removed]",
      "text/plain": [
       "<Figure size 600x600 with 1 Axes>"
      ]
     },
     "metadata": {},
     "output_type": "display_data"
    }
   ],
   "source": [
    "# Pie Chart of Gender Distribution\n",
    "gender_counts = df['Gender'].value_counts()\n",
    "gender_counts = pd.DataFrame(gender_counts).reset_index()\n",
    "gender_counts.columns = [\"Gender\", \"Count\"]\n",
    "gender_counts['Percentage'] = gender_counts['Count'] / gender_counts['Count'].sum()\n",
    "\n",
    "fig, ax = plt.subplots(figsize = (6, 6))\n",
    "ax.pie(gender_counts[\"Percentage\"], labels = gender_counts[\"Gender\"], autopct = '%.1f%%', colors = [\"#5478AE\", \"#B16792\"])\n",
    "ax.set_title(\"Distribution of Gender in Summer Internship Applications\")\n",
    "plt.tight_layout()\n",
    "plt.show()\n",
    "fig.savefig(\"../website/images/gender_applications_piechart.png\")"
   ]
  },
  {
   "cell_type": "code",
   "execution_count": 215,
   "metadata": {},
   "outputs": [
    {
     "data": {
      "text/html": [
       "<div>\n",
       "<style scoped>\n",
       "    .dataframe tbody tr th:only-of-type {\n",
       "        vertical-align: middle;\n",
       "    }\n",
       "\n",
       "    .dataframe tbody tr th {\n",
       "        vertical-align: top;\n",
       "    }\n",
       "\n",
       "    .dataframe thead th {\n",
       "        text-align: right;\n",
       "    }\n",
       "</style>\n",
       "<table border=\"1\" class=\"dataframe\">\n",
       "  <thead>\n",
       "    <tr style=\"text-align: right;\">\n",
       "      <th></th>\n",
       "      <th>Gender</th>\n",
       "      <th>State</th>\n",
       "      <th>count</th>\n",
       "    </tr>\n",
       "  </thead>\n",
       "  <tbody>\n",
       "    <tr>\n",
       "      <th>0</th>\n",
       "      <td>Female</td>\n",
       "      <td>Florida</td>\n",
       "      <td>12</td>\n",
       "    </tr>\n",
       "    <tr>\n",
       "      <th>1</th>\n",
       "      <td>Female</td>\n",
       "      <td>Colorado</td>\n",
       "      <td>5</td>\n",
       "    </tr>\n",
       "    <tr>\n",
       "      <th>2</th>\n",
       "      <td>Female</td>\n",
       "      <td>Utah</td>\n",
       "      <td>2</td>\n",
       "    </tr>\n",
       "    <tr>\n",
       "      <th>3</th>\n",
       "      <td>Female</td>\n",
       "      <td>Virginia</td>\n",
       "      <td>2</td>\n",
       "    </tr>\n",
       "    <tr>\n",
       "      <th>4</th>\n",
       "      <td>Female</td>\n",
       "      <td>Alabama</td>\n",
       "      <td>1</td>\n",
       "    </tr>\n",
       "    <tr>\n",
       "      <th>5</th>\n",
       "      <td>Male</td>\n",
       "      <td>Florida</td>\n",
       "      <td>12</td>\n",
       "    </tr>\n",
       "    <tr>\n",
       "      <th>6</th>\n",
       "      <td>Male</td>\n",
       "      <td>Colorado</td>\n",
       "      <td>5</td>\n",
       "    </tr>\n",
       "    <tr>\n",
       "      <th>7</th>\n",
       "      <td>Male</td>\n",
       "      <td>California</td>\n",
       "      <td>3</td>\n",
       "    </tr>\n",
       "    <tr>\n",
       "      <th>8</th>\n",
       "      <td>Male</td>\n",
       "      <td>Utah</td>\n",
       "      <td>3</td>\n",
       "    </tr>\n",
       "    <tr>\n",
       "      <th>9</th>\n",
       "      <td>Male</td>\n",
       "      <td>Virginia</td>\n",
       "      <td>2</td>\n",
       "    </tr>\n",
       "    <tr>\n",
       "      <th>10</th>\n",
       "      <td>Male</td>\n",
       "      <td>Mississippi</td>\n",
       "      <td>1</td>\n",
       "    </tr>\n",
       "    <tr>\n",
       "      <th>11</th>\n",
       "      <td>Male</td>\n",
       "      <td>New York</td>\n",
       "      <td>1</td>\n",
       "    </tr>\n",
       "    <tr>\n",
       "      <th>12</th>\n",
       "      <td>Male</td>\n",
       "      <td>Oregon</td>\n",
       "      <td>1</td>\n",
       "    </tr>\n",
       "    <tr>\n",
       "      <th>13</th>\n",
       "      <td>Male</td>\n",
       "      <td>Vermont</td>\n",
       "      <td>1</td>\n",
       "    </tr>\n",
       "  </tbody>\n",
       "</table>\n",
       "</div>"
      ],
      "text/plain": [
       "    Gender        State  count\n",
       "0   Female      Florida     12\n",
       "1   Female     Colorado      5\n",
       "2   Female         Utah      2\n",
       "3   Female     Virginia      2\n",
       "4   Female      Alabama      1\n",
       "5     Male      Florida     12\n",
       "6     Male     Colorado      5\n",
       "7     Male   California      3\n",
       "8     Male         Utah      3\n",
       "9     Male     Virginia      2\n",
       "10    Male  Mississippi      1\n",
       "11    Male     New York      1\n",
       "12    Male       Oregon      1\n",
       "13    Male      Vermont      1"
      ]
     },
     "execution_count": 215,
     "metadata": {},
     "output_type": "execute_result"
    }
   ],
   "source": [
    "gender_counts_by_state_reject"
   ]
  },
  {
   "cell_type": "code",
   "execution_count": 216,
   "metadata": {},
   "outputs": [],
   "source": [
    "## PREPPING DATA FOR VISUALS\n",
    "gender_counts_by_state_all = df.groupby(\"Gender\")[\"State\"].value_counts().reset_index()\n",
    "females_all = gender_counts_by_state_all[gender_counts_by_state_all[\"Gender\"] == \"Female\"]\n",
    "males_all = gender_counts_by_state_all[gender_counts_by_state_all[\"Gender\"] == \"Male\"]\n",
    "\n",
    "gender_counts_by_state_admitted = df[df[\"Decision\"] == \"Admit\"].groupby(\"Gender\")[\"State\"].value_counts().reset_index()\n",
    "females_admit = gender_counts_by_state_admitted[gender_counts_by_state_admitted[\"Gender\"] == \"Female\"]\n",
    "males_admit = gender_counts_by_state_admitted[gender_counts_by_state_admitted[\"Gender\"] == \"Male\"]\n",
    "\n",
    "gender_counts_by_state_reject = df[df[\"Decision\"] != \"Admit\"].groupby(\"Gender\")[\"State\"].value_counts().reset_index()\n",
    "females_reject = gender_counts_by_state_reject[gender_counts_by_state_reject[\"Gender\"] == \"Female\"]\n",
    "males_reject = gender_counts_by_state_reject[gender_counts_by_state_reject[\"Gender\"] == \"Male\"]\n",
    "\n",
    "\n",
    "all_states_male = pd.DataFrame({\"State\": df.State.unique(), \"count\": 0, \"Gender\": \"Male\"})\n",
    "all_states_female = pd.DataFrame({\"State\": df.State.unique(), \"count\": 0, \"Gender\": \"Female\"})\n",
    "\n",
    "males_all = pd.merge(all_states_male, males_all, on = \"State\", how = \"left\").fillna(0)\n",
    "males_all = males_all[[\"State\", \"count_y\", \"Gender_x\"]]\n",
    "males_all.columns = [\"State\", \"count\", \"Gender\"]\n",
    "males_all[\"count\"] = males_all[\"count\"].astype(int)\n",
    "females_all = pd.merge(all_states_female, females_all, on = \"State\", how = \"left\").fillna(0)\n",
    "females_all = females_all[[\"State\", \"count_y\", \"Gender_x\"]]\n",
    "females_all.columns = [\"State\", \"count\", \"Gender\"]\n",
    "females_all[\"count\"] = females_all[\"count\"].astype(int)\n",
    "\n",
    "males_admit = pd.merge(all_states_male, males_admit, on = \"State\", how = \"left\").fillna(0)\n",
    "males_admit = males_admit[[\"State\", \"count_y\", \"Gender_x\"]]\n",
    "males_admit.columns = [\"State\", \"count\", \"Gender\"]\n",
    "males_admit[\"count\"] = males_admit[\"count\"].astype(int)\n",
    "males_reject = pd.merge(all_states_male, males_reject, on = \"State\", how = \"left\").fillna(0)\n",
    "males_reject = males_reject[[\"State\", \"count_y\", \"Gender_x\"]]\n",
    "males_reject.columns = [\"State\", \"count\", \"Gender\"]\n",
    "males_reject[\"count\"] = males_reject[\"count\"].astype(int)\n",
    "\n",
    "females_admit = pd.merge(all_states_female, females_admit, on = \"State\", how = \"left\").fillna(0)\n",
    "females_admit = females_admit[[\"State\", \"count_y\", \"Gender_x\"]]\n",
    "females_admit.columns = [\"State\", \"count\", \"Gender\"]\n",
    "females_admit[\"count\"] = females_admit[\"count\"].astype(int)\n",
    "females_reject = pd.merge(all_states_female, females_reject, on = \"State\", how = \"left\").fillna(0)\n",
    "females_reject = females_reject[[\"State\", \"count_y\", \"Gender_x\"]]\n",
    "females_reject.columns = [\"State\", \"count\", \"Gender\"]\n",
    "females_reject[\"count\"] = females_reject[\"count\"].astype(int)\n"
   ]
  },
  {
   "cell_type": "code",
   "execution_count": 217,
   "metadata": {},
   "outputs": [
    {
     "data": {
      "application/vnd.plotly.v1+json": {
       "config": {
        "plotlyServerURL": "https://plot.ly"
       },
       "data": [
        {
         "marker": {
          "color": "#5478AE"
         },
         "name": "Male",
         "orientation": "h",
         "type": "bar",
         "x": [
          -2,
          -1,
          -4,
          -1,
          -1,
          -1,
          -18,
          -9,
          -8,
          0
         ],
         "y": [
          "Virginia",
          "Vermont",
          "Utah",
          "Oregon",
          "New York",
          "Mississippi",
          "Florida",
          "Colorado",
          "California",
          "Alabama"
         ]
        },
        {
         "marker": {
          "color": "#B16792"
         },
         "name": "Female",
         "orientation": "h",
         "type": "bar",
         "x": [
          2,
          0,
          2,
          0,
          0,
          0,
          17,
          9,
          4,
          1
         ],
         "y": [
          "Virginia",
          "Vermont",
          "Utah",
          "Oregon",
          "New York",
          "Mississippi",
          "Florida",
          "Colorado",
          "California",
          "Alabama"
         ]
        }
       ],
       "layout": {
        "annotations": [
         {
          "font": {
           "size": 10
          },
          "showarrow": false,
          "text": "0",
          "x": -0.3,
          "y": "Alabama"
         },
         {
          "font": {
           "size": 10
          },
          "showarrow": false,
          "text": "8",
          "x": -8.3,
          "y": "California"
         },
         {
          "font": {
           "size": 10
          },
          "showarrow": false,
          "text": "9",
          "x": -9.3,
          "y": "Colorado"
         },
         {
          "font": {
           "size": 10
          },
          "showarrow": false,
          "text": "18",
          "x": -18.3,
          "y": "Florida"
         },
         {
          "font": {
           "size": 10
          },
          "showarrow": false,
          "text": "1",
          "x": -1.3,
          "y": "Mississippi"
         },
         {
          "font": {
           "size": 10
          },
          "showarrow": false,
          "text": "1",
          "x": -1.3,
          "y": "New York"
         },
         {
          "font": {
           "size": 10
          },
          "showarrow": false,
          "text": "1",
          "x": -1.3,
          "y": "Oregon"
         },
         {
          "font": {
           "size": 10
          },
          "showarrow": false,
          "text": "4",
          "x": -4.3,
          "y": "Utah"
         },
         {
          "font": {
           "size": 10
          },
          "showarrow": false,
          "text": "1",
          "x": -1.3,
          "y": "Vermont"
         },
         {
          "font": {
           "size": 10
          },
          "showarrow": false,
          "text": "2",
          "x": -2.3,
          "y": "Virginia"
         },
         {
          "font": {
           "size": 10
          },
          "showarrow": false,
          "text": "1",
          "x": 1.3,
          "y": "Alabama"
         },
         {
          "font": {
           "size": 10
          },
          "showarrow": false,
          "text": "4",
          "x": 4.3,
          "y": "California"
         },
         {
          "font": {
           "size": 10
          },
          "showarrow": false,
          "text": "9",
          "x": 9.3,
          "y": "Colorado"
         },
         {
          "font": {
           "size": 10
          },
          "showarrow": false,
          "text": "17",
          "x": 17.3,
          "y": "Florida"
         },
         {
          "font": {
           "size": 10
          },
          "showarrow": false,
          "text": "0",
          "x": 0.3,
          "y": "Mississippi"
         },
         {
          "font": {
           "size": 10
          },
          "showarrow": false,
          "text": "0",
          "x": 0.3,
          "y": "New York"
         },
         {
          "font": {
           "size": 10
          },
          "showarrow": false,
          "text": "0",
          "x": 0.3,
          "y": "Oregon"
         },
         {
          "font": {
           "size": 10
          },
          "showarrow": false,
          "text": "2",
          "x": 2.3,
          "y": "Utah"
         },
         {
          "font": {
           "size": 10
          },
          "showarrow": false,
          "text": "0",
          "x": 0.3,
          "y": "Vermont"
         },
         {
          "font": {
           "size": 10
          },
          "showarrow": false,
          "text": "2",
          "x": 2.3,
          "y": "Virginia"
         }
        ],
        "bargap": 0,
        "bargroupgap": 0,
        "barmode": "relative",
        "template": {
         "data": {
          "bar": [
           {
            "error_x": {
             "color": "#2a3f5f"
            },
            "error_y": {
             "color": "#2a3f5f"
            },
            "marker": {
             "line": {
              "color": "#E5ECF6",
              "width": 0.5
             },
             "pattern": {
              "fillmode": "overlay",
              "size": 10,
              "solidity": 0.2
             }
            },
            "type": "bar"
           }
          ],
          "barpolar": [
           {
            "marker": {
             "line": {
              "color": "#E5ECF6",
              "width": 0.5
             },
             "pattern": {
              "fillmode": "overlay",
              "size": 10,
              "solidity": 0.2
             }
            },
            "type": "barpolar"
           }
          ],
          "carpet": [
           {
            "aaxis": {
             "endlinecolor": "#2a3f5f",
             "gridcolor": "white",
             "linecolor": "white",
             "minorgridcolor": "white",
             "startlinecolor": "#2a3f5f"
            },
            "baxis": {
             "endlinecolor": "#2a3f5f",
             "gridcolor": "white",
             "linecolor": "white",
             "minorgridcolor": "white",
             "startlinecolor": "#2a3f5f"
            },
            "type": "carpet"
           }
          ],
          "choropleth": [
           {
            "colorbar": {
             "outlinewidth": 0,
             "ticks": ""
            },
            "type": "choropleth"
           }
          ],
          "contour": [
           {
            "colorbar": {
             "outlinewidth": 0,
             "ticks": ""
            },
            "colorscale": [
             [
              0,
              "#0d0887"
             ],
             [
              0.1111111111111111,
              "#46039f"
             ],
             [
              0.2222222222222222,
              "#7201a8"
             ],
             [
              0.3333333333333333,
              "#9c179e"
             ],
             [
              0.4444444444444444,
              "#bd3786"
             ],
             [
              0.5555555555555556,
              "#d8576b"
             ],
             [
              0.6666666666666666,
              "#ed7953"
             ],
             [
              0.7777777777777778,
              "#fb9f3a"
             ],
             [
              0.8888888888888888,
              "#fdca26"
             ],
             [
              1,
              "#f0f921"
             ]
            ],
            "type": "contour"
           }
          ],
          "contourcarpet": [
           {
            "colorbar": {
             "outlinewidth": 0,
             "ticks": ""
            },
            "type": "contourcarpet"
           }
          ],
          "heatmap": [
           {
            "colorbar": {
             "outlinewidth": 0,
             "ticks": ""
            },
            "colorscale": [
             [
              0,
              "#0d0887"
             ],
             [
              0.1111111111111111,
              "#46039f"
             ],
             [
              0.2222222222222222,
              "#7201a8"
             ],
             [
              0.3333333333333333,
              "#9c179e"
             ],
             [
              0.4444444444444444,
              "#bd3786"
             ],
             [
              0.5555555555555556,
              "#d8576b"
             ],
             [
              0.6666666666666666,
              "#ed7953"
             ],
             [
              0.7777777777777778,
              "#fb9f3a"
             ],
             [
              0.8888888888888888,
              "#fdca26"
             ],
             [
              1,
              "#f0f921"
             ]
            ],
            "type": "heatmap"
           }
          ],
          "heatmapgl": [
           {
            "colorbar": {
             "outlinewidth": 0,
             "ticks": ""
            },
            "colorscale": [
             [
              0,
              "#0d0887"
             ],
             [
              0.1111111111111111,
              "#46039f"
             ],
             [
              0.2222222222222222,
              "#7201a8"
             ],
             [
              0.3333333333333333,
              "#9c179e"
             ],
             [
              0.4444444444444444,
              "#bd3786"
             ],
             [
              0.5555555555555556,
              "#d8576b"
             ],
             [
              0.6666666666666666,
              "#ed7953"
             ],
             [
              0.7777777777777778,
              "#fb9f3a"
             ],
             [
              0.8888888888888888,
              "#fdca26"
             ],
             [
              1,
              "#f0f921"
             ]
            ],
            "type": "heatmapgl"
           }
          ],
          "histogram": [
           {
            "marker": {
             "pattern": {
              "fillmode": "overlay",
              "size": 10,
              "solidity": 0.2
             }
            },
            "type": "histogram"
           }
          ],
          "histogram2d": [
           {
            "colorbar": {
             "outlinewidth": 0,
             "ticks": ""
            },
            "colorscale": [
             [
              0,
              "#0d0887"
             ],
             [
              0.1111111111111111,
              "#46039f"
             ],
             [
              0.2222222222222222,
              "#7201a8"
             ],
             [
              0.3333333333333333,
              "#9c179e"
             ],
             [
              0.4444444444444444,
              "#bd3786"
             ],
             [
              0.5555555555555556,
              "#d8576b"
             ],
             [
              0.6666666666666666,
              "#ed7953"
             ],
             [
              0.7777777777777778,
              "#fb9f3a"
             ],
             [
              0.8888888888888888,
              "#fdca26"
             ],
             [
              1,
              "#f0f921"
             ]
            ],
            "type": "histogram2d"
           }
          ],
          "histogram2dcontour": [
           {
            "colorbar": {
             "outlinewidth": 0,
             "ticks": ""
            },
            "colorscale": [
             [
              0,
              "#0d0887"
             ],
             [
              0.1111111111111111,
              "#46039f"
             ],
             [
              0.2222222222222222,
              "#7201a8"
             ],
             [
              0.3333333333333333,
              "#9c179e"
             ],
             [
              0.4444444444444444,
              "#bd3786"
             ],
             [
              0.5555555555555556,
              "#d8576b"
             ],
             [
              0.6666666666666666,
              "#ed7953"
             ],
             [
              0.7777777777777778,
              "#fb9f3a"
             ],
             [
              0.8888888888888888,
              "#fdca26"
             ],
             [
              1,
              "#f0f921"
             ]
            ],
            "type": "histogram2dcontour"
           }
          ],
          "mesh3d": [
           {
            "colorbar": {
             "outlinewidth": 0,
             "ticks": ""
            },
            "type": "mesh3d"
           }
          ],
          "parcoords": [
           {
            "line": {
             "colorbar": {
              "outlinewidth": 0,
              "ticks": ""
             }
            },
            "type": "parcoords"
           }
          ],
          "pie": [
           {
            "automargin": true,
            "type": "pie"
           }
          ],
          "scatter": [
           {
            "fillpattern": {
             "fillmode": "overlay",
             "size": 10,
             "solidity": 0.2
            },
            "type": "scatter"
           }
          ],
          "scatter3d": [
           {
            "line": {
             "colorbar": {
              "outlinewidth": 0,
              "ticks": ""
             }
            },
            "marker": {
             "colorbar": {
              "outlinewidth": 0,
              "ticks": ""
             }
            },
            "type": "scatter3d"
           }
          ],
          "scattercarpet": [
           {
            "marker": {
             "colorbar": {
              "outlinewidth": 0,
              "ticks": ""
             }
            },
            "type": "scattercarpet"
           }
          ],
          "scattergeo": [
           {
            "marker": {
             "colorbar": {
              "outlinewidth": 0,
              "ticks": ""
             }
            },
            "type": "scattergeo"
           }
          ],
          "scattergl": [
           {
            "marker": {
             "colorbar": {
              "outlinewidth": 0,
              "ticks": ""
             }
            },
            "type": "scattergl"
           }
          ],
          "scattermapbox": [
           {
            "marker": {
             "colorbar": {
              "outlinewidth": 0,
              "ticks": ""
             }
            },
            "type": "scattermapbox"
           }
          ],
          "scatterpolar": [
           {
            "marker": {
             "colorbar": {
              "outlinewidth": 0,
              "ticks": ""
             }
            },
            "type": "scatterpolar"
           }
          ],
          "scatterpolargl": [
           {
            "marker": {
             "colorbar": {
              "outlinewidth": 0,
              "ticks": ""
             }
            },
            "type": "scatterpolargl"
           }
          ],
          "scatterternary": [
           {
            "marker": {
             "colorbar": {
              "outlinewidth": 0,
              "ticks": ""
             }
            },
            "type": "scatterternary"
           }
          ],
          "surface": [
           {
            "colorbar": {
             "outlinewidth": 0,
             "ticks": ""
            },
            "colorscale": [
             [
              0,
              "#0d0887"
             ],
             [
              0.1111111111111111,
              "#46039f"
             ],
             [
              0.2222222222222222,
              "#7201a8"
             ],
             [
              0.3333333333333333,
              "#9c179e"
             ],
             [
              0.4444444444444444,
              "#bd3786"
             ],
             [
              0.5555555555555556,
              "#d8576b"
             ],
             [
              0.6666666666666666,
              "#ed7953"
             ],
             [
              0.7777777777777778,
              "#fb9f3a"
             ],
             [
              0.8888888888888888,
              "#fdca26"
             ],
             [
              1,
              "#f0f921"
             ]
            ],
            "type": "surface"
           }
          ],
          "table": [
           {
            "cells": {
             "fill": {
              "color": "#EBF0F8"
             },
             "line": {
              "color": "white"
             }
            },
            "header": {
             "fill": {
              "color": "#C8D4E3"
             },
             "line": {
              "color": "white"
             }
            },
            "type": "table"
           }
          ]
         },
         "layout": {
          "annotationdefaults": {
           "arrowcolor": "#2a3f5f",
           "arrowhead": 0,
           "arrowwidth": 1
          },
          "autotypenumbers": "strict",
          "coloraxis": {
           "colorbar": {
            "outlinewidth": 0,
            "ticks": ""
           }
          },
          "colorscale": {
           "diverging": [
            [
             0,
             "#8e0152"
            ],
            [
             0.1,
             "#c51b7d"
            ],
            [
             0.2,
             "#de77ae"
            ],
            [
             0.3,
             "#f1b6da"
            ],
            [
             0.4,
             "#fde0ef"
            ],
            [
             0.5,
             "#f7f7f7"
            ],
            [
             0.6,
             "#e6f5d0"
            ],
            [
             0.7,
             "#b8e186"
            ],
            [
             0.8,
             "#7fbc41"
            ],
            [
             0.9,
             "#4d9221"
            ],
            [
             1,
             "#276419"
            ]
           ],
           "sequential": [
            [
             0,
             "#0d0887"
            ],
            [
             0.1111111111111111,
             "#46039f"
            ],
            [
             0.2222222222222222,
             "#7201a8"
            ],
            [
             0.3333333333333333,
             "#9c179e"
            ],
            [
             0.4444444444444444,
             "#bd3786"
            ],
            [
             0.5555555555555556,
             "#d8576b"
            ],
            [
             0.6666666666666666,
             "#ed7953"
            ],
            [
             0.7777777777777778,
             "#fb9f3a"
            ],
            [
             0.8888888888888888,
             "#fdca26"
            ],
            [
             1,
             "#f0f921"
            ]
           ],
           "sequentialminus": [
            [
             0,
             "#0d0887"
            ],
            [
             0.1111111111111111,
             "#46039f"
            ],
            [
             0.2222222222222222,
             "#7201a8"
            ],
            [
             0.3333333333333333,
             "#9c179e"
            ],
            [
             0.4444444444444444,
             "#bd3786"
            ],
            [
             0.5555555555555556,
             "#d8576b"
            ],
            [
             0.6666666666666666,
             "#ed7953"
            ],
            [
             0.7777777777777778,
             "#fb9f3a"
            ],
            [
             0.8888888888888888,
             "#fdca26"
            ],
            [
             1,
             "#f0f921"
            ]
           ]
          },
          "colorway": [
           "#636efa",
           "#EF553B",
           "#00cc96",
           "#ab63fa",
           "#FFA15A",
           "#19d3f3",
           "#FF6692",
           "#B6E880",
           "#FF97FF",
           "#FECB52"
          ],
          "font": {
           "color": "#2a3f5f"
          },
          "geo": {
           "bgcolor": "white",
           "lakecolor": "white",
           "landcolor": "#E5ECF6",
           "showlakes": true,
           "showland": true,
           "subunitcolor": "white"
          },
          "hoverlabel": {
           "align": "left"
          },
          "hovermode": "closest",
          "mapbox": {
           "style": "light"
          },
          "paper_bgcolor": "white",
          "plot_bgcolor": "#E5ECF6",
          "polar": {
           "angularaxis": {
            "gridcolor": "white",
            "linecolor": "white",
            "ticks": ""
           },
           "bgcolor": "#E5ECF6",
           "radialaxis": {
            "gridcolor": "white",
            "linecolor": "white",
            "ticks": ""
           }
          },
          "scene": {
           "xaxis": {
            "backgroundcolor": "#E5ECF6",
            "gridcolor": "white",
            "gridwidth": 2,
            "linecolor": "white",
            "showbackground": true,
            "ticks": "",
            "zerolinecolor": "white"
           },
           "yaxis": {
            "backgroundcolor": "#E5ECF6",
            "gridcolor": "white",
            "gridwidth": 2,
            "linecolor": "white",
            "showbackground": true,
            "ticks": "",
            "zerolinecolor": "white"
           },
           "zaxis": {
            "backgroundcolor": "#E5ECF6",
            "gridcolor": "white",
            "gridwidth": 2,
            "linecolor": "white",
            "showbackground": true,
            "ticks": "",
            "zerolinecolor": "white"
           }
          },
          "shapedefaults": {
           "line": {
            "color": "#2a3f5f"
           }
          },
          "ternary": {
           "aaxis": {
            "gridcolor": "white",
            "linecolor": "white",
            "ticks": ""
           },
           "baxis": {
            "gridcolor": "white",
            "linecolor": "white",
            "ticks": ""
           },
           "bgcolor": "#E5ECF6",
           "caxis": {
            "gridcolor": "white",
            "linecolor": "white",
            "ticks": ""
           }
          },
          "title": {
           "x": 0.05
          },
          "xaxis": {
           "automargin": true,
           "gridcolor": "white",
           "linecolor": "white",
           "ticks": "",
           "title": {
            "standoff": 15
           },
           "zerolinecolor": "white",
           "zerolinewidth": 2
          },
          "yaxis": {
           "automargin": true,
           "gridcolor": "white",
           "linecolor": "white",
           "ticks": "",
           "title": {
            "standoff": 15
           },
           "zerolinecolor": "white",
           "zerolinewidth": 2
          }
         }
        },
        "title": {
         "font": {
          "size": 22
         },
         "text": "Gender Breakdown by State: ALL Summer Internship Applications"
        },
        "xaxis": {
         "ticktext": [
          "55",
          "50",
          "45",
          "40",
          "35",
          "30",
          "25",
          "20",
          "15",
          "10",
          "5",
          "0",
          "5",
          "10",
          "15",
          "20",
          "25",
          "30",
          "35",
          "40",
          "45",
          "50",
          "55"
         ],
         "tickvals": [
          -55,
          -50,
          -45,
          -40,
          -35,
          -30,
          -25,
          -20,
          -15,
          -10,
          -5,
          0,
          5,
          10,
          15,
          20,
          25,
          30,
          35,
          40,
          45,
          50,
          55
         ],
         "title": {
          "font": {
           "size": 14
          },
          "text": "Number of Applications"
         }
        }
       }
      }
     },
     "metadata": {},
     "output_type": "display_data"
    },
    {
     "data": {
      "application/vnd.plotly.v1+json": {
       "config": {
        "plotlyServerURL": "https://plot.ly"
       },
       "data": [
        {
         "marker": {
          "color": "#5478AE"
         },
         "name": "Male",
         "orientation": "h",
         "type": "bar",
         "x": [
          0,
          0,
          -1,
          0,
          0,
          0,
          -6,
          -4,
          -5,
          0
         ],
         "y": [
          "Virginia",
          "Vermont",
          "Utah",
          "Oregon",
          "New York",
          "Mississippi",
          "Florida",
          "Colorado",
          "California",
          "Alabama"
         ]
        },
        {
         "marker": {
          "color": "#B16792"
         },
         "name": "Female",
         "orientation": "h",
         "type": "bar",
         "x": [
          0,
          0,
          0,
          0,
          0,
          0,
          5,
          4,
          4,
          0
         ],
         "y": [
          "Virginia",
          "Vermont",
          "Utah",
          "Oregon",
          "New York",
          "Mississippi",
          "Florida",
          "Colorado",
          "California",
          "Alabama"
         ]
        }
       ],
       "layout": {
        "annotations": [
         {
          "font": {
           "size": 10
          },
          "showarrow": false,
          "text": "0",
          "x": -0.2,
          "y": "Alabama"
         },
         {
          "font": {
           "size": 10
          },
          "showarrow": false,
          "text": "5",
          "x": -5.2,
          "y": "California"
         },
         {
          "font": {
           "size": 10
          },
          "showarrow": false,
          "text": "4",
          "x": -4.2,
          "y": "Colorado"
         },
         {
          "font": {
           "size": 10
          },
          "showarrow": false,
          "text": "6",
          "x": -6.2,
          "y": "Florida"
         },
         {
          "font": {
           "size": 10
          },
          "showarrow": false,
          "text": "0",
          "x": -0.2,
          "y": "Mississippi"
         },
         {
          "font": {
           "size": 10
          },
          "showarrow": false,
          "text": "0",
          "x": -0.2,
          "y": "New York"
         },
         {
          "font": {
           "size": 10
          },
          "showarrow": false,
          "text": "0",
          "x": -0.2,
          "y": "Oregon"
         },
         {
          "font": {
           "size": 10
          },
          "showarrow": false,
          "text": "1",
          "x": -1.2,
          "y": "Utah"
         },
         {
          "font": {
           "size": 10
          },
          "showarrow": false,
          "text": "0",
          "x": -0.2,
          "y": "Vermont"
         },
         {
          "font": {
           "size": 10
          },
          "showarrow": false,
          "text": "0",
          "x": -0.2,
          "y": "Virginia"
         },
         {
          "font": {
           "size": 10
          },
          "showarrow": false,
          "text": "0",
          "x": 0.2,
          "y": "Alabama"
         },
         {
          "font": {
           "size": 10
          },
          "showarrow": false,
          "text": "4",
          "x": 4.2,
          "y": "California"
         },
         {
          "font": {
           "size": 10
          },
          "showarrow": false,
          "text": "4",
          "x": 4.2,
          "y": "Colorado"
         },
         {
          "font": {
           "size": 10
          },
          "showarrow": false,
          "text": "5",
          "x": 5.2,
          "y": "Florida"
         },
         {
          "font": {
           "size": 10
          },
          "showarrow": false,
          "text": "0",
          "x": 0.2,
          "y": "Mississippi"
         },
         {
          "font": {
           "size": 10
          },
          "showarrow": false,
          "text": "0",
          "x": 0.2,
          "y": "New York"
         },
         {
          "font": {
           "size": 10
          },
          "showarrow": false,
          "text": "0",
          "x": 0.2,
          "y": "Oregon"
         },
         {
          "font": {
           "size": 10
          },
          "showarrow": false,
          "text": "0",
          "x": 0.2,
          "y": "Utah"
         },
         {
          "font": {
           "size": 10
          },
          "showarrow": false,
          "text": "0",
          "x": 0.2,
          "y": "Vermont"
         },
         {
          "font": {
           "size": 10
          },
          "showarrow": false,
          "text": "0",
          "x": 0.2,
          "y": "Virginia"
         }
        ],
        "bargap": 0,
        "bargroupgap": 0,
        "barmode": "relative",
        "template": {
         "data": {
          "bar": [
           {
            "error_x": {
             "color": "#2a3f5f"
            },
            "error_y": {
             "color": "#2a3f5f"
            },
            "marker": {
             "line": {
              "color": "#E5ECF6",
              "width": 0.5
             },
             "pattern": {
              "fillmode": "overlay",
              "size": 10,
              "solidity": 0.2
             }
            },
            "type": "bar"
           }
          ],
          "barpolar": [
           {
            "marker": {
             "line": {
              "color": "#E5ECF6",
              "width": 0.5
             },
             "pattern": {
              "fillmode": "overlay",
              "size": 10,
              "solidity": 0.2
             }
            },
            "type": "barpolar"
           }
          ],
          "carpet": [
           {
            "aaxis": {
             "endlinecolor": "#2a3f5f",
             "gridcolor": "white",
             "linecolor": "white",
             "minorgridcolor": "white",
             "startlinecolor": "#2a3f5f"
            },
            "baxis": {
             "endlinecolor": "#2a3f5f",
             "gridcolor": "white",
             "linecolor": "white",
             "minorgridcolor": "white",
             "startlinecolor": "#2a3f5f"
            },
            "type": "carpet"
           }
          ],
          "choropleth": [
           {
            "colorbar": {
             "outlinewidth": 0,
             "ticks": ""
            },
            "type": "choropleth"
           }
          ],
          "contour": [
           {
            "colorbar": {
             "outlinewidth": 0,
             "ticks": ""
            },
            "colorscale": [
             [
              0,
              "#0d0887"
             ],
             [
              0.1111111111111111,
              "#46039f"
             ],
             [
              0.2222222222222222,
              "#7201a8"
             ],
             [
              0.3333333333333333,
              "#9c179e"
             ],
             [
              0.4444444444444444,
              "#bd3786"
             ],
             [
              0.5555555555555556,
              "#d8576b"
             ],
             [
              0.6666666666666666,
              "#ed7953"
             ],
             [
              0.7777777777777778,
              "#fb9f3a"
             ],
             [
              0.8888888888888888,
              "#fdca26"
             ],
             [
              1,
              "#f0f921"
             ]
            ],
            "type": "contour"
           }
          ],
          "contourcarpet": [
           {
            "colorbar": {
             "outlinewidth": 0,
             "ticks": ""
            },
            "type": "contourcarpet"
           }
          ],
          "heatmap": [
           {
            "colorbar": {
             "outlinewidth": 0,
             "ticks": ""
            },
            "colorscale": [
             [
              0,
              "#0d0887"
             ],
             [
              0.1111111111111111,
              "#46039f"
             ],
             [
              0.2222222222222222,
              "#7201a8"
             ],
             [
              0.3333333333333333,
              "#9c179e"
             ],
             [
              0.4444444444444444,
              "#bd3786"
             ],
             [
              0.5555555555555556,
              "#d8576b"
             ],
             [
              0.6666666666666666,
              "#ed7953"
             ],
             [
              0.7777777777777778,
              "#fb9f3a"
             ],
             [
              0.8888888888888888,
              "#fdca26"
             ],
             [
              1,
              "#f0f921"
             ]
            ],
            "type": "heatmap"
           }
          ],
          "heatmapgl": [
           {
            "colorbar": {
             "outlinewidth": 0,
             "ticks": ""
            },
            "colorscale": [
             [
              0,
              "#0d0887"
             ],
             [
              0.1111111111111111,
              "#46039f"
             ],
             [
              0.2222222222222222,
              "#7201a8"
             ],
             [
              0.3333333333333333,
              "#9c179e"
             ],
             [
              0.4444444444444444,
              "#bd3786"
             ],
             [
              0.5555555555555556,
              "#d8576b"
             ],
             [
              0.6666666666666666,
              "#ed7953"
             ],
             [
              0.7777777777777778,
              "#fb9f3a"
             ],
             [
              0.8888888888888888,
              "#fdca26"
             ],
             [
              1,
              "#f0f921"
             ]
            ],
            "type": "heatmapgl"
           }
          ],
          "histogram": [
           {
            "marker": {
             "pattern": {
              "fillmode": "overlay",
              "size": 10,
              "solidity": 0.2
             }
            },
            "type": "histogram"
           }
          ],
          "histogram2d": [
           {
            "colorbar": {
             "outlinewidth": 0,
             "ticks": ""
            },
            "colorscale": [
             [
              0,
              "#0d0887"
             ],
             [
              0.1111111111111111,
              "#46039f"
             ],
             [
              0.2222222222222222,
              "#7201a8"
             ],
             [
              0.3333333333333333,
              "#9c179e"
             ],
             [
              0.4444444444444444,
              "#bd3786"
             ],
             [
              0.5555555555555556,
              "#d8576b"
             ],
             [
              0.6666666666666666,
              "#ed7953"
             ],
             [
              0.7777777777777778,
              "#fb9f3a"
             ],
             [
              0.8888888888888888,
              "#fdca26"
             ],
             [
              1,
              "#f0f921"
             ]
            ],
            "type": "histogram2d"
           }
          ],
          "histogram2dcontour": [
           {
            "colorbar": {
             "outlinewidth": 0,
             "ticks": ""
            },
            "colorscale": [
             [
              0,
              "#0d0887"
             ],
             [
              0.1111111111111111,
              "#46039f"
             ],
             [
              0.2222222222222222,
              "#7201a8"
             ],
             [
              0.3333333333333333,
              "#9c179e"
             ],
             [
              0.4444444444444444,
              "#bd3786"
             ],
             [
              0.5555555555555556,
              "#d8576b"
             ],
             [
              0.6666666666666666,
              "#ed7953"
             ],
             [
              0.7777777777777778,
              "#fb9f3a"
             ],
             [
              0.8888888888888888,
              "#fdca26"
             ],
             [
              1,
              "#f0f921"
             ]
            ],
            "type": "histogram2dcontour"
           }
          ],
          "mesh3d": [
           {
            "colorbar": {
             "outlinewidth": 0,
             "ticks": ""
            },
            "type": "mesh3d"
           }
          ],
          "parcoords": [
           {
            "line": {
             "colorbar": {
              "outlinewidth": 0,
              "ticks": ""
             }
            },
            "type": "parcoords"
           }
          ],
          "pie": [
           {
            "automargin": true,
            "type": "pie"
           }
          ],
          "scatter": [
           {
            "fillpattern": {
             "fillmode": "overlay",
             "size": 10,
             "solidity": 0.2
            },
            "type": "scatter"
           }
          ],
          "scatter3d": [
           {
            "line": {
             "colorbar": {
              "outlinewidth": 0,
              "ticks": ""
             }
            },
            "marker": {
             "colorbar": {
              "outlinewidth": 0,
              "ticks": ""
             }
            },
            "type": "scatter3d"
           }
          ],
          "scattercarpet": [
           {
            "marker": {
             "colorbar": {
              "outlinewidth": 0,
              "ticks": ""
             }
            },
            "type": "scattercarpet"
           }
          ],
          "scattergeo": [
           {
            "marker": {
             "colorbar": {
              "outlinewidth": 0,
              "ticks": ""
             }
            },
            "type": "scattergeo"
           }
          ],
          "scattergl": [
           {
            "marker": {
             "colorbar": {
              "outlinewidth": 0,
              "ticks": ""
             }
            },
            "type": "scattergl"
           }
          ],
          "scattermapbox": [
           {
            "marker": {
             "colorbar": {
              "outlinewidth": 0,
              "ticks": ""
             }
            },
            "type": "scattermapbox"
           }
          ],
          "scatterpolar": [
           {
            "marker": {
             "colorbar": {
              "outlinewidth": 0,
              "ticks": ""
             }
            },
            "type": "scatterpolar"
           }
          ],
          "scatterpolargl": [
           {
            "marker": {
             "colorbar": {
              "outlinewidth": 0,
              "ticks": ""
             }
            },
            "type": "scatterpolargl"
           }
          ],
          "scatterternary": [
           {
            "marker": {
             "colorbar": {
              "outlinewidth": 0,
              "ticks": ""
             }
            },
            "type": "scatterternary"
           }
          ],
          "surface": [
           {
            "colorbar": {
             "outlinewidth": 0,
             "ticks": ""
            },
            "colorscale": [
             [
              0,
              "#0d0887"
             ],
             [
              0.1111111111111111,
              "#46039f"
             ],
             [
              0.2222222222222222,
              "#7201a8"
             ],
             [
              0.3333333333333333,
              "#9c179e"
             ],
             [
              0.4444444444444444,
              "#bd3786"
             ],
             [
              0.5555555555555556,
              "#d8576b"
             ],
             [
              0.6666666666666666,
              "#ed7953"
             ],
             [
              0.7777777777777778,
              "#fb9f3a"
             ],
             [
              0.8888888888888888,
              "#fdca26"
             ],
             [
              1,
              "#f0f921"
             ]
            ],
            "type": "surface"
           }
          ],
          "table": [
           {
            "cells": {
             "fill": {
              "color": "#EBF0F8"
             },
             "line": {
              "color": "white"
             }
            },
            "header": {
             "fill": {
              "color": "#C8D4E3"
             },
             "line": {
              "color": "white"
             }
            },
            "type": "table"
           }
          ]
         },
         "layout": {
          "annotationdefaults": {
           "arrowcolor": "#2a3f5f",
           "arrowhead": 0,
           "arrowwidth": 1
          },
          "autotypenumbers": "strict",
          "coloraxis": {
           "colorbar": {
            "outlinewidth": 0,
            "ticks": ""
           }
          },
          "colorscale": {
           "diverging": [
            [
             0,
             "#8e0152"
            ],
            [
             0.1,
             "#c51b7d"
            ],
            [
             0.2,
             "#de77ae"
            ],
            [
             0.3,
             "#f1b6da"
            ],
            [
             0.4,
             "#fde0ef"
            ],
            [
             0.5,
             "#f7f7f7"
            ],
            [
             0.6,
             "#e6f5d0"
            ],
            [
             0.7,
             "#b8e186"
            ],
            [
             0.8,
             "#7fbc41"
            ],
            [
             0.9,
             "#4d9221"
            ],
            [
             1,
             "#276419"
            ]
           ],
           "sequential": [
            [
             0,
             "#0d0887"
            ],
            [
             0.1111111111111111,
             "#46039f"
            ],
            [
             0.2222222222222222,
             "#7201a8"
            ],
            [
             0.3333333333333333,
             "#9c179e"
            ],
            [
             0.4444444444444444,
             "#bd3786"
            ],
            [
             0.5555555555555556,
             "#d8576b"
            ],
            [
             0.6666666666666666,
             "#ed7953"
            ],
            [
             0.7777777777777778,
             "#fb9f3a"
            ],
            [
             0.8888888888888888,
             "#fdca26"
            ],
            [
             1,
             "#f0f921"
            ]
           ],
           "sequentialminus": [
            [
             0,
             "#0d0887"
            ],
            [
             0.1111111111111111,
             "#46039f"
            ],
            [
             0.2222222222222222,
             "#7201a8"
            ],
            [
             0.3333333333333333,
             "#9c179e"
            ],
            [
             0.4444444444444444,
             "#bd3786"
            ],
            [
             0.5555555555555556,
             "#d8576b"
            ],
            [
             0.6666666666666666,
             "#ed7953"
            ],
            [
             0.7777777777777778,
             "#fb9f3a"
            ],
            [
             0.8888888888888888,
             "#fdca26"
            ],
            [
             1,
             "#f0f921"
            ]
           ]
          },
          "colorway": [
           "#636efa",
           "#EF553B",
           "#00cc96",
           "#ab63fa",
           "#FFA15A",
           "#19d3f3",
           "#FF6692",
           "#B6E880",
           "#FF97FF",
           "#FECB52"
          ],
          "font": {
           "color": "#2a3f5f"
          },
          "geo": {
           "bgcolor": "white",
           "lakecolor": "white",
           "landcolor": "#E5ECF6",
           "showlakes": true,
           "showland": true,
           "subunitcolor": "white"
          },
          "hoverlabel": {
           "align": "left"
          },
          "hovermode": "closest",
          "mapbox": {
           "style": "light"
          },
          "paper_bgcolor": "white",
          "plot_bgcolor": "#E5ECF6",
          "polar": {
           "angularaxis": {
            "gridcolor": "white",
            "linecolor": "white",
            "ticks": ""
           },
           "bgcolor": "#E5ECF6",
           "radialaxis": {
            "gridcolor": "white",
            "linecolor": "white",
            "ticks": ""
           }
          },
          "scene": {
           "xaxis": {
            "backgroundcolor": "#E5ECF6",
            "gridcolor": "white",
            "gridwidth": 2,
            "linecolor": "white",
            "showbackground": true,
            "ticks": "",
            "zerolinecolor": "white"
           },
           "yaxis": {
            "backgroundcolor": "#E5ECF6",
            "gridcolor": "white",
            "gridwidth": 2,
            "linecolor": "white",
            "showbackground": true,
            "ticks": "",
            "zerolinecolor": "white"
           },
           "zaxis": {
            "backgroundcolor": "#E5ECF6",
            "gridcolor": "white",
            "gridwidth": 2,
            "linecolor": "white",
            "showbackground": true,
            "ticks": "",
            "zerolinecolor": "white"
           }
          },
          "shapedefaults": {
           "line": {
            "color": "#2a3f5f"
           }
          },
          "ternary": {
           "aaxis": {
            "gridcolor": "white",
            "linecolor": "white",
            "ticks": ""
           },
           "baxis": {
            "gridcolor": "white",
            "linecolor": "white",
            "ticks": ""
           },
           "bgcolor": "#E5ECF6",
           "caxis": {
            "gridcolor": "white",
            "linecolor": "white",
            "ticks": ""
           }
          },
          "title": {
           "x": 0.05
          },
          "xaxis": {
           "automargin": true,
           "gridcolor": "white",
           "linecolor": "white",
           "ticks": "",
           "title": {
            "standoff": 15
           },
           "zerolinecolor": "white",
           "zerolinewidth": 2
          },
          "yaxis": {
           "automargin": true,
           "gridcolor": "white",
           "linecolor": "white",
           "ticks": "",
           "title": {
            "standoff": 15
           },
           "zerolinecolor": "white",
           "zerolinewidth": 2
          }
         }
        },
        "title": {
         "font": {
          "size": 22
         },
         "text": "Gender Breakdown by State: ADMITTED Summer Internship Applications"
        },
        "xaxis": {
         "range": [
          -15,
          15
         ],
         "ticktext": [
          "20",
          "15",
          "10",
          "5",
          "0",
          "5",
          "10",
          "15",
          "20"
         ],
         "tickvals": [
          -20,
          -15,
          -10,
          -5,
          0,
          5,
          10,
          15,
          20
         ],
         "title": {
          "font": {
           "size": 14
          },
          "text": "Number of Admitted Interns"
         }
        }
       }
      }
     },
     "metadata": {},
     "output_type": "display_data"
    },
    {
     "data": {
      "application/vnd.plotly.v1+json": {
       "config": {
        "plotlyServerURL": "https://plot.ly"
       },
       "data": [
        {
         "marker": {
          "color": "#5478AE"
         },
         "name": "Male",
         "orientation": "h",
         "type": "bar",
         "x": [
          -2,
          -1,
          -3,
          -1,
          -1,
          -1,
          -12,
          -5,
          -3,
          0
         ],
         "y": [
          "Virginia",
          "Vermont",
          "Utah",
          "Oregon",
          "New York",
          "Mississippi",
          "Florida",
          "Colorado",
          "California",
          "Alabama"
         ]
        },
        {
         "marker": {
          "color": "#B16792"
         },
         "name": "Female",
         "orientation": "h",
         "type": "bar",
         "x": [
          2,
          0,
          2,
          0,
          0,
          0,
          12,
          5,
          0,
          1
         ],
         "y": [
          "Virginia",
          "Vermont",
          "Utah",
          "Oregon",
          "New York",
          "Mississippi",
          "Florida",
          "Colorado",
          "California",
          "Alabama"
         ]
        }
       ],
       "layout": {
        "annotations": [
         {
          "font": {
           "size": 10
          },
          "showarrow": false,
          "text": "0",
          "x": -0.3,
          "y": "Alabama"
         },
         {
          "font": {
           "size": 10
          },
          "showarrow": false,
          "text": "3",
          "x": -3.3,
          "y": "California"
         },
         {
          "font": {
           "size": 10
          },
          "showarrow": false,
          "text": "5",
          "x": -5.3,
          "y": "Colorado"
         },
         {
          "font": {
           "size": 10
          },
          "showarrow": false,
          "text": "12",
          "x": -12.3,
          "y": "Florida"
         },
         {
          "font": {
           "size": 10
          },
          "showarrow": false,
          "text": "1",
          "x": -1.3,
          "y": "Mississippi"
         },
         {
          "font": {
           "size": 10
          },
          "showarrow": false,
          "text": "1",
          "x": -1.3,
          "y": "New York"
         },
         {
          "font": {
           "size": 10
          },
          "showarrow": false,
          "text": "1",
          "x": -1.3,
          "y": "Oregon"
         },
         {
          "font": {
           "size": 10
          },
          "showarrow": false,
          "text": "3",
          "x": -3.3,
          "y": "Utah"
         },
         {
          "font": {
           "size": 10
          },
          "showarrow": false,
          "text": "1",
          "x": -1.3,
          "y": "Vermont"
         },
         {
          "font": {
           "size": 10
          },
          "showarrow": false,
          "text": "2",
          "x": -2.3,
          "y": "Virginia"
         },
         {
          "font": {
           "size": 10
          },
          "showarrow": false,
          "text": "1",
          "x": 1.3,
          "y": "Alabama"
         },
         {
          "font": {
           "size": 10
          },
          "showarrow": false,
          "text": "0",
          "x": 0.3,
          "y": "California"
         },
         {
          "font": {
           "size": 10
          },
          "showarrow": false,
          "text": "5",
          "x": 5.3,
          "y": "Colorado"
         },
         {
          "font": {
           "size": 10
          },
          "showarrow": false,
          "text": "12",
          "x": 12.3,
          "y": "Florida"
         },
         {
          "font": {
           "size": 10
          },
          "showarrow": false,
          "text": "0",
          "x": 0.3,
          "y": "Mississippi"
         },
         {
          "font": {
           "size": 10
          },
          "showarrow": false,
          "text": "0",
          "x": 0.3,
          "y": "New York"
         },
         {
          "font": {
           "size": 10
          },
          "showarrow": false,
          "text": "0",
          "x": 0.3,
          "y": "Oregon"
         },
         {
          "font": {
           "size": 10
          },
          "showarrow": false,
          "text": "2",
          "x": 2.3,
          "y": "Utah"
         },
         {
          "font": {
           "size": 10
          },
          "showarrow": false,
          "text": "0",
          "x": 0.3,
          "y": "Vermont"
         },
         {
          "font": {
           "size": 10
          },
          "showarrow": false,
          "text": "2",
          "x": 2.3,
          "y": "Virginia"
         }
        ],
        "bargap": 0,
        "bargroupgap": 0,
        "barmode": "relative",
        "template": {
         "data": {
          "bar": [
           {
            "error_x": {
             "color": "#2a3f5f"
            },
            "error_y": {
             "color": "#2a3f5f"
            },
            "marker": {
             "line": {
              "color": "#E5ECF6",
              "width": 0.5
             },
             "pattern": {
              "fillmode": "overlay",
              "size": 10,
              "solidity": 0.2
             }
            },
            "type": "bar"
           }
          ],
          "barpolar": [
           {
            "marker": {
             "line": {
              "color": "#E5ECF6",
              "width": 0.5
             },
             "pattern": {
              "fillmode": "overlay",
              "size": 10,
              "solidity": 0.2
             }
            },
            "type": "barpolar"
           }
          ],
          "carpet": [
           {
            "aaxis": {
             "endlinecolor": "#2a3f5f",
             "gridcolor": "white",
             "linecolor": "white",
             "minorgridcolor": "white",
             "startlinecolor": "#2a3f5f"
            },
            "baxis": {
             "endlinecolor": "#2a3f5f",
             "gridcolor": "white",
             "linecolor": "white",
             "minorgridcolor": "white",
             "startlinecolor": "#2a3f5f"
            },
            "type": "carpet"
           }
          ],
          "choropleth": [
           {
            "colorbar": {
             "outlinewidth": 0,
             "ticks": ""
            },
            "type": "choropleth"
           }
          ],
          "contour": [
           {
            "colorbar": {
             "outlinewidth": 0,
             "ticks": ""
            },
            "colorscale": [
             [
              0,
              "#0d0887"
             ],
             [
              0.1111111111111111,
              "#46039f"
             ],
             [
              0.2222222222222222,
              "#7201a8"
             ],
             [
              0.3333333333333333,
              "#9c179e"
             ],
             [
              0.4444444444444444,
              "#bd3786"
             ],
             [
              0.5555555555555556,
              "#d8576b"
             ],
             [
              0.6666666666666666,
              "#ed7953"
             ],
             [
              0.7777777777777778,
              "#fb9f3a"
             ],
             [
              0.8888888888888888,
              "#fdca26"
             ],
             [
              1,
              "#f0f921"
             ]
            ],
            "type": "contour"
           }
          ],
          "contourcarpet": [
           {
            "colorbar": {
             "outlinewidth": 0,
             "ticks": ""
            },
            "type": "contourcarpet"
           }
          ],
          "heatmap": [
           {
            "colorbar": {
             "outlinewidth": 0,
             "ticks": ""
            },
            "colorscale": [
             [
              0,
              "#0d0887"
             ],
             [
              0.1111111111111111,
              "#46039f"
             ],
             [
              0.2222222222222222,
              "#7201a8"
             ],
             [
              0.3333333333333333,
              "#9c179e"
             ],
             [
              0.4444444444444444,
              "#bd3786"
             ],
             [
              0.5555555555555556,
              "#d8576b"
             ],
             [
              0.6666666666666666,
              "#ed7953"
             ],
             [
              0.7777777777777778,
              "#fb9f3a"
             ],
             [
              0.8888888888888888,
              "#fdca26"
             ],
             [
              1,
              "#f0f921"
             ]
            ],
            "type": "heatmap"
           }
          ],
          "heatmapgl": [
           {
            "colorbar": {
             "outlinewidth": 0,
             "ticks": ""
            },
            "colorscale": [
             [
              0,
              "#0d0887"
             ],
             [
              0.1111111111111111,
              "#46039f"
             ],
             [
              0.2222222222222222,
              "#7201a8"
             ],
             [
              0.3333333333333333,
              "#9c179e"
             ],
             [
              0.4444444444444444,
              "#bd3786"
             ],
             [
              0.5555555555555556,
              "#d8576b"
             ],
             [
              0.6666666666666666,
              "#ed7953"
             ],
             [
              0.7777777777777778,
              "#fb9f3a"
             ],
             [
              0.8888888888888888,
              "#fdca26"
             ],
             [
              1,
              "#f0f921"
             ]
            ],
            "type": "heatmapgl"
           }
          ],
          "histogram": [
           {
            "marker": {
             "pattern": {
              "fillmode": "overlay",
              "size": 10,
              "solidity": 0.2
             }
            },
            "type": "histogram"
           }
          ],
          "histogram2d": [
           {
            "colorbar": {
             "outlinewidth": 0,
             "ticks": ""
            },
            "colorscale": [
             [
              0,
              "#0d0887"
             ],
             [
              0.1111111111111111,
              "#46039f"
             ],
             [
              0.2222222222222222,
              "#7201a8"
             ],
             [
              0.3333333333333333,
              "#9c179e"
             ],
             [
              0.4444444444444444,
              "#bd3786"
             ],
             [
              0.5555555555555556,
              "#d8576b"
             ],
             [
              0.6666666666666666,
              "#ed7953"
             ],
             [
              0.7777777777777778,
              "#fb9f3a"
             ],
             [
              0.8888888888888888,
              "#fdca26"
             ],
             [
              1,
              "#f0f921"
             ]
            ],
            "type": "histogram2d"
           }
          ],
          "histogram2dcontour": [
           {
            "colorbar": {
             "outlinewidth": 0,
             "ticks": ""
            },
            "colorscale": [
             [
              0,
              "#0d0887"
             ],
             [
              0.1111111111111111,
              "#46039f"
             ],
             [
              0.2222222222222222,
              "#7201a8"
             ],
             [
              0.3333333333333333,
              "#9c179e"
             ],
             [
              0.4444444444444444,
              "#bd3786"
             ],
             [
              0.5555555555555556,
              "#d8576b"
             ],
             [
              0.6666666666666666,
              "#ed7953"
             ],
             [
              0.7777777777777778,
              "#fb9f3a"
             ],
             [
              0.8888888888888888,
              "#fdca26"
             ],
             [
              1,
              "#f0f921"
             ]
            ],
            "type": "histogram2dcontour"
           }
          ],
          "mesh3d": [
           {
            "colorbar": {
             "outlinewidth": 0,
             "ticks": ""
            },
            "type": "mesh3d"
           }
          ],
          "parcoords": [
           {
            "line": {
             "colorbar": {
              "outlinewidth": 0,
              "ticks": ""
             }
            },
            "type": "parcoords"
           }
          ],
          "pie": [
           {
            "automargin": true,
            "type": "pie"
           }
          ],
          "scatter": [
           {
            "fillpattern": {
             "fillmode": "overlay",
             "size": 10,
             "solidity": 0.2
            },
            "type": "scatter"
           }
          ],
          "scatter3d": [
           {
            "line": {
             "colorbar": {
              "outlinewidth": 0,
              "ticks": ""
             }
            },
            "marker": {
             "colorbar": {
              "outlinewidth": 0,
              "ticks": ""
             }
            },
            "type": "scatter3d"
           }
          ],
          "scattercarpet": [
           {
            "marker": {
             "colorbar": {
              "outlinewidth": 0,
              "ticks": ""
             }
            },
            "type": "scattercarpet"
           }
          ],
          "scattergeo": [
           {
            "marker": {
             "colorbar": {
              "outlinewidth": 0,
              "ticks": ""
             }
            },
            "type": "scattergeo"
           }
          ],
          "scattergl": [
           {
            "marker": {
             "colorbar": {
              "outlinewidth": 0,
              "ticks": ""
             }
            },
            "type": "scattergl"
           }
          ],
          "scattermapbox": [
           {
            "marker": {
             "colorbar": {
              "outlinewidth": 0,
              "ticks": ""
             }
            },
            "type": "scattermapbox"
           }
          ],
          "scatterpolar": [
           {
            "marker": {
             "colorbar": {
              "outlinewidth": 0,
              "ticks": ""
             }
            },
            "type": "scatterpolar"
           }
          ],
          "scatterpolargl": [
           {
            "marker": {
             "colorbar": {
              "outlinewidth": 0,
              "ticks": ""
             }
            },
            "type": "scatterpolargl"
           }
          ],
          "scatterternary": [
           {
            "marker": {
             "colorbar": {
              "outlinewidth": 0,
              "ticks": ""
             }
            },
            "type": "scatterternary"
           }
          ],
          "surface": [
           {
            "colorbar": {
             "outlinewidth": 0,
             "ticks": ""
            },
            "colorscale": [
             [
              0,
              "#0d0887"
             ],
             [
              0.1111111111111111,
              "#46039f"
             ],
             [
              0.2222222222222222,
              "#7201a8"
             ],
             [
              0.3333333333333333,
              "#9c179e"
             ],
             [
              0.4444444444444444,
              "#bd3786"
             ],
             [
              0.5555555555555556,
              "#d8576b"
             ],
             [
              0.6666666666666666,
              "#ed7953"
             ],
             [
              0.7777777777777778,
              "#fb9f3a"
             ],
             [
              0.8888888888888888,
              "#fdca26"
             ],
             [
              1,
              "#f0f921"
             ]
            ],
            "type": "surface"
           }
          ],
          "table": [
           {
            "cells": {
             "fill": {
              "color": "#EBF0F8"
             },
             "line": {
              "color": "white"
             }
            },
            "header": {
             "fill": {
              "color": "#C8D4E3"
             },
             "line": {
              "color": "white"
             }
            },
            "type": "table"
           }
          ]
         },
         "layout": {
          "annotationdefaults": {
           "arrowcolor": "#2a3f5f",
           "arrowhead": 0,
           "arrowwidth": 1
          },
          "autotypenumbers": "strict",
          "coloraxis": {
           "colorbar": {
            "outlinewidth": 0,
            "ticks": ""
           }
          },
          "colorscale": {
           "diverging": [
            [
             0,
             "#8e0152"
            ],
            [
             0.1,
             "#c51b7d"
            ],
            [
             0.2,
             "#de77ae"
            ],
            [
             0.3,
             "#f1b6da"
            ],
            [
             0.4,
             "#fde0ef"
            ],
            [
             0.5,
             "#f7f7f7"
            ],
            [
             0.6,
             "#e6f5d0"
            ],
            [
             0.7,
             "#b8e186"
            ],
            [
             0.8,
             "#7fbc41"
            ],
            [
             0.9,
             "#4d9221"
            ],
            [
             1,
             "#276419"
            ]
           ],
           "sequential": [
            [
             0,
             "#0d0887"
            ],
            [
             0.1111111111111111,
             "#46039f"
            ],
            [
             0.2222222222222222,
             "#7201a8"
            ],
            [
             0.3333333333333333,
             "#9c179e"
            ],
            [
             0.4444444444444444,
             "#bd3786"
            ],
            [
             0.5555555555555556,
             "#d8576b"
            ],
            [
             0.6666666666666666,
             "#ed7953"
            ],
            [
             0.7777777777777778,
             "#fb9f3a"
            ],
            [
             0.8888888888888888,
             "#fdca26"
            ],
            [
             1,
             "#f0f921"
            ]
           ],
           "sequentialminus": [
            [
             0,
             "#0d0887"
            ],
            [
             0.1111111111111111,
             "#46039f"
            ],
            [
             0.2222222222222222,
             "#7201a8"
            ],
            [
             0.3333333333333333,
             "#9c179e"
            ],
            [
             0.4444444444444444,
             "#bd3786"
            ],
            [
             0.5555555555555556,
             "#d8576b"
            ],
            [
             0.6666666666666666,
             "#ed7953"
            ],
            [
             0.7777777777777778,
             "#fb9f3a"
            ],
            [
             0.8888888888888888,
             "#fdca26"
            ],
            [
             1,
             "#f0f921"
            ]
           ]
          },
          "colorway": [
           "#636efa",
           "#EF553B",
           "#00cc96",
           "#ab63fa",
           "#FFA15A",
           "#19d3f3",
           "#FF6692",
           "#B6E880",
           "#FF97FF",
           "#FECB52"
          ],
          "font": {
           "color": "#2a3f5f"
          },
          "geo": {
           "bgcolor": "white",
           "lakecolor": "white",
           "landcolor": "#E5ECF6",
           "showlakes": true,
           "showland": true,
           "subunitcolor": "white"
          },
          "hoverlabel": {
           "align": "left"
          },
          "hovermode": "closest",
          "mapbox": {
           "style": "light"
          },
          "paper_bgcolor": "white",
          "plot_bgcolor": "#E5ECF6",
          "polar": {
           "angularaxis": {
            "gridcolor": "white",
            "linecolor": "white",
            "ticks": ""
           },
           "bgcolor": "#E5ECF6",
           "radialaxis": {
            "gridcolor": "white",
            "linecolor": "white",
            "ticks": ""
           }
          },
          "scene": {
           "xaxis": {
            "backgroundcolor": "#E5ECF6",
            "gridcolor": "white",
            "gridwidth": 2,
            "linecolor": "white",
            "showbackground": true,
            "ticks": "",
            "zerolinecolor": "white"
           },
           "yaxis": {
            "backgroundcolor": "#E5ECF6",
            "gridcolor": "white",
            "gridwidth": 2,
            "linecolor": "white",
            "showbackground": true,
            "ticks": "",
            "zerolinecolor": "white"
           },
           "zaxis": {
            "backgroundcolor": "#E5ECF6",
            "gridcolor": "white",
            "gridwidth": 2,
            "linecolor": "white",
            "showbackground": true,
            "ticks": "",
            "zerolinecolor": "white"
           }
          },
          "shapedefaults": {
           "line": {
            "color": "#2a3f5f"
           }
          },
          "ternary": {
           "aaxis": {
            "gridcolor": "white",
            "linecolor": "white",
            "ticks": ""
           },
           "baxis": {
            "gridcolor": "white",
            "linecolor": "white",
            "ticks": ""
           },
           "bgcolor": "#E5ECF6",
           "caxis": {
            "gridcolor": "white",
            "linecolor": "white",
            "ticks": ""
           }
          },
          "title": {
           "x": 0.05
          },
          "xaxis": {
           "automargin": true,
           "gridcolor": "white",
           "linecolor": "white",
           "ticks": "",
           "title": {
            "standoff": 15
           },
           "zerolinecolor": "white",
           "zerolinewidth": 2
          },
          "yaxis": {
           "automargin": true,
           "gridcolor": "white",
           "linecolor": "white",
           "ticks": "",
           "title": {
            "standoff": 15
           },
           "zerolinecolor": "white",
           "zerolinewidth": 2
          }
         }
        },
        "title": {
         "font": {
          "size": 22
         },
         "text": "Gender Breakdown by State: REJECTED/WAITLISTED Summer Internship Applications"
        },
        "xaxis": {
         "range": [
          -15,
          15
         ],
         "ticktext": [
          "20",
          "15",
          "10",
          "5",
          "0",
          "5",
          "10",
          "15",
          "20"
         ],
         "tickvals": [
          -20,
          -15,
          -10,
          -5,
          0,
          5,
          10,
          15,
          20
         ],
         "title": {
          "font": {
           "size": 14
          },
          "text": "Number of Rejected/Waitlisted Interns"
         }
        }
       }
      }
     },
     "metadata": {},
     "output_type": "display_data"
    }
   ],
   "source": [
    "# Source: https://www.geeksforgeeks.org/how-to-create-a-population-pyramid-using-plotly-in-python/\n",
    "\n",
    "## DEFINING FUNCTIONS FOR VISUALS\n",
    "def create_bar_trace(y, x, name, orientation, marker_color):\n",
    "    trace = go.Bar(y = y, x = x, name = name, orientation = orientation, marker_color = marker_color)\n",
    "    return trace\n",
    "\n",
    "def add_data_labels_female(fig, y, x, sep):\n",
    "    for i, value in enumerate(x):\n",
    "        fig.add_annotation(dict(x = value+sep, y = y[i], text = str(value), showarrow = False, font = dict(size = 10)))\n",
    "\n",
    "def add_data_labels_male(fig, y, x, sep):\n",
    "    for i, value in enumerate(x):\n",
    "        fig.add_annotation(dict(x = value-sep, y = y[i], text = str(value*-1), showarrow = False, font = dict(size = 10)))\n",
    "\n",
    "# Sort alphabetically by state  \n",
    "males_all_sorted = sorted(zip(males_all[\"State\"], -males_all[\"count\"]), key=lambda x: x[0], reverse = True)\n",
    "females_all_sorted = sorted(zip(females_all[\"State\"], females_all[\"count\"]), key=lambda x: x[0], reverse = True)\n",
    "males_all_states_sorted, males_all_counts_sorted = zip(*males_all_sorted)\n",
    "females_all_states_sorted, females_all_counts_sorted = zip(*females_all_sorted)\n",
    "\n",
    "males_admit_sorted = sorted(zip(males_admit[\"State\"], -males_admit[\"count\"]), key=lambda x: x[0], reverse = True)\n",
    "females_admit_sorted = sorted(zip(females_admit[\"State\"], females_admit[\"count\"]), key=lambda x: x[0], reverse = True)\n",
    "males_admit_states_sorted, males_admit_counts_sorted = zip(*males_admit_sorted)\n",
    "females_admit_states_sorted, females_admit_counts_sorted = zip(*females_admit_sorted)\n",
    "\n",
    "males_reject_sorted = sorted(zip(males_reject[\"State\"], -males_reject[\"count\"]), key=lambda x: x[0], reverse = True)\n",
    "females_reject_sorted = sorted(zip(females_reject[\"State\"], females_reject[\"count\"]), key=lambda x: x[0], reverse = True)\n",
    "males_reject_states_sorted, males_reject_counts_sorted = zip(*males_reject_sorted)\n",
    "females_reject_states_sorted, females_reject_counts_sorted = zip(*females_reject_sorted)\n",
    "\n",
    "## ALL APPLICATIONS\n",
    "trace1= create_bar_trace(list(males_all_states_sorted), list(males_all_counts_sorted), \"Male\", \"h\", \"#5478AE\")\n",
    "trace2 = create_bar_trace(list(females_all_states_sorted), list(females_all_counts_sorted), \"Female\", \"h\", \"#B16792\")\n",
    "fig1 = go.Figure([trace1, trace2])\n",
    "fig1.update_layout(\n",
    "    title = \"Gender Breakdown by State: ALL Summer Internship Applications\",\n",
    "    title_font_size = 22,\n",
    "    barmode = \"relative\",\n",
    "    bargap = 0.0,\n",
    "    bargroupgap = 0,\n",
    "    xaxis = dict(\n",
    "        tickvals = [-55, -50, -45, -40, -35, -30, -25, -20, -15, -10, -5, 0, 5, 10, 15, 20, 25, 30, 35, 40, 45, 50, 55],\n",
    "        ticktext = [\"55\", \"50\", \"45\", \"40\", \"35\", \"30\", \"25\", \"20\", \"15\", \"10\", \"5\", \"0\", \"5\", \"10\", \"15\", \"20\", \"25\", \"30\", \"35\", \"40\", \"45\", \"50\", \"55\"],\n",
    "        title = \"Number of Applications\",\n",
    "        title_font_size = 14))\n",
    "add_data_labels_male(fig1, list(males_all[\"State\"]), -males_all[\"count\"], 0.3)\n",
    "add_data_labels_female(fig1, list(females_all[\"State\"]), females_all[\"count\"], 0.3)\n",
    "fig1.show()\n",
    "fig1.write_image(\"../website/images/gender_dist_plot_by_state_all.png\", engine = \"kaleido\")\n",
    "\n",
    "## ADMITTED APPLICATIONS\n",
    "trace3 = create_bar_trace(list(males_admit_states_sorted), list(males_admit_counts_sorted), \"Male\", \"h\", \"#5478AE\")\n",
    "trace4 = create_bar_trace(list(females_admit_states_sorted), list(females_admit_counts_sorted), \"Female\", \"h\", \"#B16792\")\n",
    "fig2 = go.Figure([trace3, trace4])\n",
    "fig2.update_layout(\n",
    "    title = \"Gender Breakdown by State: ADMITTED Summer Internship Applications\",\n",
    "    title_font_size = 22,\n",
    "    barmode = \"relative\",\n",
    "    bargap = 0.0,\n",
    "    bargroupgap = 0,\n",
    "    xaxis = dict(\n",
    "        tickvals = [-20, -15, -10, -5, 0, 5, 10, 15, 20],\n",
    "        ticktext = [\"20\", \"15\", \"10\", \"5\", \"0\", \"5\", \"10\", \"15\", \"20\"],\n",
    "        title = \"Number of Admitted Interns\",\n",
    "        title_font_size = 14, \n",
    "        range = [-15, 15]))\n",
    "add_data_labels_male(fig2, list(males_admit[\"State\"]), -males_admit[\"count\"], 0.2)\n",
    "add_data_labels_female(fig2, list(females_admit[\"State\"]), females_admit[\"count\"], 0.2)\n",
    "fig2.show()\n",
    "fig2.write_image(\"../website/images/gender_dist_plot_by_state_admitted.png\", engine = \"kaleido\")\n",
    "\n",
    "## REJECTED/WAITLISTED APPLICATIONS\n",
    "trace5 = create_bar_trace(list(males_reject_states_sorted), list(males_reject_counts_sorted), \"Male\", \"h\", \"#5478AE\")\n",
    "trace6 = create_bar_trace(list(females_reject_states_sorted), list(females_reject_counts_sorted), \"Female\", \"h\", \"#B16792\")\n",
    "fig3 = go.Figure([trace5, trace6])\n",
    "fig3.update_layout(\n",
    "    title = \"Gender Breakdown by State: REJECTED/WAITLISTED Summer Internship Applications\",\n",
    "    title_font_size = 22,\n",
    "    barmode = \"relative\",\n",
    "    bargap = 0.0,\n",
    "    bargroupgap = 0,\n",
    "    xaxis = dict(\n",
    "        tickvals = [-20, -15, -10, -5, 0, 5, 10, 15, 20],\n",
    "        ticktext = [\"20\", \"15\", \"10\", \"5\", \"0\", \"5\", \"10\", \"15\", \"20\"],\n",
    "        title = \"Number of Rejected/Waitlisted Interns\",\n",
    "        title_font_size = 14, \n",
    "        range = [-15, 15]))\n",
    "add_data_labels_male(fig3, list(males_reject[\"State\"]), -males_reject[\"count\"], 0.3)\n",
    "add_data_labels_female(fig3, list(females_reject[\"State\"]), females_reject[\"count\"], 0.3)\n",
    "fig3.show()\n",
    "fig3.write_image(\"../website/images/gender_dist_plot_by_state_rejected.png\", engine = \"kaleido\")"
   ]
  },
  {
   "cell_type": "code",
   "execution_count": 218,
   "metadata": {},
   "outputs": [],
   "source": [
    "## EXTRA DATA PREP\n",
    "all_states_male = pd.DataFrame({\"State\": df.State.unique(), \"count\": 0, \"Gender\": \"Male\"})\n",
    "all_states_female = pd.DataFrame({\"State\": df.State.unique(), \"count\": 0, \"Gender\": \"Female\"})\n",
    "\n",
    "males_admit = pd.merge(all_states_male, males_admit, on = \"State\", how = \"left\").fillna(0)\n",
    "males_admit = males_admit[[\"State\", \"count_y\", \"Gender_x\"]]\n",
    "males_admit.columns = [\"State\", \"count\", \"Gender\"]\n",
    "males_reject = pd.merge(all_states_male, males_reject, on = \"State\", how = \"left\").fillna(0)\n",
    "males_reject = males_reject[[\"State\", \"count_y\", \"Gender_x\"]]\n",
    "males_reject.columns = [\"State\", \"count\", \"Gender\"]\n",
    "\n",
    "females_admit = pd.merge(all_states_female, females_admit, on = \"State\", how = \"left\").fillna(0)\n",
    "females_admit = females_admit[[\"State\", \"count_y\", \"Gender_x\"]]\n",
    "females_admit.columns = [\"State\", \"count\", \"Gender\"]\n",
    "females_reject = pd.merge(all_states_female, females_reject, on = \"State\", how = \"left\").fillna(0)\n",
    "females_reject = females_reject[[\"State\", \"count_y\", \"Gender_x\"]]\n",
    "females_reject.columns = [\"State\", \"count\", \"Gender\"]"
   ]
  },
  {
   "cell_type": "code",
   "execution_count": 219,
   "metadata": {},
   "outputs": [
    {
     "data": {
      "application/vnd.plotly.v1+json": {
       "config": {
        "plotlyServerURL": "https://plot.ly"
       },
       "data": [
        {
         "marker": {
          "color": "#5478AE"
         },
         "name": "Male (Rejected/Waitlisted)",
         "orientation": "h",
         "type": "bar",
         "x": [
          0,
          -8,
          -9,
          -18,
          -1,
          -1,
          -1,
          -4,
          -1,
          -2
         ],
         "y": [
          "Alabama",
          "California",
          "Colorado",
          "Florida",
          "Mississippi",
          "New York",
          "Oregon",
          "Utah",
          "Vermont",
          "Virginia"
         ]
        },
        {
         "marker": {
          "color": "#9FBFF0"
         },
         "name": "Male (Admitted)",
         "orientation": "h",
         "type": "bar",
         "x": [
          0,
          -5,
          -4,
          -6,
          0,
          0,
          0,
          -1,
          0,
          0
         ],
         "y": [
          "Alabama",
          "California",
          "Colorado",
          "Florida",
          "Mississippi",
          "New York",
          "Oregon",
          "Utah",
          "Vermont",
          "Virginia"
         ]
        },
        {
         "marker": {
          "color": "#B16792"
         },
         "name": "Female (Rejected/Waitlisted)",
         "orientation": "h",
         "type": "bar",
         "x": [
          1,
          4,
          9,
          17,
          0,
          0,
          0,
          2,
          0,
          2
         ],
         "y": [
          "Alabama",
          "California",
          "Colorado",
          "Florida",
          "Mississippi",
          "New York",
          "Oregon",
          "Utah",
          "Vermont",
          "Virginia"
         ]
        },
        {
         "marker": {
          "color": "#EE95C9"
         },
         "name": "Female (Admitted)",
         "orientation": "h",
         "type": "bar",
         "x": [
          0,
          4,
          4,
          5,
          0,
          0,
          0,
          0,
          0,
          0
         ],
         "y": [
          "Alabama",
          "California",
          "Colorado",
          "Florida",
          "Mississippi",
          "New York",
          "Oregon",
          "Utah",
          "Vermont",
          "Virginia"
         ]
        }
       ],
       "layout": {
        "bargap": 0,
        "bargroupgap": 0,
        "barmode": "stack",
        "template": {
         "data": {
          "bar": [
           {
            "error_x": {
             "color": "#2a3f5f"
            },
            "error_y": {
             "color": "#2a3f5f"
            },
            "marker": {
             "line": {
              "color": "#E5ECF6",
              "width": 0.5
             },
             "pattern": {
              "fillmode": "overlay",
              "size": 10,
              "solidity": 0.2
             }
            },
            "type": "bar"
           }
          ],
          "barpolar": [
           {
            "marker": {
             "line": {
              "color": "#E5ECF6",
              "width": 0.5
             },
             "pattern": {
              "fillmode": "overlay",
              "size": 10,
              "solidity": 0.2
             }
            },
            "type": "barpolar"
           }
          ],
          "carpet": [
           {
            "aaxis": {
             "endlinecolor": "#2a3f5f",
             "gridcolor": "white",
             "linecolor": "white",
             "minorgridcolor": "white",
             "startlinecolor": "#2a3f5f"
            },
            "baxis": {
             "endlinecolor": "#2a3f5f",
             "gridcolor": "white",
             "linecolor": "white",
             "minorgridcolor": "white",
             "startlinecolor": "#2a3f5f"
            },
            "type": "carpet"
           }
          ],
          "choropleth": [
           {
            "colorbar": {
             "outlinewidth": 0,
             "ticks": ""
            },
            "type": "choropleth"
           }
          ],
          "contour": [
           {
            "colorbar": {
             "outlinewidth": 0,
             "ticks": ""
            },
            "colorscale": [
             [
              0,
              "#0d0887"
             ],
             [
              0.1111111111111111,
              "#46039f"
             ],
             [
              0.2222222222222222,
              "#7201a8"
             ],
             [
              0.3333333333333333,
              "#9c179e"
             ],
             [
              0.4444444444444444,
              "#bd3786"
             ],
             [
              0.5555555555555556,
              "#d8576b"
             ],
             [
              0.6666666666666666,
              "#ed7953"
             ],
             [
              0.7777777777777778,
              "#fb9f3a"
             ],
             [
              0.8888888888888888,
              "#fdca26"
             ],
             [
              1,
              "#f0f921"
             ]
            ],
            "type": "contour"
           }
          ],
          "contourcarpet": [
           {
            "colorbar": {
             "outlinewidth": 0,
             "ticks": ""
            },
            "type": "contourcarpet"
           }
          ],
          "heatmap": [
           {
            "colorbar": {
             "outlinewidth": 0,
             "ticks": ""
            },
            "colorscale": [
             [
              0,
              "#0d0887"
             ],
             [
              0.1111111111111111,
              "#46039f"
             ],
             [
              0.2222222222222222,
              "#7201a8"
             ],
             [
              0.3333333333333333,
              "#9c179e"
             ],
             [
              0.4444444444444444,
              "#bd3786"
             ],
             [
              0.5555555555555556,
              "#d8576b"
             ],
             [
              0.6666666666666666,
              "#ed7953"
             ],
             [
              0.7777777777777778,
              "#fb9f3a"
             ],
             [
              0.8888888888888888,
              "#fdca26"
             ],
             [
              1,
              "#f0f921"
             ]
            ],
            "type": "heatmap"
           }
          ],
          "heatmapgl": [
           {
            "colorbar": {
             "outlinewidth": 0,
             "ticks": ""
            },
            "colorscale": [
             [
              0,
              "#0d0887"
             ],
             [
              0.1111111111111111,
              "#46039f"
             ],
             [
              0.2222222222222222,
              "#7201a8"
             ],
             [
              0.3333333333333333,
              "#9c179e"
             ],
             [
              0.4444444444444444,
              "#bd3786"
             ],
             [
              0.5555555555555556,
              "#d8576b"
             ],
             [
              0.6666666666666666,
              "#ed7953"
             ],
             [
              0.7777777777777778,
              "#fb9f3a"
             ],
             [
              0.8888888888888888,
              "#fdca26"
             ],
             [
              1,
              "#f0f921"
             ]
            ],
            "type": "heatmapgl"
           }
          ],
          "histogram": [
           {
            "marker": {
             "pattern": {
              "fillmode": "overlay",
              "size": 10,
              "solidity": 0.2
             }
            },
            "type": "histogram"
           }
          ],
          "histogram2d": [
           {
            "colorbar": {
             "outlinewidth": 0,
             "ticks": ""
            },
            "colorscale": [
             [
              0,
              "#0d0887"
             ],
             [
              0.1111111111111111,
              "#46039f"
             ],
             [
              0.2222222222222222,
              "#7201a8"
             ],
             [
              0.3333333333333333,
              "#9c179e"
             ],
             [
              0.4444444444444444,
              "#bd3786"
             ],
             [
              0.5555555555555556,
              "#d8576b"
             ],
             [
              0.6666666666666666,
              "#ed7953"
             ],
             [
              0.7777777777777778,
              "#fb9f3a"
             ],
             [
              0.8888888888888888,
              "#fdca26"
             ],
             [
              1,
              "#f0f921"
             ]
            ],
            "type": "histogram2d"
           }
          ],
          "histogram2dcontour": [
           {
            "colorbar": {
             "outlinewidth": 0,
             "ticks": ""
            },
            "colorscale": [
             [
              0,
              "#0d0887"
             ],
             [
              0.1111111111111111,
              "#46039f"
             ],
             [
              0.2222222222222222,
              "#7201a8"
             ],
             [
              0.3333333333333333,
              "#9c179e"
             ],
             [
              0.4444444444444444,
              "#bd3786"
             ],
             [
              0.5555555555555556,
              "#d8576b"
             ],
             [
              0.6666666666666666,
              "#ed7953"
             ],
             [
              0.7777777777777778,
              "#fb9f3a"
             ],
             [
              0.8888888888888888,
              "#fdca26"
             ],
             [
              1,
              "#f0f921"
             ]
            ],
            "type": "histogram2dcontour"
           }
          ],
          "mesh3d": [
           {
            "colorbar": {
             "outlinewidth": 0,
             "ticks": ""
            },
            "type": "mesh3d"
           }
          ],
          "parcoords": [
           {
            "line": {
             "colorbar": {
              "outlinewidth": 0,
              "ticks": ""
             }
            },
            "type": "parcoords"
           }
          ],
          "pie": [
           {
            "automargin": true,
            "type": "pie"
           }
          ],
          "scatter": [
           {
            "fillpattern": {
             "fillmode": "overlay",
             "size": 10,
             "solidity": 0.2
            },
            "type": "scatter"
           }
          ],
          "scatter3d": [
           {
            "line": {
             "colorbar": {
              "outlinewidth": 0,
              "ticks": ""
             }
            },
            "marker": {
             "colorbar": {
              "outlinewidth": 0,
              "ticks": ""
             }
            },
            "type": "scatter3d"
           }
          ],
          "scattercarpet": [
           {
            "marker": {
             "colorbar": {
              "outlinewidth": 0,
              "ticks": ""
             }
            },
            "type": "scattercarpet"
           }
          ],
          "scattergeo": [
           {
            "marker": {
             "colorbar": {
              "outlinewidth": 0,
              "ticks": ""
             }
            },
            "type": "scattergeo"
           }
          ],
          "scattergl": [
           {
            "marker": {
             "colorbar": {
              "outlinewidth": 0,
              "ticks": ""
             }
            },
            "type": "scattergl"
           }
          ],
          "scattermapbox": [
           {
            "marker": {
             "colorbar": {
              "outlinewidth": 0,
              "ticks": ""
             }
            },
            "type": "scattermapbox"
           }
          ],
          "scatterpolar": [
           {
            "marker": {
             "colorbar": {
              "outlinewidth": 0,
              "ticks": ""
             }
            },
            "type": "scatterpolar"
           }
          ],
          "scatterpolargl": [
           {
            "marker": {
             "colorbar": {
              "outlinewidth": 0,
              "ticks": ""
             }
            },
            "type": "scatterpolargl"
           }
          ],
          "scatterternary": [
           {
            "marker": {
             "colorbar": {
              "outlinewidth": 0,
              "ticks": ""
             }
            },
            "type": "scatterternary"
           }
          ],
          "surface": [
           {
            "colorbar": {
             "outlinewidth": 0,
             "ticks": ""
            },
            "colorscale": [
             [
              0,
              "#0d0887"
             ],
             [
              0.1111111111111111,
              "#46039f"
             ],
             [
              0.2222222222222222,
              "#7201a8"
             ],
             [
              0.3333333333333333,
              "#9c179e"
             ],
             [
              0.4444444444444444,
              "#bd3786"
             ],
             [
              0.5555555555555556,
              "#d8576b"
             ],
             [
              0.6666666666666666,
              "#ed7953"
             ],
             [
              0.7777777777777778,
              "#fb9f3a"
             ],
             [
              0.8888888888888888,
              "#fdca26"
             ],
             [
              1,
              "#f0f921"
             ]
            ],
            "type": "surface"
           }
          ],
          "table": [
           {
            "cells": {
             "fill": {
              "color": "#EBF0F8"
             },
             "line": {
              "color": "white"
             }
            },
            "header": {
             "fill": {
              "color": "#C8D4E3"
             },
             "line": {
              "color": "white"
             }
            },
            "type": "table"
           }
          ]
         },
         "layout": {
          "annotationdefaults": {
           "arrowcolor": "#2a3f5f",
           "arrowhead": 0,
           "arrowwidth": 1
          },
          "autotypenumbers": "strict",
          "coloraxis": {
           "colorbar": {
            "outlinewidth": 0,
            "ticks": ""
           }
          },
          "colorscale": {
           "diverging": [
            [
             0,
             "#8e0152"
            ],
            [
             0.1,
             "#c51b7d"
            ],
            [
             0.2,
             "#de77ae"
            ],
            [
             0.3,
             "#f1b6da"
            ],
            [
             0.4,
             "#fde0ef"
            ],
            [
             0.5,
             "#f7f7f7"
            ],
            [
             0.6,
             "#e6f5d0"
            ],
            [
             0.7,
             "#b8e186"
            ],
            [
             0.8,
             "#7fbc41"
            ],
            [
             0.9,
             "#4d9221"
            ],
            [
             1,
             "#276419"
            ]
           ],
           "sequential": [
            [
             0,
             "#0d0887"
            ],
            [
             0.1111111111111111,
             "#46039f"
            ],
            [
             0.2222222222222222,
             "#7201a8"
            ],
            [
             0.3333333333333333,
             "#9c179e"
            ],
            [
             0.4444444444444444,
             "#bd3786"
            ],
            [
             0.5555555555555556,
             "#d8576b"
            ],
            [
             0.6666666666666666,
             "#ed7953"
            ],
            [
             0.7777777777777778,
             "#fb9f3a"
            ],
            [
             0.8888888888888888,
             "#fdca26"
            ],
            [
             1,
             "#f0f921"
            ]
           ],
           "sequentialminus": [
            [
             0,
             "#0d0887"
            ],
            [
             0.1111111111111111,
             "#46039f"
            ],
            [
             0.2222222222222222,
             "#7201a8"
            ],
            [
             0.3333333333333333,
             "#9c179e"
            ],
            [
             0.4444444444444444,
             "#bd3786"
            ],
            [
             0.5555555555555556,
             "#d8576b"
            ],
            [
             0.6666666666666666,
             "#ed7953"
            ],
            [
             0.7777777777777778,
             "#fb9f3a"
            ],
            [
             0.8888888888888888,
             "#fdca26"
            ],
            [
             1,
             "#f0f921"
            ]
           ]
          },
          "colorway": [
           "#636efa",
           "#EF553B",
           "#00cc96",
           "#ab63fa",
           "#FFA15A",
           "#19d3f3",
           "#FF6692",
           "#B6E880",
           "#FF97FF",
           "#FECB52"
          ],
          "font": {
           "color": "#2a3f5f"
          },
          "geo": {
           "bgcolor": "white",
           "lakecolor": "white",
           "landcolor": "#E5ECF6",
           "showlakes": true,
           "showland": true,
           "subunitcolor": "white"
          },
          "hoverlabel": {
           "align": "left"
          },
          "hovermode": "closest",
          "mapbox": {
           "style": "light"
          },
          "paper_bgcolor": "white",
          "plot_bgcolor": "#E5ECF6",
          "polar": {
           "angularaxis": {
            "gridcolor": "white",
            "linecolor": "white",
            "ticks": ""
           },
           "bgcolor": "#E5ECF6",
           "radialaxis": {
            "gridcolor": "white",
            "linecolor": "white",
            "ticks": ""
           }
          },
          "scene": {
           "xaxis": {
            "backgroundcolor": "#E5ECF6",
            "gridcolor": "white",
            "gridwidth": 2,
            "linecolor": "white",
            "showbackground": true,
            "ticks": "",
            "zerolinecolor": "white"
           },
           "yaxis": {
            "backgroundcolor": "#E5ECF6",
            "gridcolor": "white",
            "gridwidth": 2,
            "linecolor": "white",
            "showbackground": true,
            "ticks": "",
            "zerolinecolor": "white"
           },
           "zaxis": {
            "backgroundcolor": "#E5ECF6",
            "gridcolor": "white",
            "gridwidth": 2,
            "linecolor": "white",
            "showbackground": true,
            "ticks": "",
            "zerolinecolor": "white"
           }
          },
          "shapedefaults": {
           "line": {
            "color": "#2a3f5f"
           }
          },
          "ternary": {
           "aaxis": {
            "gridcolor": "white",
            "linecolor": "white",
            "ticks": ""
           },
           "baxis": {
            "gridcolor": "white",
            "linecolor": "white",
            "ticks": ""
           },
           "bgcolor": "#E5ECF6",
           "caxis": {
            "gridcolor": "white",
            "linecolor": "white",
            "ticks": ""
           }
          },
          "title": {
           "x": 0.05
          },
          "xaxis": {
           "automargin": true,
           "gridcolor": "white",
           "linecolor": "white",
           "ticks": "",
           "title": {
            "standoff": 15
           },
           "zerolinecolor": "white",
           "zerolinewidth": 2
          },
          "yaxis": {
           "automargin": true,
           "gridcolor": "white",
           "linecolor": "white",
           "ticks": "",
           "title": {
            "standoff": 15
           },
           "zerolinecolor": "white",
           "zerolinewidth": 2
          }
         }
        },
        "title": {
         "font": {
          "size": 22
         },
         "text": "Gender Breakdown by State: Summer Internship Applications"
        },
        "xaxis": {
         "ticktext": [],
         "tickvals": [
          -25,
          -20,
          -15,
          -10,
          -5,
          0,
          5,
          10,
          15,
          20,
          25
         ],
         "title": {
          "font": {
           "size": 14
          },
          "text": "Number of Interns"
         }
        }
       }
      }
     },
     "metadata": {},
     "output_type": "display_data"
    }
   ],
   "source": [
    "# ADMITTED APPLICATIONS\n",
    "trace_admit_male = create_bar_trace(list(males_admit[\"State\"]), -males_admit[\"count\"], \"Male (Admitted)\", \"h\", \"#9FBFF0\")\n",
    "trace_admit_female = create_bar_trace(list(females_admit[\"State\"]), females_admit[\"count\"], \"Female (Admitted)\", \"h\", \"#EE95C9\")\n",
    "\n",
    "# REJECTED/WAITLISTED APPLICATIONS\n",
    "trace_reject_male = create_bar_trace(list(males_reject[\"State\"]), -males_reject[\"count\"], \"Male (Rejected/Waitlisted)\", \"h\", \"#5478AE\")\n",
    "trace_reject_female = create_bar_trace(list(females_reject[\"State\"]), females_reject[\"count\"], \"Female (Rejected/Waitlisted)\", \"h\", \"#B16792\")\n",
    "\n",
    "# CUMMULATIVE FOR REJECT BAR PART\n",
    "cumulative_reject_male = males_admit[\"count\"].values + males_reject[\"count\"].values\n",
    "cumulative_reject_female = females_admit[\"count\"].values + females_reject[\"count\"].values\n",
    "\n",
    "fig = go.Figure([trace_reject_male.update(x = -cumulative_reject_male), trace_admit_male, trace_reject_female.update(x = cumulative_reject_female), trace_admit_female])\n",
    "\n",
    "fig.update_layout(\n",
    "    title=\"Gender Breakdown by State: Summer Internship Applications\",\n",
    "    title_font_size=22,\n",
    "    barmode=\"stack\",  \n",
    "    bargap=0.0,\n",
    "    bargroupgap=0,\n",
    "    xaxis=dict(\n",
    "        tickvals=[-25, -20, -15, -10, -5, 0, 5, 10, 15, 20, 25],\n",
    "        ticktext=[], #\"25\", \"20\", \"15\", \"10\", \"5\", \"0\", \"5\", \"10\", \"15\", \"20\", \"25\"\n",
    "        title=\"Number of Interns\",\n",
    "        title_font_size=14))\n",
    "\n",
    "fig.show()"
   ]
  },
  {
   "cell_type": "code",
   "execution_count": 220,
   "metadata": {},
   "outputs": [
    {
     "data": {
      "application/vnd.plotly.v1+json": {
       "config": {
        "plotlyServerURL": "https://plot.ly"
       },
       "data": [
        {
         "marker": {
          "color": "#5478AE"
         },
         "name": "Male - Rejected",
         "orientation": "h",
         "type": "bar",
         "x": [
          0,
          -3,
          -8,
          -20,
          -21,
          -22,
          -23,
          -26,
          -27,
          -29
         ],
         "y": [
          "Alabama",
          "California",
          "Colorado",
          "Florida",
          "Mississippi",
          "New York",
          "Oregon",
          "Utah",
          "Vermont",
          "Virginia"
         ]
        },
        {
         "marker": {
          "color": "#9FBFF0"
         },
         "name": "Male - Admitted",
         "orientation": "h",
         "type": "bar",
         "x": [
          0,
          5,
          9,
          15,
          15,
          15,
          15,
          16,
          16,
          16
         ],
         "y": [
          "Alabama",
          "California",
          "Colorado",
          "Florida",
          "Mississippi",
          "New York",
          "Oregon",
          "Utah",
          "Vermont",
          "Virginia"
         ]
        },
        {
         "marker": {
          "color": "#EE95C9"
         },
         "name": "Female - Admitted",
         "orientation": "h",
         "type": "bar",
         "x": [
          0,
          4,
          8,
          13,
          13,
          13,
          13,
          13,
          13,
          13
         ],
         "y": [
          "Alabama",
          "California",
          "Colorado",
          "Florida",
          "Mississippi",
          "New York",
          "Oregon",
          "Utah",
          "Vermont",
          "Virginia"
         ]
        },
        {
         "marker": {
          "color": "#B16792"
         },
         "name": "Female - Rejected",
         "orientation": "h",
         "type": "bar",
         "x": [
          -1,
          -1,
          -6,
          -18,
          -18,
          -18,
          -18,
          -20,
          -20,
          -22
         ],
         "y": [
          "Alabama",
          "California",
          "Colorado",
          "Florida",
          "Mississippi",
          "New York",
          "Oregon",
          "Utah",
          "Vermont",
          "Virginia"
         ]
        }
       ],
       "layout": {
        "bargap": 0,
        "bargroupgap": 0,
        "barmode": "stack",
        "template": {
         "data": {
          "bar": [
           {
            "error_x": {
             "color": "#2a3f5f"
            },
            "error_y": {
             "color": "#2a3f5f"
            },
            "marker": {
             "line": {
              "color": "#E5ECF6",
              "width": 0.5
             },
             "pattern": {
              "fillmode": "overlay",
              "size": 10,
              "solidity": 0.2
             }
            },
            "type": "bar"
           }
          ],
          "barpolar": [
           {
            "marker": {
             "line": {
              "color": "#E5ECF6",
              "width": 0.5
             },
             "pattern": {
              "fillmode": "overlay",
              "size": 10,
              "solidity": 0.2
             }
            },
            "type": "barpolar"
           }
          ],
          "carpet": [
           {
            "aaxis": {
             "endlinecolor": "#2a3f5f",
             "gridcolor": "white",
             "linecolor": "white",
             "minorgridcolor": "white",
             "startlinecolor": "#2a3f5f"
            },
            "baxis": {
             "endlinecolor": "#2a3f5f",
             "gridcolor": "white",
             "linecolor": "white",
             "minorgridcolor": "white",
             "startlinecolor": "#2a3f5f"
            },
            "type": "carpet"
           }
          ],
          "choropleth": [
           {
            "colorbar": {
             "outlinewidth": 0,
             "ticks": ""
            },
            "type": "choropleth"
           }
          ],
          "contour": [
           {
            "colorbar": {
             "outlinewidth": 0,
             "ticks": ""
            },
            "colorscale": [
             [
              0,
              "#0d0887"
             ],
             [
              0.1111111111111111,
              "#46039f"
             ],
             [
              0.2222222222222222,
              "#7201a8"
             ],
             [
              0.3333333333333333,
              "#9c179e"
             ],
             [
              0.4444444444444444,
              "#bd3786"
             ],
             [
              0.5555555555555556,
              "#d8576b"
             ],
             [
              0.6666666666666666,
              "#ed7953"
             ],
             [
              0.7777777777777778,
              "#fb9f3a"
             ],
             [
              0.8888888888888888,
              "#fdca26"
             ],
             [
              1,
              "#f0f921"
             ]
            ],
            "type": "contour"
           }
          ],
          "contourcarpet": [
           {
            "colorbar": {
             "outlinewidth": 0,
             "ticks": ""
            },
            "type": "contourcarpet"
           }
          ],
          "heatmap": [
           {
            "colorbar": {
             "outlinewidth": 0,
             "ticks": ""
            },
            "colorscale": [
             [
              0,
              "#0d0887"
             ],
             [
              0.1111111111111111,
              "#46039f"
             ],
             [
              0.2222222222222222,
              "#7201a8"
             ],
             [
              0.3333333333333333,
              "#9c179e"
             ],
             [
              0.4444444444444444,
              "#bd3786"
             ],
             [
              0.5555555555555556,
              "#d8576b"
             ],
             [
              0.6666666666666666,
              "#ed7953"
             ],
             [
              0.7777777777777778,
              "#fb9f3a"
             ],
             [
              0.8888888888888888,
              "#fdca26"
             ],
             [
              1,
              "#f0f921"
             ]
            ],
            "type": "heatmap"
           }
          ],
          "heatmapgl": [
           {
            "colorbar": {
             "outlinewidth": 0,
             "ticks": ""
            },
            "colorscale": [
             [
              0,
              "#0d0887"
             ],
             [
              0.1111111111111111,
              "#46039f"
             ],
             [
              0.2222222222222222,
              "#7201a8"
             ],
             [
              0.3333333333333333,
              "#9c179e"
             ],
             [
              0.4444444444444444,
              "#bd3786"
             ],
             [
              0.5555555555555556,
              "#d8576b"
             ],
             [
              0.6666666666666666,
              "#ed7953"
             ],
             [
              0.7777777777777778,
              "#fb9f3a"
             ],
             [
              0.8888888888888888,
              "#fdca26"
             ],
             [
              1,
              "#f0f921"
             ]
            ],
            "type": "heatmapgl"
           }
          ],
          "histogram": [
           {
            "marker": {
             "pattern": {
              "fillmode": "overlay",
              "size": 10,
              "solidity": 0.2
             }
            },
            "type": "histogram"
           }
          ],
          "histogram2d": [
           {
            "colorbar": {
             "outlinewidth": 0,
             "ticks": ""
            },
            "colorscale": [
             [
              0,
              "#0d0887"
             ],
             [
              0.1111111111111111,
              "#46039f"
             ],
             [
              0.2222222222222222,
              "#7201a8"
             ],
             [
              0.3333333333333333,
              "#9c179e"
             ],
             [
              0.4444444444444444,
              "#bd3786"
             ],
             [
              0.5555555555555556,
              "#d8576b"
             ],
             [
              0.6666666666666666,
              "#ed7953"
             ],
             [
              0.7777777777777778,
              "#fb9f3a"
             ],
             [
              0.8888888888888888,
              "#fdca26"
             ],
             [
              1,
              "#f0f921"
             ]
            ],
            "type": "histogram2d"
           }
          ],
          "histogram2dcontour": [
           {
            "colorbar": {
             "outlinewidth": 0,
             "ticks": ""
            },
            "colorscale": [
             [
              0,
              "#0d0887"
             ],
             [
              0.1111111111111111,
              "#46039f"
             ],
             [
              0.2222222222222222,
              "#7201a8"
             ],
             [
              0.3333333333333333,
              "#9c179e"
             ],
             [
              0.4444444444444444,
              "#bd3786"
             ],
             [
              0.5555555555555556,
              "#d8576b"
             ],
             [
              0.6666666666666666,
              "#ed7953"
             ],
             [
              0.7777777777777778,
              "#fb9f3a"
             ],
             [
              0.8888888888888888,
              "#fdca26"
             ],
             [
              1,
              "#f0f921"
             ]
            ],
            "type": "histogram2dcontour"
           }
          ],
          "mesh3d": [
           {
            "colorbar": {
             "outlinewidth": 0,
             "ticks": ""
            },
            "type": "mesh3d"
           }
          ],
          "parcoords": [
           {
            "line": {
             "colorbar": {
              "outlinewidth": 0,
              "ticks": ""
             }
            },
            "type": "parcoords"
           }
          ],
          "pie": [
           {
            "automargin": true,
            "type": "pie"
           }
          ],
          "scatter": [
           {
            "fillpattern": {
             "fillmode": "overlay",
             "size": 10,
             "solidity": 0.2
            },
            "type": "scatter"
           }
          ],
          "scatter3d": [
           {
            "line": {
             "colorbar": {
              "outlinewidth": 0,
              "ticks": ""
             }
            },
            "marker": {
             "colorbar": {
              "outlinewidth": 0,
              "ticks": ""
             }
            },
            "type": "scatter3d"
           }
          ],
          "scattercarpet": [
           {
            "marker": {
             "colorbar": {
              "outlinewidth": 0,
              "ticks": ""
             }
            },
            "type": "scattercarpet"
           }
          ],
          "scattergeo": [
           {
            "marker": {
             "colorbar": {
              "outlinewidth": 0,
              "ticks": ""
             }
            },
            "type": "scattergeo"
           }
          ],
          "scattergl": [
           {
            "marker": {
             "colorbar": {
              "outlinewidth": 0,
              "ticks": ""
             }
            },
            "type": "scattergl"
           }
          ],
          "scattermapbox": [
           {
            "marker": {
             "colorbar": {
              "outlinewidth": 0,
              "ticks": ""
             }
            },
            "type": "scattermapbox"
           }
          ],
          "scatterpolar": [
           {
            "marker": {
             "colorbar": {
              "outlinewidth": 0,
              "ticks": ""
             }
            },
            "type": "scatterpolar"
           }
          ],
          "scatterpolargl": [
           {
            "marker": {
             "colorbar": {
              "outlinewidth": 0,
              "ticks": ""
             }
            },
            "type": "scatterpolargl"
           }
          ],
          "scatterternary": [
           {
            "marker": {
             "colorbar": {
              "outlinewidth": 0,
              "ticks": ""
             }
            },
            "type": "scatterternary"
           }
          ],
          "surface": [
           {
            "colorbar": {
             "outlinewidth": 0,
             "ticks": ""
            },
            "colorscale": [
             [
              0,
              "#0d0887"
             ],
             [
              0.1111111111111111,
              "#46039f"
             ],
             [
              0.2222222222222222,
              "#7201a8"
             ],
             [
              0.3333333333333333,
              "#9c179e"
             ],
             [
              0.4444444444444444,
              "#bd3786"
             ],
             [
              0.5555555555555556,
              "#d8576b"
             ],
             [
              0.6666666666666666,
              "#ed7953"
             ],
             [
              0.7777777777777778,
              "#fb9f3a"
             ],
             [
              0.8888888888888888,
              "#fdca26"
             ],
             [
              1,
              "#f0f921"
             ]
            ],
            "type": "surface"
           }
          ],
          "table": [
           {
            "cells": {
             "fill": {
              "color": "#EBF0F8"
             },
             "line": {
              "color": "white"
             }
            },
            "header": {
             "fill": {
              "color": "#C8D4E3"
             },
             "line": {
              "color": "white"
             }
            },
            "type": "table"
           }
          ]
         },
         "layout": {
          "annotationdefaults": {
           "arrowcolor": "#2a3f5f",
           "arrowhead": 0,
           "arrowwidth": 1
          },
          "autotypenumbers": "strict",
          "coloraxis": {
           "colorbar": {
            "outlinewidth": 0,
            "ticks": ""
           }
          },
          "colorscale": {
           "diverging": [
            [
             0,
             "#8e0152"
            ],
            [
             0.1,
             "#c51b7d"
            ],
            [
             0.2,
             "#de77ae"
            ],
            [
             0.3,
             "#f1b6da"
            ],
            [
             0.4,
             "#fde0ef"
            ],
            [
             0.5,
             "#f7f7f7"
            ],
            [
             0.6,
             "#e6f5d0"
            ],
            [
             0.7,
             "#b8e186"
            ],
            [
             0.8,
             "#7fbc41"
            ],
            [
             0.9,
             "#4d9221"
            ],
            [
             1,
             "#276419"
            ]
           ],
           "sequential": [
            [
             0,
             "#0d0887"
            ],
            [
             0.1111111111111111,
             "#46039f"
            ],
            [
             0.2222222222222222,
             "#7201a8"
            ],
            [
             0.3333333333333333,
             "#9c179e"
            ],
            [
             0.4444444444444444,
             "#bd3786"
            ],
            [
             0.5555555555555556,
             "#d8576b"
            ],
            [
             0.6666666666666666,
             "#ed7953"
            ],
            [
             0.7777777777777778,
             "#fb9f3a"
            ],
            [
             0.8888888888888888,
             "#fdca26"
            ],
            [
             1,
             "#f0f921"
            ]
           ],
           "sequentialminus": [
            [
             0,
             "#0d0887"
            ],
            [
             0.1111111111111111,
             "#46039f"
            ],
            [
             0.2222222222222222,
             "#7201a8"
            ],
            [
             0.3333333333333333,
             "#9c179e"
            ],
            [
             0.4444444444444444,
             "#bd3786"
            ],
            [
             0.5555555555555556,
             "#d8576b"
            ],
            [
             0.6666666666666666,
             "#ed7953"
            ],
            [
             0.7777777777777778,
             "#fb9f3a"
            ],
            [
             0.8888888888888888,
             "#fdca26"
            ],
            [
             1,
             "#f0f921"
            ]
           ]
          },
          "colorway": [
           "#636efa",
           "#EF553B",
           "#00cc96",
           "#ab63fa",
           "#FFA15A",
           "#19d3f3",
           "#FF6692",
           "#B6E880",
           "#FF97FF",
           "#FECB52"
          ],
          "font": {
           "color": "#2a3f5f"
          },
          "geo": {
           "bgcolor": "white",
           "lakecolor": "white",
           "landcolor": "#E5ECF6",
           "showlakes": true,
           "showland": true,
           "subunitcolor": "white"
          },
          "hoverlabel": {
           "align": "left"
          },
          "hovermode": "closest",
          "mapbox": {
           "style": "light"
          },
          "paper_bgcolor": "white",
          "plot_bgcolor": "#E5ECF6",
          "polar": {
           "angularaxis": {
            "gridcolor": "white",
            "linecolor": "white",
            "ticks": ""
           },
           "bgcolor": "#E5ECF6",
           "radialaxis": {
            "gridcolor": "white",
            "linecolor": "white",
            "ticks": ""
           }
          },
          "scene": {
           "xaxis": {
            "backgroundcolor": "#E5ECF6",
            "gridcolor": "white",
            "gridwidth": 2,
            "linecolor": "white",
            "showbackground": true,
            "ticks": "",
            "zerolinecolor": "white"
           },
           "yaxis": {
            "backgroundcolor": "#E5ECF6",
            "gridcolor": "white",
            "gridwidth": 2,
            "linecolor": "white",
            "showbackground": true,
            "ticks": "",
            "zerolinecolor": "white"
           },
           "zaxis": {
            "backgroundcolor": "#E5ECF6",
            "gridcolor": "white",
            "gridwidth": 2,
            "linecolor": "white",
            "showbackground": true,
            "ticks": "",
            "zerolinecolor": "white"
           }
          },
          "shapedefaults": {
           "line": {
            "color": "#2a3f5f"
           }
          },
          "ternary": {
           "aaxis": {
            "gridcolor": "white",
            "linecolor": "white",
            "ticks": ""
           },
           "baxis": {
            "gridcolor": "white",
            "linecolor": "white",
            "ticks": ""
           },
           "bgcolor": "#E5ECF6",
           "caxis": {
            "gridcolor": "white",
            "linecolor": "white",
            "ticks": ""
           }
          },
          "title": {
           "x": 0.05
          },
          "xaxis": {
           "automargin": true,
           "gridcolor": "white",
           "linecolor": "white",
           "ticks": "",
           "title": {
            "standoff": 15
           },
           "zerolinecolor": "white",
           "zerolinewidth": 2
          },
          "yaxis": {
           "automargin": true,
           "gridcolor": "white",
           "linecolor": "white",
           "ticks": "",
           "title": {
            "standoff": 15
           },
           "zerolinecolor": "white",
           "zerolinewidth": 2
          }
         }
        },
        "title": {
         "font": {
          "size": 22
         },
         "text": "Gender Breakdown by State: Summer Internship Applications"
        },
        "xaxis": {
         "title": {
          "text": "Number of Interns"
         }
        },
        "yaxis": {
         "title": {
          "text": "State"
         }
        }
       }
      }
     },
     "metadata": {},
     "output_type": "display_data"
    }
   ],
   "source": [
    "# Calculate cumulative sums for stacking\n",
    "cumulative_admit_male = [0] + [sum(males_admit[\"count\"][:i+1]) for i in range(len(males_admit))]\n",
    "cumulative_reject_male = [0] + [-sum(males_reject[\"count\"][:i+1]) for i in range(len(males_reject))]\n",
    "\n",
    "cumulative_admit_female = [0] + [sum(females_admit[\"count\"][:i+1]) for i in range(len(females_admit))]\n",
    "cumulative_reject_female = [0] + [-sum(females_reject[\"count\"][:i+1]) for i in range(len(females_reject))]\n",
    "\n",
    "# Create bar traces\n",
    "trace_male_rejected = go.Bar(x=cumulative_reject_male[1:], y=males_reject[\"State\"], name='Male - Rejected', orientation='h', marker=dict(color='#5478AE'))\n",
    "trace_male_admitted = go.Bar(x=cumulative_admit_male[1:], y=males_admit[\"State\"], name='Male - Admitted', orientation='h', marker=dict(color='#9FBFF0'))\n",
    "\n",
    "trace_female_admitted = go.Bar(x=cumulative_admit_female[1:], y=females_reject[\"State\"], name='Female - Admitted', orientation='h', marker=dict(color='#EE95C9'))\n",
    "trace_female_rejected = go.Bar(x=cumulative_reject_female[1:], y=females_admit[\"State\"], name='Female - Rejected', orientation='h', marker=dict(color='#B16792'))\n",
    "\n",
    "# Create the figure\n",
    "fig = go.Figure(data=[trace_male_rejected, trace_male_admitted, trace_female_admitted, trace_female_rejected])\n",
    "\n",
    "# Update layout\n",
    "fig.update_layout(\n",
    "    title=\"Gender Breakdown by State: Summer Internship Applications\",\n",
    "    title_font_size=22,\n",
    "    barmode=\"stack\",\n",
    "    bargap=0.0,\n",
    "    bargroupgap=0,\n",
    "    xaxis=dict(title=\"Number of Interns\"),\n",
    "    yaxis=dict(title=\"State\")\n",
    ")\n",
    "\n",
    "# Show the figure\n",
    "fig.show()"
   ]
  },
  {
   "cell_type": "markdown",
   "metadata": {},
   "source": [
    "### ARCHIVE"
   ]
  },
  {
   "cell_type": "code",
   "execution_count": 221,
   "metadata": {},
   "outputs": [
    {
     "data": {
      "text/html": [
       "<div>\n",
       "<style scoped>\n",
       "    .dataframe tbody tr th:only-of-type {\n",
       "        vertical-align: middle;\n",
       "    }\n",
       "\n",
       "    .dataframe tbody tr th {\n",
       "        vertical-align: top;\n",
       "    }\n",
       "\n",
       "    .dataframe thead th {\n",
       "        text-align: right;\n",
       "    }\n",
       "</style>\n",
       "<table border=\"1\" class=\"dataframe\">\n",
       "  <thead>\n",
       "    <tr style=\"text-align: right;\">\n",
       "      <th></th>\n",
       "      <th>Decision</th>\n",
       "      <th>State</th>\n",
       "      <th>GPA</th>\n",
       "      <th>WorkExp</th>\n",
       "      <th>TestScore</th>\n",
       "      <th>WritingScore</th>\n",
       "      <th>Gender</th>\n",
       "      <th>VolunteerLevel</th>\n",
       "      <th>AdmitRate</th>\n",
       "      <th>WaitlistRate</th>\n",
       "      <th>DeclineRate</th>\n",
       "    </tr>\n",
       "  </thead>\n",
       "  <tbody>\n",
       "    <tr>\n",
       "      <th>0</th>\n",
       "      <td>Waitlist</td>\n",
       "      <td>Alabama</td>\n",
       "      <td>3.41</td>\n",
       "      <td>1.2</td>\n",
       "      <td>868</td>\n",
       "      <td>85</td>\n",
       "      <td>Female</td>\n",
       "      <td>0</td>\n",
       "      <td>0.0</td>\n",
       "      <td>100.000000</td>\n",
       "      <td>0.000000</td>\n",
       "    </tr>\n",
       "    <tr>\n",
       "      <th>1</th>\n",
       "      <td>Admit</td>\n",
       "      <td>California</td>\n",
       "      <td>3.90</td>\n",
       "      <td>6.7</td>\n",
       "      <td>962</td>\n",
       "      <td>100</td>\n",
       "      <td>Male</td>\n",
       "      <td>0</td>\n",
       "      <td>75.0</td>\n",
       "      <td>16.666667</td>\n",
       "      <td>8.333333</td>\n",
       "    </tr>\n",
       "    <tr>\n",
       "      <th>2</th>\n",
       "      <td>Admit</td>\n",
       "      <td>California</td>\n",
       "      <td>3.88</td>\n",
       "      <td>1.5</td>\n",
       "      <td>967</td>\n",
       "      <td>95</td>\n",
       "      <td>Male</td>\n",
       "      <td>5</td>\n",
       "      <td>75.0</td>\n",
       "      <td>16.666667</td>\n",
       "      <td>8.333333</td>\n",
       "    </tr>\n",
       "    <tr>\n",
       "      <th>3</th>\n",
       "      <td>Admit</td>\n",
       "      <td>California</td>\n",
       "      <td>3.70</td>\n",
       "      <td>1.2</td>\n",
       "      <td>969</td>\n",
       "      <td>94</td>\n",
       "      <td>Male</td>\n",
       "      <td>2</td>\n",
       "      <td>75.0</td>\n",
       "      <td>16.666667</td>\n",
       "      <td>8.333333</td>\n",
       "    </tr>\n",
       "    <tr>\n",
       "      <th>4</th>\n",
       "      <td>Admit</td>\n",
       "      <td>California</td>\n",
       "      <td>3.70</td>\n",
       "      <td>1.4</td>\n",
       "      <td>966</td>\n",
       "      <td>94</td>\n",
       "      <td>Male</td>\n",
       "      <td>0</td>\n",
       "      <td>75.0</td>\n",
       "      <td>16.666667</td>\n",
       "      <td>8.333333</td>\n",
       "    </tr>\n",
       "  </tbody>\n",
       "</table>\n",
       "</div>"
      ],
      "text/plain": [
       "   Decision       State   GPA  WorkExp  TestScore  WritingScore  Gender  \\\n",
       "0  Waitlist     Alabama  3.41      1.2        868            85  Female   \n",
       "1     Admit  California  3.90      6.7        962           100    Male   \n",
       "2     Admit  California  3.88      1.5        967            95    Male   \n",
       "3     Admit  California  3.70      1.2        969            94    Male   \n",
       "4     Admit  California  3.70      1.4        966            94    Male   \n",
       "\n",
       "   VolunteerLevel  AdmitRate  WaitlistRate  DeclineRate  \n",
       "0               0        0.0    100.000000     0.000000  \n",
       "1               0       75.0     16.666667     8.333333  \n",
       "2               5       75.0     16.666667     8.333333  \n",
       "3               2       75.0     16.666667     8.333333  \n",
       "4               0       75.0     16.666667     8.333333  "
      ]
     },
     "execution_count": 221,
     "metadata": {},
     "output_type": "execute_result"
    }
   ],
   "source": [
    "# Adding per state admission rates\n",
    "for s in df[\"State\"].unique():\n",
    "    curr = df[df[\"State\"] == s]\n",
    "    admit_count = curr[curr[\"Decision\"] == \"Admit\"].shape[0]\n",
    "    wait_count = curr[curr[\"Decision\"] == \"Waitlist\"].shape[0]\n",
    "    decline_count = curr[curr[\"Decision\"] == \"Decline\"].shape[0]\n",
    "    df.loc[df[\"State\"] == s, \"AdmitRate\"] = (admit_count/curr.shape[0]) * 100\n",
    "    df.loc[df[\"State\"] == s, \"WaitlistRate\"] = (wait_count/curr.shape[0]) * 100\n",
    "    df.loc[df[\"State\"] == s, \"DeclineRate\"] = (decline_count/curr.shape[0]) * 100\n",
    "df.head()"
   ]
  },
  {
   "cell_type": "code",
   "execution_count": 222,
   "metadata": {},
   "outputs": [
    {
     "data": {
      "text/html": [
       "<div>\n",
       "<style scoped>\n",
       "    .dataframe tbody tr th:only-of-type {\n",
       "        vertical-align: middle;\n",
       "    }\n",
       "\n",
       "    .dataframe tbody tr th {\n",
       "        vertical-align: top;\n",
       "    }\n",
       "\n",
       "    .dataframe thead th {\n",
       "        text-align: right;\n",
       "    }\n",
       "</style>\n",
       "<table border=\"1\" class=\"dataframe\">\n",
       "  <thead>\n",
       "    <tr style=\"text-align: right;\">\n",
       "      <th></th>\n",
       "      <th>State</th>\n",
       "      <th>AdmitRate</th>\n",
       "      <th>WaitlistRate</th>\n",
       "      <th>DeclineRate</th>\n",
       "      <th>GPA</th>\n",
       "      <th>TestScore</th>\n",
       "      <th>WritingScore</th>\n",
       "      <th>VolunteerLevel</th>\n",
       "      <th>StateID</th>\n",
       "    </tr>\n",
       "  </thead>\n",
       "  <tbody>\n",
       "    <tr>\n",
       "      <th>0</th>\n",
       "      <td>Alabama</td>\n",
       "      <td>0.000000</td>\n",
       "      <td>100.000000</td>\n",
       "      <td>0.000000</td>\n",
       "      <td>3.410000</td>\n",
       "      <td>868.000000</td>\n",
       "      <td>85.000000</td>\n",
       "      <td>0.000000</td>\n",
       "      <td>1</td>\n",
       "    </tr>\n",
       "    <tr>\n",
       "      <th>1</th>\n",
       "      <td>California</td>\n",
       "      <td>75.000000</td>\n",
       "      <td>16.666667</td>\n",
       "      <td>8.333333</td>\n",
       "      <td>3.600833</td>\n",
       "      <td>916.166667</td>\n",
       "      <td>90.833333</td>\n",
       "      <td>2.666667</td>\n",
       "      <td>6</td>\n",
       "    </tr>\n",
       "    <tr>\n",
       "      <th>2</th>\n",
       "      <td>Colorado</td>\n",
       "      <td>44.444444</td>\n",
       "      <td>22.222222</td>\n",
       "      <td>33.333333</td>\n",
       "      <td>3.467222</td>\n",
       "      <td>877.055556</td>\n",
       "      <td>80.000000</td>\n",
       "      <td>2.444444</td>\n",
       "      <td>8</td>\n",
       "    </tr>\n",
       "    <tr>\n",
       "      <th>3</th>\n",
       "      <td>Florida</td>\n",
       "      <td>31.428571</td>\n",
       "      <td>31.428571</td>\n",
       "      <td>37.142857</td>\n",
       "      <td>3.559143</td>\n",
       "      <td>872.571429</td>\n",
       "      <td>80.428571</td>\n",
       "      <td>2.457143</td>\n",
       "      <td>12</td>\n",
       "    </tr>\n",
       "    <tr>\n",
       "      <th>4</th>\n",
       "      <td>Mississippi</td>\n",
       "      <td>0.000000</td>\n",
       "      <td>0.000000</td>\n",
       "      <td>100.000000</td>\n",
       "      <td>2.910000</td>\n",
       "      <td>753.000000</td>\n",
       "      <td>77.000000</td>\n",
       "      <td>1.000000</td>\n",
       "      <td>28</td>\n",
       "    </tr>\n",
       "    <tr>\n",
       "      <th>5</th>\n",
       "      <td>New York</td>\n",
       "      <td>0.000000</td>\n",
       "      <td>100.000000</td>\n",
       "      <td>0.000000</td>\n",
       "      <td>3.550000</td>\n",
       "      <td>866.000000</td>\n",
       "      <td>74.000000</td>\n",
       "      <td>1.000000</td>\n",
       "      <td>36</td>\n",
       "    </tr>\n",
       "    <tr>\n",
       "      <th>6</th>\n",
       "      <td>Oregon</td>\n",
       "      <td>0.000000</td>\n",
       "      <td>0.000000</td>\n",
       "      <td>100.000000</td>\n",
       "      <td>2.900000</td>\n",
       "      <td>769.000000</td>\n",
       "      <td>87.000000</td>\n",
       "      <td>4.000000</td>\n",
       "      <td>41</td>\n",
       "    </tr>\n",
       "    <tr>\n",
       "      <th>7</th>\n",
       "      <td>Utah</td>\n",
       "      <td>16.666667</td>\n",
       "      <td>50.000000</td>\n",
       "      <td>33.333333</td>\n",
       "      <td>3.443333</td>\n",
       "      <td>850.666667</td>\n",
       "      <td>78.333333</td>\n",
       "      <td>2.500000</td>\n",
       "      <td>49</td>\n",
       "    </tr>\n",
       "    <tr>\n",
       "      <th>8</th>\n",
       "      <td>Vermont</td>\n",
       "      <td>0.000000</td>\n",
       "      <td>100.000000</td>\n",
       "      <td>0.000000</td>\n",
       "      <td>3.530000</td>\n",
       "      <td>862.000000</td>\n",
       "      <td>85.000000</td>\n",
       "      <td>1.000000</td>\n",
       "      <td>50</td>\n",
       "    </tr>\n",
       "    <tr>\n",
       "      <th>9</th>\n",
       "      <td>Virginia</td>\n",
       "      <td>0.000000</td>\n",
       "      <td>0.000000</td>\n",
       "      <td>100.000000</td>\n",
       "      <td>3.142500</td>\n",
       "      <td>766.000000</td>\n",
       "      <td>76.500000</td>\n",
       "      <td>3.250000</td>\n",
       "      <td>51</td>\n",
       "    </tr>\n",
       "  </tbody>\n",
       "</table>\n",
       "</div>"
      ],
      "text/plain": [
       "         State  AdmitRate  WaitlistRate  DeclineRate       GPA   TestScore  \\\n",
       "0      Alabama   0.000000    100.000000     0.000000  3.410000  868.000000   \n",
       "1   California  75.000000     16.666667     8.333333  3.600833  916.166667   \n",
       "2     Colorado  44.444444     22.222222    33.333333  3.467222  877.055556   \n",
       "3      Florida  31.428571     31.428571    37.142857  3.559143  872.571429   \n",
       "4  Mississippi   0.000000      0.000000   100.000000  2.910000  753.000000   \n",
       "5     New York   0.000000    100.000000     0.000000  3.550000  866.000000   \n",
       "6       Oregon   0.000000      0.000000   100.000000  2.900000  769.000000   \n",
       "7         Utah  16.666667     50.000000    33.333333  3.443333  850.666667   \n",
       "8      Vermont   0.000000    100.000000     0.000000  3.530000  862.000000   \n",
       "9     Virginia   0.000000      0.000000   100.000000  3.142500  766.000000   \n",
       "\n",
       "   WritingScore  VolunteerLevel  StateID  \n",
       "0     85.000000        0.000000        1  \n",
       "1     90.833333        2.666667        6  \n",
       "2     80.000000        2.444444        8  \n",
       "3     80.428571        2.457143       12  \n",
       "4     77.000000        1.000000       28  \n",
       "5     74.000000        1.000000       36  \n",
       "6     87.000000        4.000000       41  \n",
       "7     78.333333        2.500000       49  \n",
       "8     85.000000        1.000000       50  \n",
       "9     76.500000        3.250000       51  "
      ]
     },
     "execution_count": 222,
     "metadata": {},
     "output_type": "execute_result"
    }
   ],
   "source": [
    "# Get relevant column averages by state\n",
    "averages_by_state = df.groupby('State')[[\"AdmitRate\", \"WaitlistRate\", \"DeclineRate\", \"GPA\", \"TestScore\", \"WritingScore\", \"VolunteerLevel\"]].mean().reset_index()\n",
    "state_id_dict = dict(zip(data.population_engineers_hurricanes()[\"state\"], data.population_engineers_hurricanes()[\"id\"]))\n",
    "# Map state ids\n",
    "averages_by_state[\"StateID\"] = averages_by_state[\"State\"].map(state_id_dict)\n",
    "averages_by_state"
   ]
  },
  {
   "cell_type": "code",
   "execution_count": 223,
   "metadata": {},
   "outputs": [
    {
     "name": "stderr",
     "output_type": "stream",
     "text": [
      "/Users/miamayerhofer/opt/anaconda3/envs/dsan6600/lib/python3.11/site-packages/altair/utils/deprecation.py:65: AltairDeprecationWarning:\n",
      "\n",
      "'selection_multi' is deprecated.  Use 'selection_point'\n",
      "\n",
      "/Users/miamayerhofer/opt/anaconda3/envs/dsan6600/lib/python3.11/site-packages/altair/utils/deprecation.py:65: AltairDeprecationWarning:\n",
      "\n",
      "'add_selection' is deprecated. Use 'add_params' instead.\n",
      "\n",
      "/Users/miamayerhofer/opt/anaconda3/envs/dsan6600/lib/python3.11/site-packages/altair/utils/deprecation.py:65: AltairDeprecationWarning:\n",
      "\n",
      "'add_selection' is deprecated. Use 'add_params' instead.\n",
      "\n"
     ]
    },
    {
     "data": {
      "text/html": [
       "\n",
       "<style>\n",
       "  #altair-viz-3c436bfb8a5a42eb96b04f106a609174.vega-embed {\n",
       "    width: 100%;\n",
       "    display: flex;\n",
       "  }\n",
       "\n",
       "  #altair-viz-3c436bfb8a5a42eb96b04f106a609174.vega-embed details,\n",
       "  #altair-viz-3c436bfb8a5a42eb96b04f106a609174.vega-embed details summary {\n",
       "    position: relative;\n",
       "  }\n",
       "</style>\n",
       "<div id=\"altair-viz-3c436bfb8a5a42eb96b04f106a609174\"></div>\n",
       "<script type=\"text/javascript\">\n",
       "  var VEGA_DEBUG = (typeof VEGA_DEBUG == \"undefined\") ? {} : VEGA_DEBUG;\n",
       "  (function(spec, embedOpt){\n",
       "    let outputDiv = document.currentScript.previousElementSibling;\n",
       "    if (outputDiv.id !== \"altair-viz-3c436bfb8a5a42eb96b04f106a609174\") {\n",
       "      outputDiv = document.getElementById(\"altair-viz-3c436bfb8a5a42eb96b04f106a609174\");\n",
       "    }\n",
       "    const paths = {\n",
       "      \"vega\": \"https://cdn.jsdelivr.net/npm/vega@5?noext\",\n",
       "      \"vega-lib\": \"https://cdn.jsdelivr.net/npm/vega-lib?noext\",\n",
       "      \"vega-lite\": \"https://cdn.jsdelivr.net/npm/vega-lite@5.16.3?noext\",\n",
       "      \"vega-embed\": \"https://cdn.jsdelivr.net/npm/vega-embed@6?noext\",\n",
       "    };\n",
       "\n",
       "    function maybeLoadScript(lib, version) {\n",
       "      var key = `${lib.replace(\"-\", \"\")}_version`;\n",
       "      return (VEGA_DEBUG[key] == version) ?\n",
       "        Promise.resolve(paths[lib]) :\n",
       "        new Promise(function(resolve, reject) {\n",
       "          var s = document.createElement('script');\n",
       "          document.getElementsByTagName(\"head\")[0].appendChild(s);\n",
       "          s.async = true;\n",
       "          s.onload = () => {\n",
       "            VEGA_DEBUG[key] = version;\n",
       "            return resolve(paths[lib]);\n",
       "          };\n",
       "          s.onerror = () => reject(`Error loading script: ${paths[lib]}`);\n",
       "          s.src = paths[lib];\n",
       "        });\n",
       "    }\n",
       "\n",
       "    function showError(err) {\n",
       "      outputDiv.innerHTML = `<div class=\"error\" style=\"color:red;\">${err}</div>`;\n",
       "      throw err;\n",
       "    }\n",
       "\n",
       "    function displayChart(vegaEmbed) {\n",
       "      vegaEmbed(outputDiv, spec, embedOpt)\n",
       "        .catch(err => showError(`Javascript Error: ${err.message}<br>This usually means there's a typo in your chart specification. See the javascript console for the full traceback.`));\n",
       "    }\n",
       "\n",
       "    if(typeof define === \"function\" && define.amd) {\n",
       "      requirejs.config({paths});\n",
       "      require([\"vega-embed\"], displayChart, err => showError(`Error loading script: ${err.message}`));\n",
       "    } else {\n",
       "      maybeLoadScript(\"vega\", \"5\")\n",
       "        .then(() => maybeLoadScript(\"vega-lite\", \"5.16.3\"))\n",
       "        .then(() => maybeLoadScript(\"vega-embed\", \"6\"))\n",
       "        .catch(showError)\n",
       "        .then(() => displayChart(vegaEmbed));\n",
       "    }\n",
       "  })({\"config\": {\"view\": {\"continuousWidth\": 300, \"continuousHeight\": 300}}, \"vconcat\": [{\"layer\": [{\"mark\": {\"type\": \"geoshape\"}, \"encoding\": {\"color\": {\"field\": \"AdmitRate\", \"type\": \"quantitative\"}, \"opacity\": {\"condition\": {\"test\": \"isValid(datum.AdmitRate)\", \"value\": 1}, \"value\": 0.2}, \"tooltip\": [{\"field\": \"State\", \"type\": \"nominal\"}, {\"field\": \"AdmitRate\", \"type\": \"quantitative\"}]}, \"name\": \"view_3\", \"projection\": {\"type\": \"albersUsa\"}, \"transform\": [{\"lookup\": \"id\", \"from\": {\"data\": {\"name\": \"data-78384b042c2d4e9686b43e61521100ca\"}, \"key\": \"StateID\", \"fields\": [\"State\", \"AdmitRate\", \"WaitlistRate\", \"DeclineRate\", \"GPA\", \"TestScore\", \"WritingScore\", \"VolunteerLevel\", \"StateID\"]}}]}, {\"mark\": {\"type\": \"geoshape\", \"fill\": \"lightgrey\", \"stroke\": \"white\"}, \"encoding\": {\"opacity\": {\"condition\": {\"test\": \"isValid(datum.AdmitRate)\", \"value\": 0}, \"value\": 0.2}}, \"projection\": {\"type\": \"albersUsa\"}}], \"data\": {\"url\": \"https://raw.githubusercontent.com/vega/vega-datasets/master/data/us-10m.json\", \"format\": {\"feature\": \"states\", \"type\": \"topojson\"}}, \"height\": 300, \"width\": 500}, {\"data\": {\"name\": \"data-03670c04bad4409bf0f96b6f84f6cdd2\"}, \"mark\": {\"type\": \"bar\"}, \"encoding\": {\"color\": {\"field\": \"AdmitRate\", \"type\": \"quantitative\"}, \"opacity\": {\"condition\": {\"param\": \"param_2\", \"value\": 1}, \"value\": 0.2}, \"x\": {\"field\": \"AdmitRate\", \"type\": \"quantitative\"}, \"y\": {\"field\": \"State\", \"sort\": \"x\", \"type\": \"nominal\"}}, \"name\": \"view_4\", \"title\": \"Top States by Admission Rate\"}], \"params\": [{\"name\": \"param_2\", \"select\": {\"type\": \"point\", \"fields\": [\"State\"]}, \"views\": [\"view_3\", \"view_4\"]}], \"$schema\": \"https://vega.github.io/schema/vega-lite/v5.16.3.json\", \"datasets\": {\"data-78384b042c2d4e9686b43e61521100ca\": [{\"State\": \"Alabama\", \"AdmitRate\": 0.0, \"WaitlistRate\": 100.0, \"DeclineRate\": 0.0, \"GPA\": 3.41, \"TestScore\": 868.0, \"WritingScore\": 85.0, \"VolunteerLevel\": 0.0, \"StateID\": 1}, {\"State\": \"California\", \"AdmitRate\": 75.0, \"WaitlistRate\": 16.666666666666664, \"DeclineRate\": 8.333333333333332, \"GPA\": 3.6008333333333336, \"TestScore\": 916.1666666666666, \"WritingScore\": 90.83333333333333, \"VolunteerLevel\": 2.6666666666666665, \"StateID\": 6}, {\"State\": \"Colorado\", \"AdmitRate\": 44.44444444444444, \"WaitlistRate\": 22.22222222222222, \"DeclineRate\": 33.33333333333333, \"GPA\": 3.467222222222222, \"TestScore\": 877.0555555555555, \"WritingScore\": 80.0, \"VolunteerLevel\": 2.4444444444444446, \"StateID\": 8}, {\"State\": \"Florida\", \"AdmitRate\": 31.428571428571427, \"WaitlistRate\": 31.428571428571427, \"DeclineRate\": 37.142857142857146, \"GPA\": 3.559142857142857, \"TestScore\": 872.5714285714286, \"WritingScore\": 80.42857142857143, \"VolunteerLevel\": 2.4571428571428573, \"StateID\": 12}, {\"State\": \"Mississippi\", \"AdmitRate\": 0.0, \"WaitlistRate\": 0.0, \"DeclineRate\": 100.0, \"GPA\": 2.91, \"TestScore\": 753.0, \"WritingScore\": 77.0, \"VolunteerLevel\": 1.0, \"StateID\": 28}, {\"State\": \"New York\", \"AdmitRate\": 0.0, \"WaitlistRate\": 100.0, \"DeclineRate\": 0.0, \"GPA\": 3.55, \"TestScore\": 866.0, \"WritingScore\": 74.0, \"VolunteerLevel\": 1.0, \"StateID\": 36}, {\"State\": \"Oregon\", \"AdmitRate\": 0.0, \"WaitlistRate\": 0.0, \"DeclineRate\": 100.0, \"GPA\": 2.9, \"TestScore\": 769.0, \"WritingScore\": 87.0, \"VolunteerLevel\": 4.0, \"StateID\": 41}, {\"State\": \"Utah\", \"AdmitRate\": 16.666666666666664, \"WaitlistRate\": 50.0, \"DeclineRate\": 33.33333333333333, \"GPA\": 3.4433333333333334, \"TestScore\": 850.6666666666666, \"WritingScore\": 78.33333333333333, \"VolunteerLevel\": 2.5, \"StateID\": 49}, {\"State\": \"Vermont\", \"AdmitRate\": 0.0, \"WaitlistRate\": 100.0, \"DeclineRate\": 0.0, \"GPA\": 3.53, \"TestScore\": 862.0, \"WritingScore\": 85.0, \"VolunteerLevel\": 1.0, \"StateID\": 50}, {\"State\": \"Virginia\", \"AdmitRate\": 0.0, \"WaitlistRate\": 0.0, \"DeclineRate\": 100.0, \"GPA\": 3.1425, \"TestScore\": 766.0, \"WritingScore\": 76.5, \"VolunteerLevel\": 3.25, \"StateID\": 51}], \"data-03670c04bad4409bf0f96b6f84f6cdd2\": [{\"State\": \"California\", \"AdmitRate\": 75.0, \"WaitlistRate\": 16.666666666666664, \"DeclineRate\": 8.333333333333332, \"GPA\": 3.6008333333333336, \"TestScore\": 916.1666666666666, \"WritingScore\": 90.83333333333333, \"VolunteerLevel\": 2.6666666666666665, \"StateID\": 6}, {\"State\": \"Colorado\", \"AdmitRate\": 44.44444444444444, \"WaitlistRate\": 22.22222222222222, \"DeclineRate\": 33.33333333333333, \"GPA\": 3.467222222222222, \"TestScore\": 877.0555555555555, \"WritingScore\": 80.0, \"VolunteerLevel\": 2.4444444444444446, \"StateID\": 8}, {\"State\": \"Florida\", \"AdmitRate\": 31.428571428571427, \"WaitlistRate\": 31.428571428571427, \"DeclineRate\": 37.142857142857146, \"GPA\": 3.559142857142857, \"TestScore\": 872.5714285714286, \"WritingScore\": 80.42857142857143, \"VolunteerLevel\": 2.4571428571428573, \"StateID\": 12}, {\"State\": \"Utah\", \"AdmitRate\": 16.666666666666664, \"WaitlistRate\": 50.0, \"DeclineRate\": 33.33333333333333, \"GPA\": 3.4433333333333334, \"TestScore\": 850.6666666666666, \"WritingScore\": 78.33333333333333, \"VolunteerLevel\": 2.5, \"StateID\": 49}, {\"State\": \"Alabama\", \"AdmitRate\": 0.0, \"WaitlistRate\": 100.0, \"DeclineRate\": 0.0, \"GPA\": 3.41, \"TestScore\": 868.0, \"WritingScore\": 85.0, \"VolunteerLevel\": 0.0, \"StateID\": 1}, {\"State\": \"Mississippi\", \"AdmitRate\": 0.0, \"WaitlistRate\": 0.0, \"DeclineRate\": 100.0, \"GPA\": 2.91, \"TestScore\": 753.0, \"WritingScore\": 77.0, \"VolunteerLevel\": 1.0, \"StateID\": 28}, {\"State\": \"New York\", \"AdmitRate\": 0.0, \"WaitlistRate\": 100.0, \"DeclineRate\": 0.0, \"GPA\": 3.55, \"TestScore\": 866.0, \"WritingScore\": 74.0, \"VolunteerLevel\": 1.0, \"StateID\": 36}, {\"State\": \"Oregon\", \"AdmitRate\": 0.0, \"WaitlistRate\": 0.0, \"DeclineRate\": 100.0, \"GPA\": 2.9, \"TestScore\": 769.0, \"WritingScore\": 87.0, \"VolunteerLevel\": 4.0, \"StateID\": 41}, {\"State\": \"Vermont\", \"AdmitRate\": 0.0, \"WaitlistRate\": 100.0, \"DeclineRate\": 0.0, \"GPA\": 3.53, \"TestScore\": 862.0, \"WritingScore\": 85.0, \"VolunteerLevel\": 1.0, \"StateID\": 50}, {\"State\": \"Virginia\", \"AdmitRate\": 0.0, \"WaitlistRate\": 0.0, \"DeclineRate\": 100.0, \"GPA\": 3.1425, \"TestScore\": 766.0, \"WritingScore\": 76.5, \"VolunteerLevel\": 3.25, \"StateID\": 51}]}}, {\"mode\": \"vega-lite\"});\n",
       "</script>"
      ],
      "text/plain": [
       "alt.VConcatChart(...)"
      ]
     },
     "execution_count": 223,
     "metadata": {},
     "output_type": "execute_result"
    }
   ],
   "source": [
    "states = alt.topo_feature('https://raw.githubusercontent.com/vega/vega-datasets/master/data/us-10m.json', 'states')\n",
    "click = alt.selection_multi(fields = [\"State\"])\n",
    "\n",
    "existing_states = alt.Chart(states).mark_geoshape().encode(\n",
    "    color = \"AdmitRate:Q\",\n",
    "    tooltip = [\"State:N\", \"AdmitRate:Q\"],\n",
    "    opacity = alt.condition('isValid(datum.AdmitRate)', alt.value(1), alt.value(0.2)),\n",
    ").transform_lookup(\n",
    "    lookup = \"id\",\n",
    "    from_ = alt.LookupData(averages_by_state, \"StateID\", list(averages_by_state.columns))\n",
    ").properties(width = 500, height = 300).add_selection(click).project(type = \"albersUsa\")\n",
    "\n",
    "missing_states = (\n",
    "    alt.Chart(states)\n",
    "    .mark_geoshape(fill = \"lightgrey\", stroke = \"white\")\n",
    "    .encode(opacity=alt.condition(\"isValid(datum.AdmitRate)\", alt.value(0), alt.value(0.2))).add_selection(click).project(type = \"albersUsa\"))\n",
    "\n",
    "full_map = existing_states + missing_states\n",
    "\n",
    "bars = (\n",
    "    alt.Chart(\n",
    "        averages_by_state.nlargest(50, \"AdmitRate\"),\n",
    "        title = \"Top States by Admission Rate\").mark_bar().encode(\n",
    "    x = \"AdmitRate\",\n",
    "    opacity = alt.condition(click, alt.value(1), alt.value(0.2)),\n",
    "    color = \"AdmitRate\",\n",
    "    y = alt.Y(\"State\", sort = \"x\"))\n",
    ".add_selection(click))\n",
    "\n",
    "full_map & bars"
   ]
  },
  {
   "cell_type": "markdown",
   "metadata": {},
   "source": [
    "### Chi-Sq/Fishers-Exact"
   ]
  },
  {
   "cell_type": "code",
   "execution_count": 232,
   "metadata": {},
   "outputs": [
    {
     "name": "stdout",
     "output_type": "stream",
     "text": [
      "Odds Ratio: 1.0833333333333333\n",
      "P-value: 1.0\n",
      "Chi-squared Statistic: 0.023444060282783778\n",
      "P-value: 0.9883464051925749\n"
     ]
    }
   ],
   "source": [
    "from scipy.stats import fisher_exact, chi2_contingency\n",
    "\n",
    "cont_table = pd.crosstab(df[\"Gender\"], df[\"Decision\"])\n",
    "cont_table_small = cont_table[[\"Admit\", \"Decline\"]]\n",
    "odds_ratio, p_value_fish = fisher_exact(cont_table_small)\n",
    "chi2_stat, p_value_chi2, _, _ = chi2_contingency(cont_table)\n",
    "print(\"Odds Ratio:\", odds_ratio)\n",
    "print(\"P-value:\", p_value_fish)\n",
    "\n",
    "print(\"Chi-squared Statistic:\", chi2_stat)\n",
    "print(\"P-value:\", p_value_chi2)"
   ]
  },
  {
   "cell_type": "code",
   "execution_count": null,
   "metadata": {},
   "outputs": [],
   "source": []
  }
 ],
 "metadata": {
  "kernelspec": {
   "display_name": "Python 3.11.4 ('dsan6600')",
   "language": "python",
   "name": "python3"
  },
  "language_info": {
   "codemirror_mode": {
    "name": "ipython",
    "version": 3
   },
   "file_extension": ".py",
   "mimetype": "text/x-python",
   "name": "python",
   "nbconvert_exporter": "python",
   "pygments_lexer": "ipython3",
   "version": "3.11.4"
  },
  "orig_nbformat": 4,
  "vscode": {
   "interpreter": {
    "hash": "10728f175b8993090ce876d3431bcd0dc9425a45ffbaa137cb3fc90a15ff786e"
   }
  }
 },
 "nbformat": 4,
 "nbformat_minor": 2
}
